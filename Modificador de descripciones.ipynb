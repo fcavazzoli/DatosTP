{
 "cells": [
  {
   "cell_type": "code",
   "execution_count": 1,
   "metadata": {},
   "outputs": [],
   "source": [
    "import datetime as datetime\n",
    "import pandas as pd\n",
    "import numpy as np\n",
    "import csv \n",
    "import re\n",
    "import matplotlib.pyplot as plt\n",
    "from IPython.display import Image"
   ]
  },
  {
   "cell_type": "code",
   "execution_count": 2,
   "metadata": {},
   "outputs": [],
   "source": [
    "import pyspark\n",
    "\n",
    "try: \n",
    "    type(sc)\n",
    "except NameError:\n",
    "    sc = pyspark.SparkContext('local[*]')"
   ]
  },
  {
   "cell_type": "code",
   "execution_count": 3,
   "metadata": {},
   "outputs": [
    {
     "data": {
      "text/html": [
       "<div>\n",
       "<style scoped>\n",
       "    .dataframe tbody tr th:only-of-type {\n",
       "        vertical-align: middle;\n",
       "    }\n",
       "\n",
       "    .dataframe tbody tr th {\n",
       "        vertical-align: top;\n",
       "    }\n",
       "\n",
       "    .dataframe thead th {\n",
       "        text-align: right;\n",
       "    }\n",
       "</style>\n",
       "<table border=\"1\" class=\"dataframe\">\n",
       "  <thead>\n",
       "    <tr style=\"text-align: right;\">\n",
       "      <th></th>\n",
       "      <th>idaviso</th>\n",
       "      <th>idpais</th>\n",
       "      <th>titulo</th>\n",
       "      <th>descripcion</th>\n",
       "      <th>nombre_zona</th>\n",
       "      <th>ciudad</th>\n",
       "      <th>mapacalle</th>\n",
       "      <th>tipo_de_trabajo</th>\n",
       "      <th>nivel_laboral</th>\n",
       "      <th>nombre_area</th>\n",
       "      <th>denominacion_empresa</th>\n",
       "    </tr>\n",
       "  </thead>\n",
       "  <tbody>\n",
       "    <tr>\n",
       "      <th>0</th>\n",
       "      <td>1111556097</td>\n",
       "      <td>1</td>\n",
       "      <td>Responsable de Marketing-Producto Div. Constru...</td>\n",
       "      <td>&lt;p&gt;Buscamos un &lt;strong&gt;Responsable de Producto...</td>\n",
       "      <td>Gran Buenos Aires</td>\n",
       "      <td>NaN</td>\n",
       "      <td>NaN</td>\n",
       "      <td>Full-time</td>\n",
       "      <td>Senior / Semi-Senior</td>\n",
       "      <td>Desarrollo de Negocios</td>\n",
       "      <td>Sinteplast S.A.</td>\n",
       "    </tr>\n",
       "    <tr>\n",
       "      <th>1</th>\n",
       "      <td>1111949392</td>\n",
       "      <td>1</td>\n",
       "      <td>Asesor de Servicios - Postventa Chevrolet</td>\n",
       "      <td>&lt;p&gt;&lt;span style=\"\"&gt;Para nuestro cliente, conces...</td>\n",
       "      <td>Gran Buenos Aires</td>\n",
       "      <td>NaN</td>\n",
       "      <td>NaN</td>\n",
       "      <td>Full-time</td>\n",
       "      <td>Senior / Semi-Senior</td>\n",
       "      <td>Ingeniería  Eléctrica y Electrónica</td>\n",
       "      <td>Roycan</td>\n",
       "    </tr>\n",
       "    <tr>\n",
       "      <th>2</th>\n",
       "      <td>1112145935</td>\n",
       "      <td>1</td>\n",
       "      <td>Analistas de Impuestos Sr Ssr y Jr</td>\n",
       "      <td>&lt;p&gt;Importante Estudio de Auditoria y Consultor...</td>\n",
       "      <td>Gran Buenos Aires</td>\n",
       "      <td>NaN</td>\n",
       "      <td>NaN</td>\n",
       "      <td>Full-time</td>\n",
       "      <td>Senior / Semi-Senior</td>\n",
       "      <td>Impuestos</td>\n",
       "      <td>Lighthouse Smart</td>\n",
       "    </tr>\n",
       "    <tr>\n",
       "      <th>3</th>\n",
       "      <td>1112146010</td>\n",
       "      <td>1</td>\n",
       "      <td>Software Engineer</td>\n",
       "      <td>&lt;p&gt; &lt;/p&gt;&lt;p&gt;Chevron is a multinational company ...</td>\n",
       "      <td>Gran Buenos Aires</td>\n",
       "      <td>NaN</td>\n",
       "      <td>NaN</td>\n",
       "      <td>Full-time</td>\n",
       "      <td>Senior / Semi-Senior</td>\n",
       "      <td>Programación</td>\n",
       "      <td>Chevron Buenos Aires Shared Services Center</td>\n",
       "    </tr>\n",
       "    <tr>\n",
       "      <th>4</th>\n",
       "      <td>1112211475</td>\n",
       "      <td>1</td>\n",
       "      <td>Business Developer Manager</td>\n",
       "      <td>&lt;p&gt;Importante empresa de energías renovables, ...</td>\n",
       "      <td>Gran Buenos Aires</td>\n",
       "      <td>NaN</td>\n",
       "      <td>NaN</td>\n",
       "      <td>Full-time</td>\n",
       "      <td>Senior / Semi-Senior</td>\n",
       "      <td>Comercial</td>\n",
       "      <td>RANDSTAD</td>\n",
       "    </tr>\n",
       "  </tbody>\n",
       "</table>\n",
       "</div>"
      ],
      "text/plain": [
       "      idaviso  idpais                                             titulo  \\\n",
       "0  1111556097       1  Responsable de Marketing-Producto Div. Constru...   \n",
       "1  1111949392       1          Asesor de Servicios - Postventa Chevrolet   \n",
       "2  1112145935       1                 Analistas de Impuestos Sr Ssr y Jr   \n",
       "3  1112146010       1                                  Software Engineer   \n",
       "4  1112211475       1                         Business Developer Manager   \n",
       "\n",
       "                                         descripcion        nombre_zona  \\\n",
       "0  <p>Buscamos un <strong>Responsable de Producto...  Gran Buenos Aires   \n",
       "1  <p><span style=\"\">Para nuestro cliente, conces...  Gran Buenos Aires   \n",
       "2  <p>Importante Estudio de Auditoria y Consultor...  Gran Buenos Aires   \n",
       "3  <p> </p><p>Chevron is a multinational company ...  Gran Buenos Aires   \n",
       "4  <p>Importante empresa de energías renovables, ...  Gran Buenos Aires   \n",
       "\n",
       "  ciudad mapacalle tipo_de_trabajo         nivel_laboral  \\\n",
       "0    NaN       NaN       Full-time  Senior / Semi-Senior   \n",
       "1    NaN       NaN       Full-time  Senior / Semi-Senior   \n",
       "2    NaN       NaN       Full-time  Senior / Semi-Senior   \n",
       "3    NaN       NaN       Full-time  Senior / Semi-Senior   \n",
       "4    NaN       NaN       Full-time  Senior / Semi-Senior   \n",
       "\n",
       "                           nombre_area  \\\n",
       "0               Desarrollo de Negocios   \n",
       "1  Ingeniería  Eléctrica y Electrónica   \n",
       "2                            Impuestos   \n",
       "3                         Programación   \n",
       "4                            Comercial   \n",
       "\n",
       "                          denominacion_empresa  \n",
       "0                              Sinteplast S.A.  \n",
       "1                                       Roycan  \n",
       "2                             Lighthouse Smart  \n",
       "3  Chevron Buenos Aires Shared Services Center  \n",
       "4                                     RANDSTAD  "
      ]
     },
     "execution_count": 3,
     "metadata": {},
     "output_type": "execute_result"
    }
   ],
   "source": [
    "df = pd.read_csv('fiuba_6_avisos_detalle_concat.csv', delimiter=',')\n",
    "tuples = [tuple(x) for x in df.values]\n",
    "df.drop(['Unnamed: 0'],axis=1,inplace=True)\n",
    "df.head()"
   ]
  },
  {
   "cell_type": "code",
   "execution_count": 4,
   "metadata": {},
   "outputs": [],
   "source": [
    "for x in tuples:\n",
    "    x = tuple(x)"
   ]
  },
  {
   "cell_type": "code",
   "execution_count": 5,
   "metadata": {},
   "outputs": [
    {
     "data": {
      "text/plain": [
       "[(0,\n",
       "  1111556097,\n",
       "  1,\n",
       "  'Responsable de Marketing-Producto Div. Construcción -GBA Sur ',\n",
       "  '<p>Buscamos un <strong>Responsable\\xa0de Producto</strong> para incorporarse al departamento de Marketing de la Cía., en nuestras oficinas centrales ubicadas en Planta Ezeiza (C.Spegazzini).</p><p>\\xa0</p><p>Será responsable de una cartera de productos de la línea Construcción.</p><p>Sus tareas incluyen realizar análisis de costos, competencia, acciones promocionales, estrategias de comunicación, políticas de precios, desarrollo de nuevos productos y reportes de gestión, contacto con clientes y solución de necesidades, entre otras.</p><p>Horario de trabajo: de Lunes a Viernes de 8 a 17 hs.</p><p>\\xa0</p><p>Buscamos un profesional graduado\\xa0de las carreras de Arquitectura, Ing. Civil, Marketing, Comercialización, Adm. de empresas o similares, con experiencia afín desarrollada en empresas del rubro (construcción, químicas, etc).</p><p>Se valorarán los conocimientos en idioma inglés,\\xa0sistema SAP y Excel.</p><p>\\xa0</p><p>Ofrecemos la posibilidad de incorporarse a una empresa líder, con presencia a nivel regional, en pleno proceso de expansión. Excelentes condiciones de contratación y muy buen ambiente de trabajo. Estacionamiento + medicina prepaga + gimnasio y comedor en planta gratuitos.\\xa0</p><p>Desde ya agradecemos su postulación</p><p>\\xa0</p><p>Por quinto año consecutivo, Sinteplast es una de las Mejores Empresas para Trabajar en Argentina Great Place to Work 2016</p><p><strong>NUESTRA GENTE HACE LA DIFERENCIA</strong></p>',\n",
       "  'Gran Buenos Aires',\n",
       "  nan,\n",
       "  nan,\n",
       "  'Full-time',\n",
       "  'Senior / Semi-Senior',\n",
       "  'Desarrollo de Negocios',\n",
       "  'Sinteplast S.A.')]"
      ]
     },
     "execution_count": 5,
     "metadata": {},
     "output_type": "execute_result"
    }
   ],
   "source": [
    "avisos = sc.parallelize(tuples)\n",
    "avisos.take(1)"
   ]
  },
  {
   "cell_type": "code",
   "execution_count": 6,
   "metadata": {},
   "outputs": [
    {
     "data": {
      "text/plain": [
       "[(0,\n",
       "  1111556097,\n",
       "  1,\n",
       "  'RESPONSABLE DE MARKETING-PRODUCTO DIV. CONSTRUCCIÓN -GBA SUR ',\n",
       "  ' BUSCAMOS UN  RESPONSABLE DE PRODUCTO  PARA INCORPORARSE AL DEPARTAMENTO DE MARKETING DE LA CÍA., EN NUESTRAS OFICINAS CENTRALES UBICADAS EN PLANTA EZEIZA (C.SPEGAZZINI).     SERÁ RESPONSABLE DE UNA CARTERA DE PRODUCTOS DE LA LÍNEA CONSTRUCCIÓN.  SUS TAREAS INCLUYEN REALIZAR ANÁLISIS DE COSTOS, COMPETENCIA, ACCIONES PROMOCIONALES, ESTRATEGIAS DE COMUNICACIÓN, POLÍTICAS DE PRECIOS, DESARROLLO DE NUEVOS PRODUCTOS Y REPORTES DE GESTIÓN, CONTACTO CON CLIENTES Y SOLUCIÓN DE NECESIDADES, ENTRE OTRAS.  HORARIO DE TRABAJO: DE LUNES A VIERNES DE 8 A 17 HS.     BUSCAMOS UN PROFESIONAL GRADUADO DE LAS CARRERAS DE ARQUITECTURA, ING. CIVIL, MARKETING, COMERCIALIZACIÓN, ADM. DE EMPRESAS O SIMILARES, CON EXPERIENCIA AFÍN DESARROLLADA EN EMPRESAS DEL RUBRO (CONSTRUCCIÓN, QUÍMICAS, ETC).  SE VALORARÁN LOS CONOCIMIENTOS EN IDIOMA INGLÉS, SISTEMA SAP Y EXCEL.     OFRECEMOS LA POSIBILIDAD DE INCORPORARSE A UNA EMPRESA LÍDER, CON PRESENCIA A NIVEL REGIONAL, EN PLENO PROCESO DE EXPANSIÓN. EXCELENTES CONDICIONES DE CONTRATACIÓN Y MUY BUEN AMBIENTE DE TRABAJO. ESTACIONAMIENTO + MEDICINA PREPAGA + GIMNASIO Y COMEDOR EN PLANTA GRATUITOS.   DESDE YA AGRADECEMOS SU POSTULACIÓN     POR QUINTO AÑO CONSECUTIVO, SINTEPLAST ES UNA DE LAS MEJORES EMPRESAS PARA TRABAJAR EN ARGENTINA GREAT PLACE TO WORK 2016   NUESTRA GENTE HACE LA DIFERENCIA  ',\n",
       "  'Gran Buenos Aires',\n",
       "  nan,\n",
       "  nan,\n",
       "  'Full-time',\n",
       "  'Senior / Semi-Senior',\n",
       "  'Desarrollo de Negocios',\n",
       "  'Sinteplast S.A.')]"
      ]
     },
     "execution_count": 6,
     "metadata": {},
     "output_type": "execute_result"
    }
   ],
   "source": [
    "avisos = avisos.map(lambda x: (x[0],x[1],x[2],str.upper(re.sub(\"<.*?>\", \" \", x[3])),str.upper(re.sub(\"<.*?>\", \" \", x[4])),x[5],x[6],x[7],x[8],x[9],x[10],x[11])).map(lambda x: (x[0],x[1],x[2],str(re.sub(\"\\xa0\", \" \", x[3])),str(re.sub(\"\\xa0\", \" \", x[4])),x[5],x[6],x[7],x[8],x[9],x[10],x[11]))\n",
    "avisos.take(1)"
   ]
  },
  {
   "cell_type": "code",
   "execution_count": 7,
   "metadata": {},
   "outputs": [],
   "source": [
    "import re, string, unicodedata\n",
    "def removePunctuation(text):\n",
    "    text=str(text).lower().strip(' ')\n",
    "    text=unicodedata.normalize('NFD', text).encode('ascii','ignore')\n",
    "    text=text.decode('utf-8')\n",
    "    text=re.sub(r'[^a-zA-Z0-9 ]', '', text)   \n",
    "    return text"
   ]
  },
  {
   "cell_type": "code",
   "execution_count": 8,
   "metadata": {},
   "outputs": [],
   "source": [
    "def palabrasLargas(texto):\n",
    "    lista = texto.split(' ') \n",
    "    lista = [x for x in lista if not len(x)>17]\n",
    "    return \" \".join(lista)"
   ]
  },
  {
   "cell_type": "code",
   "execution_count": 9,
   "metadata": {},
   "outputs": [
    {
     "data": {
      "text/plain": [
       "[(0,\n",
       "  1111556097,\n",
       "  1,\n",
       "  'RESPONSABLE DE MARKETING-PRODUCTO DIV. CONSTRUCCIÓN -GBA SUR ',\n",
       "  ' BUSCAMOS UN  RESPONSABLE DE PRODUCTO  PARA INCORPORARSE AL DEPARTAMENTO DE MARKETING DE LA CÍA., EN NUESTRAS OFICINAS CENTRALES UBICADAS EN PLANTA EZEIZA (C.SPEGAZZINI).     SERÁ RESPONSABLE DE UNA CARTERA DE PRODUCTOS DE LA LÍNEA CONSTRUCCIÓN.  SUS TAREAS INCLUYEN REALIZAR ANÁLISIS DE COSTOS, COMPETENCIA, ACCIONES PROMOCIONALES, ESTRATEGIAS DE COMUNICACIÓN, POLÍTICAS DE PRECIOS, DESARROLLO DE NUEVOS PRODUCTOS Y REPORTES DE GESTIÓN, CONTACTO CON CLIENTES Y SOLUCIÓN DE NECESIDADES, ENTRE OTRAS.  HORARIO DE TRABAJO: DE LUNES A VIERNES DE 8 A 17 HS.     BUSCAMOS UN PROFESIONAL GRADUADO DE LAS CARRERAS DE ARQUITECTURA, ING. CIVIL, MARKETING, COMERCIALIZACIÓN, ADM. DE EMPRESAS O SIMILARES, CON EXPERIENCIA AFÍN DESARROLLADA EN EMPRESAS DEL RUBRO (CONSTRUCCIÓN, QUÍMICAS, ETC).  SE VALORARÁN LOS CONOCIMIENTOS EN IDIOMA INGLÉS, SISTEMA SAP Y EXCEL.     OFRECEMOS LA POSIBILIDAD DE INCORPORARSE A UNA EMPRESA LÍDER, CON PRESENCIA A NIVEL REGIONAL, EN PLENO PROCESO DE EXPANSIÓN. EXCELENTES CONDICIONES DE CONTRATACIÓN Y MUY BUEN AMBIENTE DE TRABAJO. ESTACIONAMIENTO + MEDICINA PREPAGA + GIMNASIO Y COMEDOR EN PLANTA GRATUITOS.   DESDE YA AGRADECEMOS SU POSTULACIÓN     POR QUINTO AÑO CONSECUTIVO, SINTEPLAST ES UNA DE LAS MEJORES EMPRESAS PARA TRABAJAR EN ARGENTINA GREAT PLACE TO WORK 2016   NUESTRA GENTE HACE LA DIFERENCIA  ',\n",
       "  'Gran Buenos Aires',\n",
       "  nan,\n",
       "  nan,\n",
       "  'Full-time',\n",
       "  'Senior / Semi-Senior',\n",
       "  'Desarrollo de Negocios',\n",
       "  'Sinteplast S.A.')]"
      ]
     },
     "execution_count": 9,
     "metadata": {},
     "output_type": "execute_result"
    }
   ],
   "source": [
    "avisos.take(1)"
   ]
  },
  {
   "cell_type": "code",
   "execution_count": 10,
   "metadata": {},
   "outputs": [],
   "source": [
    "avisos = avisos.map((lambda x: (x[0],x[1],x[2],removePunctuation(x[3]),removePunctuation(x[4]),x[5],x[6],x[7],x[8],x[9],x[10],x[11]))).map((lambda x: (x[0],x[1],x[2],palabrasLargas(x[3]),x[4],x[5],x[6],x[7],x[8], x[9],x[10],x[11]))).collect()"
   ]
  },
  {
   "cell_type": "code",
   "execution_count": 11,
   "metadata": {},
   "outputs": [],
   "source": [
    "avisos = pd.DataFrame.from_records(avisos).drop([0], axis=1)"
   ]
  },
  {
   "cell_type": "code",
   "execution_count": 12,
   "metadata": {},
   "outputs": [
    {
     "data": {
      "text/html": [
       "<div>\n",
       "<style scoped>\n",
       "    .dataframe tbody tr th:only-of-type {\n",
       "        vertical-align: middle;\n",
       "    }\n",
       "\n",
       "    .dataframe tbody tr th {\n",
       "        vertical-align: top;\n",
       "    }\n",
       "\n",
       "    .dataframe thead th {\n",
       "        text-align: right;\n",
       "    }\n",
       "</style>\n",
       "<table border=\"1\" class=\"dataframe\">\n",
       "  <thead>\n",
       "    <tr style=\"text-align: right;\">\n",
       "      <th></th>\n",
       "      <th>idaviso</th>\n",
       "      <th>titulo</th>\n",
       "      <th>descripcion</th>\n",
       "      <th>tipo_de_trabajo</th>\n",
       "      <th>nivel_laboral</th>\n",
       "      <th>nombre_area</th>\n",
       "      <th>denominacion_empresa</th>\n",
       "    </tr>\n",
       "  </thead>\n",
       "  <tbody>\n",
       "    <tr>\n",
       "      <th>0</th>\n",
       "      <td>1111556097</td>\n",
       "      <td>responsable de marketingproducto div construcc...</td>\n",
       "      <td>buscamos un  responsable de producto  para inc...</td>\n",
       "      <td>Full-time</td>\n",
       "      <td>Senior / Semi-Senior</td>\n",
       "      <td>Desarrollo de Negocios</td>\n",
       "      <td>Sinteplast S.A.</td>\n",
       "    </tr>\n",
       "    <tr>\n",
       "      <th>1</th>\n",
       "      <td>1111949392</td>\n",
       "      <td>asesor de servicios  postventa chevrolet</td>\n",
       "      <td>para nuestro cliente concesionario chevrolet u...</td>\n",
       "      <td>Full-time</td>\n",
       "      <td>Senior / Semi-Senior</td>\n",
       "      <td>Ingeniería  Eléctrica y Electrónica</td>\n",
       "      <td>Roycan</td>\n",
       "    </tr>\n",
       "    <tr>\n",
       "      <th>2</th>\n",
       "      <td>1112145935</td>\n",
       "      <td>analistas de impuestos sr ssr y jr</td>\n",
       "      <td>importante estudio de auditoria y consultoria ...</td>\n",
       "      <td>Full-time</td>\n",
       "      <td>Senior / Semi-Senior</td>\n",
       "      <td>Impuestos</td>\n",
       "      <td>Lighthouse Smart</td>\n",
       "    </tr>\n",
       "    <tr>\n",
       "      <th>3</th>\n",
       "      <td>1112146010</td>\n",
       "      <td>software engineer</td>\n",
       "      <td>chevron is a multinational company in the ener...</td>\n",
       "      <td>Full-time</td>\n",
       "      <td>Senior / Semi-Senior</td>\n",
       "      <td>Programación</td>\n",
       "      <td>Chevron Buenos Aires Shared Services Center</td>\n",
       "    </tr>\n",
       "    <tr>\n",
       "      <th>4</th>\n",
       "      <td>1112211475</td>\n",
       "      <td>business developer manager</td>\n",
       "      <td>importante empresa de energias renovables se e...</td>\n",
       "      <td>Full-time</td>\n",
       "      <td>Senior / Semi-Senior</td>\n",
       "      <td>Comercial</td>\n",
       "      <td>RANDSTAD</td>\n",
       "    </tr>\n",
       "  </tbody>\n",
       "</table>\n",
       "</div>"
      ],
      "text/plain": [
       "      idaviso                                             titulo  \\\n",
       "0  1111556097  responsable de marketingproducto div construcc...   \n",
       "1  1111949392           asesor de servicios  postventa chevrolet   \n",
       "2  1112145935                 analistas de impuestos sr ssr y jr   \n",
       "3  1112146010                                  software engineer   \n",
       "4  1112211475                         business developer manager   \n",
       "\n",
       "                                         descripcion tipo_de_trabajo  \\\n",
       "0  buscamos un  responsable de producto  para inc...       Full-time   \n",
       "1  para nuestro cliente concesionario chevrolet u...       Full-time   \n",
       "2  importante estudio de auditoria y consultoria ...       Full-time   \n",
       "3  chevron is a multinational company in the ener...       Full-time   \n",
       "4  importante empresa de energias renovables se e...       Full-time   \n",
       "\n",
       "          nivel_laboral                          nombre_area  \\\n",
       "0  Senior / Semi-Senior               Desarrollo de Negocios   \n",
       "1  Senior / Semi-Senior  Ingeniería  Eléctrica y Electrónica   \n",
       "2  Senior / Semi-Senior                            Impuestos   \n",
       "3  Senior / Semi-Senior                         Programación   \n",
       "4  Senior / Semi-Senior                            Comercial   \n",
       "\n",
       "                          denominacion_empresa  \n",
       "0                              Sinteplast S.A.  \n",
       "1                                       Roycan  \n",
       "2                             Lighthouse Smart  \n",
       "3  Chevron Buenos Aires Shared Services Center  \n",
       "4                                     RANDSTAD  "
      ]
     },
     "execution_count": 12,
     "metadata": {},
     "output_type": "execute_result"
    }
   ],
   "source": [
    "for x in avisos.columns:  \n",
    "    avisos = avisos.rename(columns = {x:df.columns[x-1]})\n",
    "avisos.head()\n",
    "avisos = avisos.drop(['idpais','nombre_zona','mapacalle', 'ciudad'], axis=1)\n",
    "avisos.head()"
   ]
  },
  {
   "cell_type": "code",
   "execution_count": 13,
   "metadata": {},
   "outputs": [
    {
     "data": {
      "text/plain": [
       "(25288, 7)"
      ]
     },
     "execution_count": 13,
     "metadata": {},
     "output_type": "execute_result"
    }
   ],
   "source": []
  },
  {
   "cell_type": "code",
   "execution_count": 14,
   "metadata": {},
   "outputs": [],
   "source": [
    "cluster = pd.read_csv('idaviso-cluster.csv')"
   ]
  },
  {
   "cell_type": "code",
   "execution_count": 15,
   "metadata": {},
   "outputs": [],
   "source": [
    "avisos = avisos.merge(cluster,how='inner',on='idaviso')"
   ]
  },
  {
   "cell_type": "code",
   "execution_count": 16,
   "metadata": {},
   "outputs": [
    {
     "data": {
      "text/html": [
       "<div>\n",
       "<style scoped>\n",
       "    .dataframe tbody tr th:only-of-type {\n",
       "        vertical-align: middle;\n",
       "    }\n",
       "\n",
       "    .dataframe tbody tr th {\n",
       "        vertical-align: top;\n",
       "    }\n",
       "\n",
       "    .dataframe thead th {\n",
       "        text-align: right;\n",
       "    }\n",
       "</style>\n",
       "<table border=\"1\" class=\"dataframe\">\n",
       "  <thead>\n",
       "    <tr style=\"text-align: right;\">\n",
       "      <th></th>\n",
       "      <th>idaviso</th>\n",
       "      <th>titulo</th>\n",
       "      <th>descripcion</th>\n",
       "      <th>tipo_de_trabajo</th>\n",
       "      <th>nivel_laboral</th>\n",
       "      <th>nombre_area</th>\n",
       "      <th>denominacion_empresa</th>\n",
       "      <th>Unnamed: 0</th>\n",
       "      <th>cluster</th>\n",
       "    </tr>\n",
       "  </thead>\n",
       "  <tbody>\n",
       "    <tr>\n",
       "      <th>23035</th>\n",
       "      <td>1112507461</td>\n",
       "      <td>coordinacion de trabajo social para empresa de...</td>\n",
       "      <td>en diaverum nuestra mision es mejorar la calid...</td>\n",
       "      <td>Full-time</td>\n",
       "      <td>Jefe / Supervisor / Responsable</td>\n",
       "      <td>Medicina</td>\n",
       "      <td>DIAVERUM  ARGENTINA S.A.</td>\n",
       "      <td>23035</td>\n",
       "      <td>11</td>\n",
       "    </tr>\n",
       "  </tbody>\n",
       "</table>\n",
       "</div>"
      ],
      "text/plain": [
       "          idaviso                                             titulo  \\\n",
       "23035  1112507461  coordinacion de trabajo social para empresa de...   \n",
       "\n",
       "                                             descripcion tipo_de_trabajo  \\\n",
       "23035  en diaverum nuestra mision es mejorar la calid...       Full-time   \n",
       "\n",
       "                         nivel_laboral nombre_area      denominacion_empresa  \\\n",
       "23035  Jefe / Supervisor / Responsable    Medicina  DIAVERUM  ARGENTINA S.A.   \n",
       "\n",
       "       Unnamed: 0  cluster  \n",
       "23035       23035       11  "
      ]
     },
     "execution_count": 16,
     "metadata": {},
     "output_type": "execute_result"
    }
   ],
   "source": [
    "avisos.sample()"
   ]
  },
  {
   "cell_type": "code",
   "execution_count": 19,
   "metadata": {},
   "outputs": [],
   "source": [
    "avisos.drop(['Unnamed: 0'],axis=1,inplace=True)"
   ]
  },
  {
   "cell_type": "code",
   "execution_count": 20,
   "metadata": {},
   "outputs": [
    {
     "data": {
      "text/plain": [
       "(25288, 8)"
      ]
     },
     "execution_count": 20,
     "metadata": {},
     "output_type": "execute_result"
    }
   ],
   "source": [
    "avisos.shape"
   ]
  },
  {
   "cell_type": "code",
   "execution_count": 21,
   "metadata": {},
   "outputs": [],
   "source": [
    "avisos.to_csv(\"fiuba_6_avisos_detalle_limpio.csv\")"
   ]
  },
  {
   "cell_type": "code",
   "execution_count": 14,
   "metadata": {},
   "outputs": [],
   "source": []
  },
  {
   "cell_type": "code",
   "execution_count": null,
   "metadata": {},
   "outputs": [],
   "source": []
  }
 ],
 "metadata": {
  "kernelspec": {
   "display_name": "Python 3",
   "language": "python",
   "name": "python3"
  },
  "language_info": {
   "codemirror_mode": {
    "name": "ipython",
    "version": 3
   },
   "file_extension": ".py",
   "mimetype": "text/x-python",
   "name": "python",
   "nbconvert_exporter": "python",
   "pygments_lexer": "ipython3",
   "version": "3.6.4"
  }
 },
 "nbformat": 4,
 "nbformat_minor": 2
}
