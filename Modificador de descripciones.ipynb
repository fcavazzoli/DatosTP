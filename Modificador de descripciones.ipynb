{
 "cells": [
  {
   "cell_type": "code",
   "execution_count": 20,
   "metadata": {},
   "outputs": [],
   "source": [
    "import datetime as datetime\n",
    "import pandas as pd\n",
    "import numpy as np\n",
    "import csv \n",
    "import re\n",
    "import matplotlib.pyplot as plt\n",
    "from IPython.display import Image"
   ]
  },
  {
   "cell_type": "code",
   "execution_count": 21,
   "metadata": {},
   "outputs": [],
   "source": [
    "import pyspark\n",
    "\n",
    "try: \n",
    "    type(sc)\n",
    "except NameError:\n",
    "    sc = pyspark.SparkContext('local[*]')"
   ]
  },
  {
   "cell_type": "code",
   "execution_count": 22,
   "metadata": {},
   "outputs": [
    {
     "data": {
      "text/html": [
       "<div>\n",
       "<style scoped>\n",
       "    .dataframe tbody tr th:only-of-type {\n",
       "        vertical-align: middle;\n",
       "    }\n",
       "\n",
       "    .dataframe tbody tr th {\n",
       "        vertical-align: top;\n",
       "    }\n",
       "\n",
       "    .dataframe thead th {\n",
       "        text-align: right;\n",
       "    }\n",
       "</style>\n",
       "<table border=\"1\" class=\"dataframe\">\n",
       "  <thead>\n",
       "    <tr style=\"text-align: right;\">\n",
       "      <th></th>\n",
       "      <th>idaviso</th>\n",
       "      <th>idpais</th>\n",
       "      <th>titulo</th>\n",
       "      <th>descripcion</th>\n",
       "      <th>nombre_zona</th>\n",
       "      <th>ciudad</th>\n",
       "      <th>mapacalle</th>\n",
       "      <th>tipo_de_trabajo</th>\n",
       "      <th>nivel_laboral</th>\n",
       "      <th>nombre_area</th>\n",
       "      <th>denominacion_empresa</th>\n",
       "    </tr>\n",
       "  </thead>\n",
       "  <tbody>\n",
       "    <tr>\n",
       "      <th>0</th>\n",
       "      <td>8725750</td>\n",
       "      <td>1</td>\n",
       "      <td>VENDEDOR/A PROVINCIA DE SANTA FE</td>\n",
       "      <td>&lt;p&gt;&lt;strong&gt;&lt;strong&gt;Empresa:&lt;/strong&gt;&lt;/strong&gt; ...</td>\n",
       "      <td>Gran Buenos Aires</td>\n",
       "      <td>NaN</td>\n",
       "      <td>NaN</td>\n",
       "      <td>Full-time</td>\n",
       "      <td>Senior / Semi-Senior</td>\n",
       "      <td>Comercial</td>\n",
       "      <td>VENTOR</td>\n",
       "    </tr>\n",
       "    <tr>\n",
       "      <th>1</th>\n",
       "      <td>17903700</td>\n",
       "      <td>1</td>\n",
       "      <td>Enfermeras</td>\n",
       "      <td>&lt;p&gt;Solicitamos para importante cadena de farma...</td>\n",
       "      <td>Gran Buenos Aires</td>\n",
       "      <td>NaN</td>\n",
       "      <td>NaN</td>\n",
       "      <td>Full-time</td>\n",
       "      <td>Senior / Semi-Senior</td>\n",
       "      <td>Salud</td>\n",
       "      <td>Farmacias Central Oeste</td>\n",
       "    </tr>\n",
       "    <tr>\n",
       "      <th>2</th>\n",
       "      <td>1000150677</td>\n",
       "      <td>1</td>\n",
       "      <td>Chofer de taxi</td>\n",
       "      <td>&lt;p&gt;TE GUSTA MANEJAR? QUERES GANAR PLATA HACIEN...</td>\n",
       "      <td>Capital Federal</td>\n",
       "      <td>NaN</td>\n",
       "      <td>Empedrado 2336</td>\n",
       "      <td>Full-time</td>\n",
       "      <td>Senior / Semi-Senior</td>\n",
       "      <td>Transporte</td>\n",
       "      <td>FAMITAX SRL</td>\n",
       "    </tr>\n",
       "    <tr>\n",
       "      <th>3</th>\n",
       "      <td>1000610287</td>\n",
       "      <td>1</td>\n",
       "      <td>CHOFER DE CAMIONETA BAHIA BLANCA - PUNTA ALTA</td>\n",
       "      <td>&lt;p&gt;&lt;strong&gt;Somos una empresa multinacional que...</td>\n",
       "      <td>Gran Buenos Aires</td>\n",
       "      <td>NaN</td>\n",
       "      <td>NaN</td>\n",
       "      <td>Full-time</td>\n",
       "      <td>Senior / Semi-Senior</td>\n",
       "      <td>Transporte</td>\n",
       "      <td>Wurth Argentina S.A</td>\n",
       "    </tr>\n",
       "    <tr>\n",
       "      <th>4</th>\n",
       "      <td>1000872556</td>\n",
       "      <td>1</td>\n",
       "      <td>Operarios de Planta - Rubro Electrodomésticos</td>\n",
       "      <td>&lt;p&gt;&lt;strong&gt;OPERARIOS DE PLANTA&lt;/strong&gt;&lt;/p&gt;&lt;p&gt;...</td>\n",
       "      <td>Gran Buenos Aires</td>\n",
       "      <td>NaN</td>\n",
       "      <td>NaN</td>\n",
       "      <td>Full-time</td>\n",
       "      <td>Senior / Semi-Senior</td>\n",
       "      <td>Producción</td>\n",
       "      <td>ELECTRO OUTLET SRL</td>\n",
       "    </tr>\n",
       "  </tbody>\n",
       "</table>\n",
       "</div>"
      ],
      "text/plain": [
       "      idaviso  idpais                                         titulo  \\\n",
       "0     8725750       1               VENDEDOR/A PROVINCIA DE SANTA FE   \n",
       "1    17903700       1                                     Enfermeras   \n",
       "2  1000150677       1                                 Chofer de taxi   \n",
       "3  1000610287       1  CHOFER DE CAMIONETA BAHIA BLANCA - PUNTA ALTA   \n",
       "4  1000872556       1  Operarios de Planta - Rubro Electrodomésticos   \n",
       "\n",
       "                                         descripcion        nombre_zona  \\\n",
       "0  <p><strong><strong>Empresa:</strong></strong> ...  Gran Buenos Aires   \n",
       "1  <p>Solicitamos para importante cadena de farma...  Gran Buenos Aires   \n",
       "2  <p>TE GUSTA MANEJAR? QUERES GANAR PLATA HACIEN...    Capital Federal   \n",
       "3  <p><strong>Somos una empresa multinacional que...  Gran Buenos Aires   \n",
       "4  <p><strong>OPERARIOS DE PLANTA</strong></p><p>...  Gran Buenos Aires   \n",
       "\n",
       "  ciudad       mapacalle tipo_de_trabajo         nivel_laboral nombre_area  \\\n",
       "0    NaN             NaN       Full-time  Senior / Semi-Senior   Comercial   \n",
       "1    NaN             NaN       Full-time  Senior / Semi-Senior       Salud   \n",
       "2    NaN  Empedrado 2336       Full-time  Senior / Semi-Senior  Transporte   \n",
       "3    NaN             NaN       Full-time  Senior / Semi-Senior  Transporte   \n",
       "4    NaN             NaN       Full-time  Senior / Semi-Senior  Producción   \n",
       "\n",
       "      denominacion_empresa  \n",
       "0                   VENTOR  \n",
       "1  Farmacias Central Oeste  \n",
       "2              FAMITAX SRL  \n",
       "3      Wurth Argentina S.A  \n",
       "4       ELECTRO OUTLET SRL  "
      ]
     },
     "execution_count": 22,
     "metadata": {},
     "output_type": "execute_result"
    }
   ],
   "source": [
    "df = pd.read_csv('Sources/fiuba_6_avisos_detalle_concat.csv', delimiter=',')\n",
    "tuples = [tuple(x) for x in df.values]\n",
    "df.drop(['Unnamed: 0'],axis=1,inplace=True)\n",
    "df.head()"
   ]
  },
  {
   "cell_type": "code",
   "execution_count": 23,
   "metadata": {},
   "outputs": [],
   "source": [
    "for x in tuples:\n",
    "    x = tuple(x)"
   ]
  },
  {
   "cell_type": "code",
   "execution_count": 24,
   "metadata": {},
   "outputs": [
    {
     "data": {
      "text/plain": [
       "[(0,\n",
       "  8725750,\n",
       "  1,\n",
       "  'VENDEDOR/A PROVINCIA DE SANTA FE',\n",
       "  '<p><strong><strong>Empresa:</strong></strong> Distribuidor de repuestos automotor, Importador y Distribuidor de correas agrícolas, industriales y automotor en Argentina</p><p><strong><strong>Sexo Postulante:</strong></strong> Indistinto</p><p><strong><strong>Área:</strong></strong> Ventas</p><p><strong><strong>País/Ciudad:</strong></strong> Argentina, Rosario y Santa Fe</p><p><strong><strong>Industria:</strong></strong> Automotriz</p><p><strong><strong>Salario: </strong></strong>Comisión sobre ventas</p><p><strong><strong>Vacantes:1</strong></strong></p><p><strong><strong>Tipo de puesto de trabajo:</strong></strong> Full-time</p><p>Nuestra empresa es distribuidora mayorista de repuestos para automotor. Importamos y distribuímos correas agrícolas e industriales</p><p>Buscamos un\\xa0 representante de ventas para la provincia de Santa Fe: Rosario y Gran Rosari, ciudad de Santa Fe y zona de influencia.</p><p><br />Requisitos:</p><p>Secundario completo\\xa0 (excluyente)<br />Dedicación full time<br />Experiencia en ventas<br />Buena presencia<br />Movilidad propia<br />Domicilio en la zona<br />Conocimiento del ramo<br /><br />Ofrecemos:</p><p>Comisiones sobre ventas.<br />Capacitación<br />Cartera de clientes<br />Fuerte apoyo logístico</p><p>\\xa0</p><p>\\xa0</p>',\n",
       "  'Gran Buenos Aires',\n",
       "  nan,\n",
       "  nan,\n",
       "  'Full-time',\n",
       "  'Senior / Semi-Senior',\n",
       "  'Comercial',\n",
       "  'VENTOR')]"
      ]
     },
     "execution_count": 24,
     "metadata": {},
     "output_type": "execute_result"
    }
   ],
   "source": [
    "avisos = sc.parallelize(tuples)\n",
    "avisos.take(1)"
   ]
  },
  {
   "cell_type": "code",
   "execution_count": 25,
   "metadata": {},
   "outputs": [
    {
     "data": {
      "text/plain": [
       "[(0,\n",
       "  8725750,\n",
       "  1,\n",
       "  'VENDEDOR/A PROVINCIA DE SANTA FE',\n",
       "  '   EMPRESA:   DISTRIBUIDOR DE REPUESTOS AUTOMOTOR, IMPORTADOR Y DISTRIBUIDOR DE CORREAS AGRÍCOLAS, INDUSTRIALES Y AUTOMOTOR EN ARGENTINA    SEXO POSTULANTE:   INDISTINTO    ÁREA:   VENTAS    PAÍS/CIUDAD:   ARGENTINA, ROSARIO Y SANTA FE    INDUSTRIA:   AUTOMOTRIZ    SALARIO:   COMISIÓN SOBRE VENTAS    VACANTES:1      TIPO DE PUESTO DE TRABAJO:   FULL-TIME  NUESTRA EMPRESA ES DISTRIBUIDORA MAYORISTA DE REPUESTOS PARA AUTOMOTOR. IMPORTAMOS Y DISTRIBUÍMOS CORREAS AGRÍCOLAS E INDUSTRIALES  BUSCAMOS UN  REPRESENTANTE DE VENTAS PARA LA PROVINCIA DE SANTA FE: ROSARIO Y GRAN ROSARI, CIUDAD DE SANTA FE Y ZONA DE INFLUENCIA.   REQUISITOS:  SECUNDARIO COMPLETO  (EXCLUYENTE) DEDICACIÓN FULL TIME EXPERIENCIA EN VENTAS BUENA PRESENCIA MOVILIDAD PROPIA DOMICILIO EN LA ZONA CONOCIMIENTO DEL RAMO  OFRECEMOS:  COMISIONES SOBRE VENTAS. CAPACITACIÓN CARTERA DE CLIENTES FUERTE APOYO LOGÍSTICO       ',\n",
       "  'Gran Buenos Aires',\n",
       "  nan,\n",
       "  nan,\n",
       "  'Full-time',\n",
       "  'Senior / Semi-Senior',\n",
       "  'Comercial',\n",
       "  'VENTOR')]"
      ]
     },
     "execution_count": 25,
     "metadata": {},
     "output_type": "execute_result"
    }
   ],
   "source": [
    "avisos = avisos.map(lambda x: (x[0],x[1],x[2],str.upper(re.sub(\"<.*?>\", \" \", x[3])),str.upper(re.sub(\"<.*?>\", \" \", x[4])),x[5],x[6],x[7],x[8],x[9],x[10],x[11])).map(lambda x: (x[0],x[1],x[2],str(re.sub(\"\\xa0\", \" \", x[3])),str(re.sub(\"\\xa0\", \" \", x[4])),x[5],x[6],x[7],x[8],x[9],x[10],x[11]))\n",
    "avisos.take(1)"
   ]
  },
  {
   "cell_type": "code",
   "execution_count": 26,
   "metadata": {},
   "outputs": [],
   "source": [
    "import re, string, unicodedata\n",
    "def removePunctuation(text):\n",
    "    text=str(text).lower().strip(' ')\n",
    "    text=unicodedata.normalize('NFD', text).encode('ascii','ignore')\n",
    "    text=text.decode('utf-8')\n",
    "    text=re.sub(r'[^a-zA-Z0-9 ]', '', text)   \n",
    "    return text"
   ]
  },
  {
   "cell_type": "code",
   "execution_count": 27,
   "metadata": {},
   "outputs": [],
   "source": [
    "def palabrasLargas(texto):\n",
    "    lista = texto.split(' ') \n",
    "    lista = [x for x in lista if not len(x)>17]\n",
    "    return \" \".join(lista)"
   ]
  },
  {
   "cell_type": "code",
   "execution_count": 28,
   "metadata": {},
   "outputs": [
    {
     "data": {
      "text/plain": [
       "[(0,\n",
       "  8725750,\n",
       "  1,\n",
       "  'VENDEDOR/A PROVINCIA DE SANTA FE',\n",
       "  '   EMPRESA:   DISTRIBUIDOR DE REPUESTOS AUTOMOTOR, IMPORTADOR Y DISTRIBUIDOR DE CORREAS AGRÍCOLAS, INDUSTRIALES Y AUTOMOTOR EN ARGENTINA    SEXO POSTULANTE:   INDISTINTO    ÁREA:   VENTAS    PAÍS/CIUDAD:   ARGENTINA, ROSARIO Y SANTA FE    INDUSTRIA:   AUTOMOTRIZ    SALARIO:   COMISIÓN SOBRE VENTAS    VACANTES:1      TIPO DE PUESTO DE TRABAJO:   FULL-TIME  NUESTRA EMPRESA ES DISTRIBUIDORA MAYORISTA DE REPUESTOS PARA AUTOMOTOR. IMPORTAMOS Y DISTRIBUÍMOS CORREAS AGRÍCOLAS E INDUSTRIALES  BUSCAMOS UN  REPRESENTANTE DE VENTAS PARA LA PROVINCIA DE SANTA FE: ROSARIO Y GRAN ROSARI, CIUDAD DE SANTA FE Y ZONA DE INFLUENCIA.   REQUISITOS:  SECUNDARIO COMPLETO  (EXCLUYENTE) DEDICACIÓN FULL TIME EXPERIENCIA EN VENTAS BUENA PRESENCIA MOVILIDAD PROPIA DOMICILIO EN LA ZONA CONOCIMIENTO DEL RAMO  OFRECEMOS:  COMISIONES SOBRE VENTAS. CAPACITACIÓN CARTERA DE CLIENTES FUERTE APOYO LOGÍSTICO       ',\n",
       "  'Gran Buenos Aires',\n",
       "  nan,\n",
       "  nan,\n",
       "  'Full-time',\n",
       "  'Senior / Semi-Senior',\n",
       "  'Comercial',\n",
       "  'VENTOR')]"
      ]
     },
     "execution_count": 28,
     "metadata": {},
     "output_type": "execute_result"
    }
   ],
   "source": [
    "avisos.take(1)"
   ]
  },
  {
   "cell_type": "code",
   "execution_count": 29,
   "metadata": {},
   "outputs": [],
   "source": [
    "avisos = avisos.map((lambda x: (x[0],x[1],x[2],removePunctuation(x[3]),removePunctuation(x[4]),x[5],x[6],x[7],x[8],x[9],x[10],x[11]))).map((lambda x: (x[0],x[1],x[2],palabrasLargas(x[3]),x[4],x[5],x[6],x[7],x[8], x[9],x[10],x[11]))).collect()"
   ]
  },
  {
   "cell_type": "code",
   "execution_count": 30,
   "metadata": {},
   "outputs": [],
   "source": [
    "avisos = pd.DataFrame.from_records(avisos).drop([0], axis=1)"
   ]
  },
  {
   "cell_type": "code",
   "execution_count": 31,
   "metadata": {},
   "outputs": [
    {
     "data": {
      "text/html": [
       "<div>\n",
       "<style scoped>\n",
       "    .dataframe tbody tr th:only-of-type {\n",
       "        vertical-align: middle;\n",
       "    }\n",
       "\n",
       "    .dataframe tbody tr th {\n",
       "        vertical-align: top;\n",
       "    }\n",
       "\n",
       "    .dataframe thead th {\n",
       "        text-align: right;\n",
       "    }\n",
       "</style>\n",
       "<table border=\"1\" class=\"dataframe\">\n",
       "  <thead>\n",
       "    <tr style=\"text-align: right;\">\n",
       "      <th></th>\n",
       "      <th>idaviso</th>\n",
       "      <th>titulo</th>\n",
       "      <th>descripcion</th>\n",
       "      <th>tipo_de_trabajo</th>\n",
       "      <th>nivel_laboral</th>\n",
       "      <th>nombre_area</th>\n",
       "      <th>denominacion_empresa</th>\n",
       "    </tr>\n",
       "  </thead>\n",
       "  <tbody>\n",
       "    <tr>\n",
       "      <th>0</th>\n",
       "      <td>8725750</td>\n",
       "      <td>vendedora provincia de santa fe</td>\n",
       "      <td>empresa   distribuidor de repuestos automotor ...</td>\n",
       "      <td>Full-time</td>\n",
       "      <td>Senior / Semi-Senior</td>\n",
       "      <td>Comercial</td>\n",
       "      <td>VENTOR</td>\n",
       "    </tr>\n",
       "    <tr>\n",
       "      <th>1</th>\n",
       "      <td>17903700</td>\n",
       "      <td>enfermeras</td>\n",
       "      <td>solicitamos para importante cadena de farmacia...</td>\n",
       "      <td>Full-time</td>\n",
       "      <td>Senior / Semi-Senior</td>\n",
       "      <td>Salud</td>\n",
       "      <td>Farmacias Central Oeste</td>\n",
       "    </tr>\n",
       "    <tr>\n",
       "      <th>2</th>\n",
       "      <td>1000150677</td>\n",
       "      <td>chofer de taxi</td>\n",
       "      <td>te gusta manejar queres ganar plata haciendo l...</td>\n",
       "      <td>Full-time</td>\n",
       "      <td>Senior / Semi-Senior</td>\n",
       "      <td>Transporte</td>\n",
       "      <td>FAMITAX SRL</td>\n",
       "    </tr>\n",
       "    <tr>\n",
       "      <th>3</th>\n",
       "      <td>1000610287</td>\n",
       "      <td>chofer de camioneta bahia blanca  punta alta</td>\n",
       "      <td>somos una empresa multinacional que opera en a...</td>\n",
       "      <td>Full-time</td>\n",
       "      <td>Senior / Semi-Senior</td>\n",
       "      <td>Transporte</td>\n",
       "      <td>Wurth Argentina S.A</td>\n",
       "    </tr>\n",
       "    <tr>\n",
       "      <th>4</th>\n",
       "      <td>1000872556</td>\n",
       "      <td>operarios de planta  rubro electrodomesticos</td>\n",
       "      <td>operarios de planta   nos encontramos en la bu...</td>\n",
       "      <td>Full-time</td>\n",
       "      <td>Senior / Semi-Senior</td>\n",
       "      <td>Producción</td>\n",
       "      <td>ELECTRO OUTLET SRL</td>\n",
       "    </tr>\n",
       "  </tbody>\n",
       "</table>\n",
       "</div>"
      ],
      "text/plain": [
       "      idaviso                                        titulo  \\\n",
       "0     8725750               vendedora provincia de santa fe   \n",
       "1    17903700                                    enfermeras   \n",
       "2  1000150677                                chofer de taxi   \n",
       "3  1000610287  chofer de camioneta bahia blanca  punta alta   \n",
       "4  1000872556  operarios de planta  rubro electrodomesticos   \n",
       "\n",
       "                                         descripcion tipo_de_trabajo  \\\n",
       "0  empresa   distribuidor de repuestos automotor ...       Full-time   \n",
       "1  solicitamos para importante cadena de farmacia...       Full-time   \n",
       "2  te gusta manejar queres ganar plata haciendo l...       Full-time   \n",
       "3  somos una empresa multinacional que opera en a...       Full-time   \n",
       "4  operarios de planta   nos encontramos en la bu...       Full-time   \n",
       "\n",
       "          nivel_laboral nombre_area     denominacion_empresa  \n",
       "0  Senior / Semi-Senior   Comercial                   VENTOR  \n",
       "1  Senior / Semi-Senior       Salud  Farmacias Central Oeste  \n",
       "2  Senior / Semi-Senior  Transporte              FAMITAX SRL  \n",
       "3  Senior / Semi-Senior  Transporte      Wurth Argentina S.A  \n",
       "4  Senior / Semi-Senior  Producción       ELECTRO OUTLET SRL  "
      ]
     },
     "execution_count": 31,
     "metadata": {},
     "output_type": "execute_result"
    }
   ],
   "source": [
    "for x in avisos.columns:  \n",
    "    avisos = avisos.rename(columns = {x:df.columns[x-1]})\n",
    "avisos.head()\n",
    "avisos = avisos.drop(['idpais','nombre_zona','mapacalle', 'ciudad'], axis=1)\n",
    "avisos.head()"
   ]
  },
  {
   "cell_type": "code",
   "execution_count": 32,
   "metadata": {},
   "outputs": [],
   "source": [
    "avisos.to_csv(\"Sources/fiuba_6_avisos_detalle_limpio.csv\")"
   ]
  },
  {
   "cell_type": "code",
   "execution_count": 33,
   "metadata": {},
   "outputs": [
    {
     "data": {
      "text/plain": [
       "'denominacion_empresa'"
      ]
     },
     "execution_count": 33,
     "metadata": {},
     "output_type": "execute_result"
    }
   ],
   "source": [
    "df.columns[10]"
   ]
  },
  {
   "cell_type": "code",
   "execution_count": null,
   "metadata": {},
   "outputs": [],
   "source": []
  },
  {
   "cell_type": "code",
   "execution_count": null,
   "metadata": {},
   "outputs": [],
   "source": []
  },
  {
   "cell_type": "code",
   "execution_count": null,
   "metadata": {},
   "outputs": [],
   "source": []
  }
 ],
 "metadata": {
  "kernelspec": {
   "display_name": "Python 3",
   "language": "python",
   "name": "python3"
  },
  "language_info": {
   "codemirror_mode": {
    "name": "ipython",
    "version": 3
   },
   "file_extension": ".py",
   "mimetype": "text/x-python",
   "name": "python",
   "nbconvert_exporter": "python",
   "pygments_lexer": "ipython3",
   "version": "3.6.4"
  }
 },
 "nbformat": 4,
 "nbformat_minor": 2
}
