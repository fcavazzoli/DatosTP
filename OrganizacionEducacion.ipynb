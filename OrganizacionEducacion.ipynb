{
 "cells": [
  {
   "cell_type": "code",
   "execution_count": null,
   "metadata": {},
   "outputs": [],
   "source": [
    "import pandas as pd\n",
    "import pyspark\n",
    "sc = pyspark.SparkContext('local[*]')"
   ]
  },
  {
   "cell_type": "code",
   "execution_count": null,
   "metadata": {},
   "outputs": [],
   "source": [
    "postulantes_edu = pd.read_csv('Sources/fiuba_1_postulantes_educacion_concat.csv')\n",
    "postulantes_gen = pd.read_csv('Sources/fiuba_2_postulantes_genero_y_edad_concat.csv')"
   ]
  },
  {
   "cell_type": "code",
   "execution_count": null,
   "metadata": {},
   "outputs": [],
   "source": [
    "postulantes_edu.drop(['Unnamed: 0'],axis=1,inplace=True)\n",
    "postulantes_edu.rename(columns={'nombre':'estudio'},inplace=True)\n",
    "postulantes_edu.head()"
   ]
  },
  {
   "cell_type": "code",
   "execution_count": null,
   "metadata": {},
   "outputs": [],
   "source": [
    "postulantes_gen.drop(['Unnamed: 0'],axis=1,inplace=True)\n",
    "postulantes_gen.head()"
   ]
  },
  {
   "cell_type": "code",
   "execution_count": null,
   "metadata": {},
   "outputs": [],
   "source": [
    "estudios = pd.get_dummies(postulantes_edu['estudio'])\n",
    "for col in estudios.columns:\n",
    "    estudios.loc[estudios.loc[:,col]==1,col] = postulantes_edu.loc[estudios.loc[:,col]==1,'estado']"
   ]
  },
  {
   "cell_type": "code",
   "execution_count": null,
   "metadata": {},
   "outputs": [],
   "source": [
    "estudios.head()"
   ]
  },
  {
   "cell_type": "code",
   "execution_count": null,
   "metadata": {},
   "outputs": [],
   "source": [
    "postulantes_edu = postulantes_edu.merge(estudios, left_index=True, right_index=True)\n",
    "postulantes_edu.drop(['estudio','estado'], axis=1, inplace=True)\n",
    "postulantes_edu.head()"
   ]
  },
  {
   "cell_type": "code",
   "execution_count": null,
   "metadata": {},
   "outputs": [],
   "source": [
    "estados = ['','Abandonado', 'En Curso', 'Graduado']\n",
    "for x in range(len(estados)):\n",
    "    for col in postulantes_edu.columns:\n",
    "        postulantes_edu.loc[postulantes_edu.loc[:,col]==estados[x],col] = x"
   ]
  },
  {
   "cell_type": "code",
   "execution_count": null,
   "metadata": {},
   "outputs": [],
   "source": [
    "groups = postulantes_edu.groupby('idpostulante')\n"
   ]
  },
  {
   "cell_type": "code",
   "execution_count": null,
   "metadata": {},
   "outputs": [],
   "source": [
    "df = pd.DataFrame()\n"
   ]
  },
  {
   "cell_type": "code",
   "execution_count": null,
   "metadata": {},
   "outputs": [],
   "source": [
    "import datetime\n",
    "#df = pd.DataFrame()\n",
    "df = []\n",
    "i = 0\n",
    "for indice in groups.indices:\n",
    "    i = i + 1\n",
    "    aux = groups.get_group(indice).max()\n",
    "    aux = aux.tolist()\n",
    "    df.append(aux)\n",
    "df = pd.DataFrame.from_records(df)\n",
    "df.head()\n"
   ]
  },
  {
   "cell_type": "code",
   "execution_count": null,
   "metadata": {},
   "outputs": [],
   "source": [
    "for x in df.columns:\n",
    "    nwName = postulantes_edu.columns[x]\n",
    "    df.rename(columns={x:nwName}, inplace=True)"
   ]
  },
  {
   "cell_type": "code",
   "execution_count": null,
   "metadata": {},
   "outputs": [],
   "source": [
    "df = df.merge(postulantes_gen,on='idpostulante',how='outer')\n"
   ]
  },
  {
   "cell_type": "code",
   "execution_count": null,
   "metadata": {},
   "outputs": [],
   "source": [
    "df.to_csv('Sources/postulantes_proc.csv')\n"
   ]
  },
  {
   "cell_type": "code",
   "execution_count": null,
   "metadata": {},
   "outputs": [],
   "source": [
    "postulantes = pd.read_csv('Sources/postulantes_proc.csv').drop('Unnamed: 0', axis=1)\n",
    "postulantes.head()"
   ]
  },
  {
   "cell_type": "code",
   "execution_count": null,
   "metadata": {},
   "outputs": [],
   "source": [
    "def max_educacion(row):\n",
    "    lista_de_niveles = ['Doctorado','Master','Posgrado','Universitario','Otro','Terciario/Técnico','Secundario']\n",
    "    lista_de_indices = ['Secundario','Terciario/Técnico','Otro','Universitario','Posgrado','Master','Doctorado']\n",
    "    lista_de_estados = [0,2, 1, 3]\n",
    "    for nivel in lista_de_niveles:\n",
    "        if row[nivel]==0: continue\n",
    "        for estado in lista_de_estados:\n",
    "            if row[nivel] == estado:\n",
    "                nivel_def = lista_de_indices.index(nivel)\n",
    "                return ((3*nivel_def) + estado)\n",
    "    return -1\n",
    "        \n"
   ]
  },
  {
   "cell_type": "code",
   "execution_count": null,
   "metadata": {},
   "outputs": [],
   "source": [
    "postulantes['nivel'] = postulantes.apply(lambda x: max_educacion(x), axis=1)"
   ]
  },
  {
   "cell_type": "code",
   "execution_count": null,
   "metadata": {},
   "outputs": [],
   "source": [
    "postulantes.head()"
   ]
  },
  {
   "cell_type": "code",
   "execution_count": null,
   "metadata": {},
   "outputs": [],
   "source": [
    "def dates_format(date):\n",
    "    try:\n",
    "        date_new = pd.to_datetime('today').year-pd.to_datetime(date).year\n",
    "        #date_new = int(date_new)\n",
    "        return date_new\n",
    "    except ValueError:\n",
    "        return -1"
   ]
  },
  {
   "cell_type": "code",
   "execution_count": null,
   "metadata": {},
   "outputs": [],
   "source": [
    "fechasRDD = sc.parallelize(postulantes['fechanacimiento'])\n",
    "postulantes['fechanacimiento'] = fechasRDD.map(lambda x: dates_format(x)).collect()\n",
    "fechasRDD = None"
   ]
  },
  {
   "cell_type": "code",
   "execution_count": null,
   "metadata": {},
   "outputs": [],
   "source": [
    "postulantes.drop(['Doctorado','Master','Posgrado','Universitario','Otro','Terciario/Técnico','Secundario'], axis=1, inplace=True)\n",
    "postulantes.head()"
   ]
  },
  {
   "cell_type": "code",
   "execution_count": null,
   "metadata": {},
   "outputs": [],
   "source": [
    "postulantes.to_csv('Sources/postulantes_proc.csv')"
   ]
  },
  {
   "cell_type": "code",
   "execution_count": null,
   "metadata": {},
   "outputs": [],
   "source": []
  }
 ],
 "metadata": {
  "kernelspec": {
   "display_name": "Python 3",
   "language": "python",
   "name": "python3"
  },
  "language_info": {
   "codemirror_mode": {
    "name": "ipython",
    "version": 3
   },
   "file_extension": ".py",
   "mimetype": "text/x-python",
   "name": "python",
   "nbconvert_exporter": "python",
   "pygments_lexer": "ipython3",
   "version": "3.6.4"
  }
 },
 "nbformat": 4,
 "nbformat_minor": 2
}
