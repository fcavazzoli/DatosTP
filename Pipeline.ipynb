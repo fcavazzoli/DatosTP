{
 "cells": [
  {
   "cell_type": "code",
   "execution_count": 1,
   "metadata": {},
   "outputs": [],
   "source": [
    "import pandas as pd\n",
    "from sklearn import preprocessing"
   ]
  },
  {
   "cell_type": "code",
   "execution_count": 2,
   "metadata": {},
   "outputs": [],
   "source": [
    "postulaciones = pd.read_csv('Sources/postulaciones_for_training.csv').drop('Unnamed: 0', axis=1)"
   ]
  },
  {
   "cell_type": "code",
   "execution_count": 3,
   "metadata": {},
   "outputs": [],
   "source": [
    "postulantes = pd.read_csv('Sources/postulantes_proc.csv').drop('Unnamed: 0', axis=1)\n",
    "avisos = pd.read_csv('Sources/fiuba_6_avisos_detalle_limpio.csv').drop('Unnamed: 0', axis=1)\n",
    "test = pd.read_csv('Sources/test_final_100k.csv')\n",
    "preds = pd.DataFrame()"
   ]
  },
  {
   "cell_type": "code",
   "execution_count": 4,
   "metadata": {},
   "outputs": [
    {
     "data": {
      "text/html": [
       "<div>\n",
       "<style scoped>\n",
       "    .dataframe tbody tr th:only-of-type {\n",
       "        vertical-align: middle;\n",
       "    }\n",
       "\n",
       "    .dataframe tbody tr th {\n",
       "        vertical-align: top;\n",
       "    }\n",
       "\n",
       "    .dataframe thead th {\n",
       "        text-align: right;\n",
       "    }\n",
       "</style>\n",
       "<table border=\"1\" class=\"dataframe\">\n",
       "  <thead>\n",
       "    <tr style=\"text-align: right;\">\n",
       "      <th></th>\n",
       "      <th>fechanacimiento</th>\n",
       "      <th>sexo</th>\n",
       "      <th>nivel</th>\n",
       "      <th>tipo_de_trabajo</th>\n",
       "      <th>nivel_laboral</th>\n",
       "      <th>nombre_area</th>\n",
       "      <th>denominacion_empresa</th>\n",
       "      <th>cluster</th>\n",
       "      <th>FEM</th>\n",
       "      <th>MASC</th>\n",
       "      <th>NO_DECLARA</th>\n",
       "      <th>TendenciaSexo</th>\n",
       "      <th>prom_edad</th>\n",
       "    </tr>\n",
       "  </thead>\n",
       "  <tbody>\n",
       "    <tr>\n",
       "      <th>0</th>\n",
       "      <td>22.0</td>\n",
       "      <td>FEM</td>\n",
       "      <td>11</td>\n",
       "      <td>Part-time</td>\n",
       "      <td>Senior / Semi-Senior</td>\n",
       "      <td>Recursos Humanos</td>\n",
       "      <td>Consultores de Empresas SRL</td>\n",
       "      <td>146.0</td>\n",
       "      <td>240.0</td>\n",
       "      <td>85.0</td>\n",
       "      <td>7.0</td>\n",
       "      <td>FEM</td>\n",
       "      <td>31.196319</td>\n",
       "    </tr>\n",
       "    <tr>\n",
       "      <th>1</th>\n",
       "      <td>33.0</td>\n",
       "      <td>FEM</td>\n",
       "      <td>8</td>\n",
       "      <td>Part-time</td>\n",
       "      <td>Senior / Semi-Senior</td>\n",
       "      <td>Recursos Humanos</td>\n",
       "      <td>Consultores de Empresas SRL</td>\n",
       "      <td>146.0</td>\n",
       "      <td>240.0</td>\n",
       "      <td>85.0</td>\n",
       "      <td>7.0</td>\n",
       "      <td>FEM</td>\n",
       "      <td>31.196319</td>\n",
       "    </tr>\n",
       "    <tr>\n",
       "      <th>2</th>\n",
       "      <td>52.0</td>\n",
       "      <td>MASC</td>\n",
       "      <td>12</td>\n",
       "      <td>Part-time</td>\n",
       "      <td>Senior / Semi-Senior</td>\n",
       "      <td>Recursos Humanos</td>\n",
       "      <td>Consultores de Empresas SRL</td>\n",
       "      <td>146.0</td>\n",
       "      <td>240.0</td>\n",
       "      <td>85.0</td>\n",
       "      <td>7.0</td>\n",
       "      <td>FEM</td>\n",
       "      <td>31.196319</td>\n",
       "    </tr>\n",
       "    <tr>\n",
       "      <th>3</th>\n",
       "      <td>24.0</td>\n",
       "      <td>FEM</td>\n",
       "      <td>3</td>\n",
       "      <td>Part-time</td>\n",
       "      <td>Senior / Semi-Senior</td>\n",
       "      <td>Recursos Humanos</td>\n",
       "      <td>Consultores de Empresas SRL</td>\n",
       "      <td>146.0</td>\n",
       "      <td>240.0</td>\n",
       "      <td>85.0</td>\n",
       "      <td>7.0</td>\n",
       "      <td>FEM</td>\n",
       "      <td>31.196319</td>\n",
       "    </tr>\n",
       "    <tr>\n",
       "      <th>4</th>\n",
       "      <td>19.0</td>\n",
       "      <td>FEM</td>\n",
       "      <td>3</td>\n",
       "      <td>Part-time</td>\n",
       "      <td>Senior / Semi-Senior</td>\n",
       "      <td>Recursos Humanos</td>\n",
       "      <td>Consultores de Empresas SRL</td>\n",
       "      <td>146.0</td>\n",
       "      <td>240.0</td>\n",
       "      <td>85.0</td>\n",
       "      <td>7.0</td>\n",
       "      <td>FEM</td>\n",
       "      <td>31.196319</td>\n",
       "    </tr>\n",
       "  </tbody>\n",
       "</table>\n",
       "</div>"
      ],
      "text/plain": [
       "   fechanacimiento  sexo  nivel tipo_de_trabajo         nivel_laboral  \\\n",
       "0             22.0   FEM     11       Part-time  Senior / Semi-Senior   \n",
       "1             33.0   FEM      8       Part-time  Senior / Semi-Senior   \n",
       "2             52.0  MASC     12       Part-time  Senior / Semi-Senior   \n",
       "3             24.0   FEM      3       Part-time  Senior / Semi-Senior   \n",
       "4             19.0   FEM      3       Part-time  Senior / Semi-Senior   \n",
       "\n",
       "        nombre_area         denominacion_empresa  cluster    FEM  MASC  \\\n",
       "0  Recursos Humanos  Consultores de Empresas SRL    146.0  240.0  85.0   \n",
       "1  Recursos Humanos  Consultores de Empresas SRL    146.0  240.0  85.0   \n",
       "2  Recursos Humanos  Consultores de Empresas SRL    146.0  240.0  85.0   \n",
       "3  Recursos Humanos  Consultores de Empresas SRL    146.0  240.0  85.0   \n",
       "4  Recursos Humanos  Consultores de Empresas SRL    146.0  240.0  85.0   \n",
       "\n",
       "   NO_DECLARA TendenciaSexo  prom_edad  \n",
       "0         7.0           FEM  31.196319  \n",
       "1         7.0           FEM  31.196319  \n",
       "2         7.0           FEM  31.196319  \n",
       "3         7.0           FEM  31.196319  \n",
       "4         7.0           FEM  31.196319  "
      ]
     },
     "execution_count": 4,
     "metadata": {},
     "output_type": "execute_result"
    }
   ],
   "source": [
    "postulaciones = postulaciones.merge(postulantes, on='idpostulante')\n",
    "postulaciones = postulaciones.merge(avisos, on='idaviso')\n",
    "resultados = postulaciones['sepostulo']\n",
    "postulaciones.drop(['titulo','descripcion','idaviso','idpostulante','sepostulo'],axis=1, inplace=True)\n",
    "postulaciones.head()"
   ]
  },
  {
   "cell_type": "code",
   "execution_count": 5,
   "metadata": {},
   "outputs": [
    {
     "data": {
      "text/html": [
       "<div>\n",
       "<style scoped>\n",
       "    .dataframe tbody tr th:only-of-type {\n",
       "        vertical-align: middle;\n",
       "    }\n",
       "\n",
       "    .dataframe tbody tr th {\n",
       "        vertical-align: top;\n",
       "    }\n",
       "\n",
       "    .dataframe thead th {\n",
       "        text-align: right;\n",
       "    }\n",
       "</style>\n",
       "<table border=\"1\" class=\"dataframe\">\n",
       "  <thead>\n",
       "    <tr style=\"text-align: right;\">\n",
       "      <th></th>\n",
       "      <th>fechanacimiento</th>\n",
       "      <th>sexo</th>\n",
       "      <th>nivel</th>\n",
       "      <th>tipo_de_trabajo</th>\n",
       "      <th>nivel_laboral</th>\n",
       "      <th>nombre_area</th>\n",
       "      <th>denominacion_empresa</th>\n",
       "      <th>cluster</th>\n",
       "      <th>FEM</th>\n",
       "      <th>MASC</th>\n",
       "      <th>NO_DECLARA</th>\n",
       "      <th>TendenciaSexo</th>\n",
       "      <th>prom_edad</th>\n",
       "    </tr>\n",
       "  </thead>\n",
       "  <tbody>\n",
       "    <tr>\n",
       "      <th>0</th>\n",
       "      <td>42.0</td>\n",
       "      <td>FEM</td>\n",
       "      <td>21</td>\n",
       "      <td>Full-time</td>\n",
       "      <td>Jefe / Supervisor / Responsable</td>\n",
       "      <td>Comercial</td>\n",
       "      <td>BUMERAN.COM ARGENTINA</td>\n",
       "      <td>102.0</td>\n",
       "      <td>NaN</td>\n",
       "      <td>NaN</td>\n",
       "      <td>NaN</td>\n",
       "      <td>NaN</td>\n",
       "      <td>NaN</td>\n",
       "    </tr>\n",
       "    <tr>\n",
       "      <th>1</th>\n",
       "      <td>31.0</td>\n",
       "      <td>MASC</td>\n",
       "      <td>9</td>\n",
       "      <td>Full-time</td>\n",
       "      <td>Jefe / Supervisor / Responsable</td>\n",
       "      <td>Comercial</td>\n",
       "      <td>BUMERAN.COM ARGENTINA</td>\n",
       "      <td>102.0</td>\n",
       "      <td>NaN</td>\n",
       "      <td>NaN</td>\n",
       "      <td>NaN</td>\n",
       "      <td>NaN</td>\n",
       "      <td>NaN</td>\n",
       "    </tr>\n",
       "    <tr>\n",
       "      <th>2</th>\n",
       "      <td>36.0</td>\n",
       "      <td>FEM</td>\n",
       "      <td>12</td>\n",
       "      <td>Full-time</td>\n",
       "      <td>Jefe / Supervisor / Responsable</td>\n",
       "      <td>Comercial</td>\n",
       "      <td>BUMERAN.COM ARGENTINA</td>\n",
       "      <td>102.0</td>\n",
       "      <td>NaN</td>\n",
       "      <td>NaN</td>\n",
       "      <td>NaN</td>\n",
       "      <td>NaN</td>\n",
       "      <td>NaN</td>\n",
       "    </tr>\n",
       "    <tr>\n",
       "      <th>3</th>\n",
       "      <td>69.0</td>\n",
       "      <td>MASC</td>\n",
       "      <td>15</td>\n",
       "      <td>Full-time</td>\n",
       "      <td>Otro</td>\n",
       "      <td>Tecnologia / Sistemas</td>\n",
       "      <td>TeleTech</td>\n",
       "      <td>27.0</td>\n",
       "      <td>NaN</td>\n",
       "      <td>NaN</td>\n",
       "      <td>NaN</td>\n",
       "      <td>NaN</td>\n",
       "      <td>NaN</td>\n",
       "    </tr>\n",
       "    <tr>\n",
       "      <th>4</th>\n",
       "      <td>32.0</td>\n",
       "      <td>FEM</td>\n",
       "      <td>11</td>\n",
       "      <td>Full-time</td>\n",
       "      <td>Otro</td>\n",
       "      <td>Tecnologia / Sistemas</td>\n",
       "      <td>TeleTech</td>\n",
       "      <td>27.0</td>\n",
       "      <td>NaN</td>\n",
       "      <td>NaN</td>\n",
       "      <td>NaN</td>\n",
       "      <td>NaN</td>\n",
       "      <td>NaN</td>\n",
       "    </tr>\n",
       "  </tbody>\n",
       "</table>\n",
       "</div>"
      ],
      "text/plain": [
       "   fechanacimiento  sexo  nivel tipo_de_trabajo  \\\n",
       "0             42.0   FEM     21       Full-time   \n",
       "1             31.0  MASC      9       Full-time   \n",
       "2             36.0   FEM     12       Full-time   \n",
       "3             69.0  MASC     15       Full-time   \n",
       "4             32.0   FEM     11       Full-time   \n",
       "\n",
       "                     nivel_laboral            nombre_area  \\\n",
       "0  Jefe / Supervisor / Responsable              Comercial   \n",
       "1  Jefe / Supervisor / Responsable              Comercial   \n",
       "2  Jefe / Supervisor / Responsable              Comercial   \n",
       "3                             Otro  Tecnologia / Sistemas   \n",
       "4                             Otro  Tecnologia / Sistemas   \n",
       "\n",
       "    denominacion_empresa  cluster  FEM  MASC  NO_DECLARA TendenciaSexo  \\\n",
       "0  BUMERAN.COM ARGENTINA    102.0  NaN   NaN         NaN           NaN   \n",
       "1  BUMERAN.COM ARGENTINA    102.0  NaN   NaN         NaN           NaN   \n",
       "2  BUMERAN.COM ARGENTINA    102.0  NaN   NaN         NaN           NaN   \n",
       "3               TeleTech     27.0  NaN   NaN         NaN           NaN   \n",
       "4               TeleTech     27.0  NaN   NaN         NaN           NaN   \n",
       "\n",
       "   prom_edad  \n",
       "0        NaN  \n",
       "1        NaN  \n",
       "2        NaN  \n",
       "3        NaN  \n",
       "4        NaN  "
      ]
     },
     "execution_count": 5,
     "metadata": {},
     "output_type": "execute_result"
    }
   ],
   "source": [
    "test = test.merge(postulantes, on='idpostulante')\n",
    "test = test.merge(avisos, on='idaviso')\n",
    "test.drop(['titulo','descripcion','idaviso','idpostulante','id'],axis=1, inplace=True)\n",
    "test.head()"
   ]
  },
  {
   "cell_type": "code",
   "execution_count": 6,
   "metadata": {},
   "outputs": [],
   "source": [
    "test = pd.concat([test,postulaciones])"
   ]
  },
  {
   "cell_type": "code",
   "execution_count": 7,
   "metadata": {},
   "outputs": [],
   "source": [
    "from sklearn import preprocessing\n",
    "le = preprocessing.LabelEncoder()\n",
    "for col in test.columns:\n",
    "    if not postulaciones[col].dtype == 'O': continue\n",
    "    test[col] = test[col].fillna('na')\n",
    "    le.fit(test[col])\n",
    "    test[col] = le.transform(test[col])"
   ]
  },
  {
   "cell_type": "code",
   "execution_count": 8,
   "metadata": {},
   "outputs": [],
   "source": [
    "postulaciones = test[100000:].fillna(-1)\n",
    "test = test[:100000].fillna(-1)"
   ]
  },
  {
   "cell_type": "code",
   "execution_count": 9,
   "metadata": {},
   "outputs": [],
   "source": [
    "partitions = []\n",
    "partitions_res = []\n",
    "n = 3\n",
    "index = int(postulaciones.shape[0]/n)\n",
    "for i in range(n):\n",
    "    partitions.append(postulaciones[index*i:index*(i+1)])\n",
    "    partitions_res.append(resultados[index*i:index*(i+1)])"
   ]
  },
  {
   "cell_type": "code",
   "execution_count": 10,
   "metadata": {},
   "outputs": [],
   "source": [
    "print('Arranca XG')\n",
    "aviso = None\n",
    "postulantes = None\n",
    "import xgboost as xgb\n",
    "# read in data\n",
    "dtrain = xgb.DMatrix(data=partitions[0],label=partitions_res[0])\n",
    "dtest = xgb.DMatrix(data=partitions[2])\n",
    "# specify parameters via map\n",
    "param = {'max_depth':50, 'eta':1, 'silent':1, 'objective':'multi:softmax','num_class':3, 'subsample':1}\n",
    "num_round = 50\n",
    "bst = xgb.train(param, dtrain, num_round)\n",
    "# make prediction\n",
    "preds['xg'] = bst.predict(dtest)\n",
    "print('Termino XG')"
   ]
  },
  {
   "cell_type": "code",
   "execution_count": 11,
   "metadata": {},
   "outputs": [],
   "source": [
    "print('Arranca RF')\n",
    "from sklearn.ensemble import RandomForestClassifier\n",
    "from sklearn.metrics import accuracy_score\n",
    "from sklearn.metrics import confusion_matrix\n",
    "#X_train, X_test, y_train, y_test = train_test_split(postulaciones, resultado, test_size=0.2)\n",
    "clf=RandomForestClassifier(n_estimators=50,n_jobs=-1,warm_start=True,criterion='entropy')\n",
    "clf.fit(partitions[1],partitions_res[1])\n",
    "preds['ran']=clf.predict(partitions[2])\n",
    "print('Termino RF')"
   ]
  },
  {
   "cell_type": "code",
   "execution_count": 12,
   "metadata": {},
   "outputs": [
    {
     "data": {
      "text/plain": [
       "BernoulliNB(alpha=1.0, binarize=0.0, class_prior=None, fit_prior=True)"
      ]
     },
     "execution_count": 12,
     "metadata": {},
     "output_type": "execute_result"
    }
   ],
   "source": [
    "print('Arranca NB')\n",
    "from sklearn.naive_bayes import BernoulliNB\n",
    "nb = BernoulliNB()\n",
    "nb.fit(preds,partitions_res[2])\n",
    "BernoulliNB(alpha=1.0, binarize=0.0, class_prior=None, fit_prior=True)\n",
    "print('Termino NB')"
   ]
  },
  {
   "cell_type": "code",
   "execution_count": 14,
   "metadata": {},
   "outputs": [
    {
     "name": "stdout",
     "output_type": "stream",
     "text": [
      "Arranca XG Final\n",
      "Termino XG Final\n"
     ]
    }
   ],
   "source": [
    "print('Arranca XG Final')\n",
    "import xgboost as xgb\n",
    "# read in data\n",
    "dtrain = xgb.DMatrix(postulaciones,label=resultados)\n",
    "# specify parameters via map\n",
    "param = {'max_depth':50, 'eta':1, 'silent':1, 'objective':'multi:softmax','num_class':3, 'subsample':1}\n",
    "num_round = 50\n",
    "bst = xgb.train(param, dtrain, num_round)\n",
    "print('Termino XG Final')"
   ]
  },
  {
   "cell_type": "code",
   "execution_count": 15,
   "metadata": {},
   "outputs": [
    {
     "name": "stdout",
     "output_type": "stream",
     "text": [
      "Arranca RF Final\n",
      "Termino RF Final\n"
     ]
    }
   ],
   "source": [
    "print('Arranca RF Final')\n",
    "from sklearn.ensemble import RandomForestClassifier\n",
    "from sklearn.metrics import accuracy_score\n",
    "from sklearn.metrics import confusion_matrix\n",
    "#X_train, X_test, y_train, y_test = train_test_split(postulaciones, resultado, test_size=0.2)\n",
    "clf=RandomForestClassifier(n_estimators=50,n_jobs=-1,warm_start=True,criterion='entropy')\n",
    "clf.fit(postulaciones,resultados)\n",
    "print('Termino RF Final')"
   ]
  },
  {
   "cell_type": "code",
   "execution_count": 16,
   "metadata": {},
   "outputs": [],
   "source": [
    "preds = pd.DataFrame()\n",
    "dtest = xgb.DMatrix(data=test)\n",
    "preds['xg'] = bst.predict(dtest)\n",
    "preds['ran']=clf.predict(test)\n",
    "pred = nb.predict(preds)"
   ]
  },
  {
   "cell_type": "code",
   "execution_count": 21,
   "metadata": {},
   "outputs": [],
   "source": [
    "test = pd.read_csv('Sources/test_final_100k.csv')\n",
    "test['sepostulo'] = pred\n",
    "test.drop(['idaviso','idpostulante'],axis=1,inplace=True)\n",
    "test.to_csv('Sources/resultados_pipe.csv', index=False)"
   ]
  },
  {
   "cell_type": "code",
   "execution_count": null,
   "metadata": {},
   "outputs": [],
   "source": [
    "pred.to_csv('Sources/resultados_pip.csv')"
   ]
  }
 ],
 "metadata": {
  "kernelspec": {
   "display_name": "Python 3",
   "language": "python",
   "name": "python3"
  },
  "language_info": {
   "codemirror_mode": {
    "name": "ipython",
    "version": 3
   },
   "file_extension": ".py",
   "mimetype": "text/x-python",
   "name": "python",
   "nbconvert_exporter": "python",
   "pygments_lexer": "ipython3",
   "version": "3.6.4"
  }
 },
 "nbformat": 4,
 "nbformat_minor": 2
}
