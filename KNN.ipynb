{
 "cells": [
  {
   "cell_type": "code",
   "execution_count": null,
   "metadata": {},
   "outputs": [],
   "source": [
    "from sklearn.neighbors import KNeighborsClassifier\n",
    "result = []\n",
    "for i in range(5:100:10)\n",
    "    neigh = KNeighborsClassifier(n_neighbors=i ,n_jobs=-1, algorithm='auto')\n",
    "    neigh.fit(postulaciones, resultado)\n",
    "    knn_proba = predict(x_test)\n",
    "    scoree = score(knn_proba, y_test, sample_weight=None)\n",
    "    print(i,\" neighboors \",scoree)\n",
    "    result.append([i,scoree])"
   ]
  },
  {
   "cell_type": "code",
   "execution_count": null,
   "metadata": {},
   "outputs": [],
   "source": [
    "s = 0\n",
    "i = 5\n",
    "for x in result:\n",
    "    if x[1] > s:\n",
    "        i = x[0]"
   ]
  },
  {
   "cell_type": "code",
   "execution_count": null,
   "metadata": {},
   "outputs": [],
   "source": [
    "print(\"k = \", i )"
   ]
  },
  {
   "cell_type": "code",
   "execution_count": null,
   "metadata": {},
   "outputs": [],
   "source": [
    "neigh = KNeighborsClassifier(n_neighbors=i ,n_jobs=-1, algorithm='auto')\n",
    "neigh.fit(postulaciones, resultado)\n",
    "knn_result = neigh.predict_proba(test)"
   ]
  }
 ],
 "metadata": {
  "kernelspec": {
   "display_name": "Python 3",
   "language": "python",
   "name": "python3"
  },
  "language_info": {
   "codemirror_mode": {
    "name": "ipython",
    "version": 3
   },
   "file_extension": ".py",
   "mimetype": "text/x-python",
   "name": "python",
   "nbconvert_exporter": "python",
   "pygments_lexer": "ipython3",
   "version": "3.6.4"
  }
 },
 "nbformat": 4,
 "nbformat_minor": 2
}
