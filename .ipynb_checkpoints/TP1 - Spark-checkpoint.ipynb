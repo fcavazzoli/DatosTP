{
 "cells": [
  {
   "cell_type": "code",
   "execution_count": 1,
   "metadata": {},
   "outputs": [],
   "source": [
    "import datetime as datetime\n",
    "import pandas as pd\n",
    "import numpy as np\n",
    "import re\n",
    "import matplotlib.pyplot as plt\n",
    "from IPython.display import Image\n",
    "plt.style.use('default') # haciendo los graficos un poco mas bonitos xD\n",
    "plt.rcParams['figure.figsize'] = (15, 5)\n",
    "from pyspark import SparkContext\n",
    "from pyspark import SparkConf\n",
    "import pyspark as ps\n",
    "\n",
    "try: \n",
    "    type(sc)\n",
    "except NameError:\n",
    "    sc = ps.SparkContext('local[*]')"
   ]
  },
  {
   "cell_type": "code",
   "execution_count": 2,
   "metadata": {},
   "outputs": [
    {
     "data": {
      "text/html": [
       "<div>\n",
       "<style scoped>\n",
       "    .dataframe tbody tr th:only-of-type {\n",
       "        vertical-align: middle;\n",
       "    }\n",
       "\n",
       "    .dataframe tbody tr th {\n",
       "        vertical-align: top;\n",
       "    }\n",
       "\n",
       "    .dataframe thead th {\n",
       "        text-align: right;\n",
       "    }\n",
       "</style>\n",
       "<table border=\"1\" class=\"dataframe\">\n",
       "  <thead>\n",
       "    <tr style=\"text-align: right;\">\n",
       "      <th></th>\n",
       "      <th>idaviso</th>\n",
       "      <th>idpais</th>\n",
       "      <th>titulo</th>\n",
       "      <th>descripcion</th>\n",
       "      <th>nombre_zona</th>\n",
       "      <th>ciudad</th>\n",
       "      <th>mapacalle</th>\n",
       "      <th>tipo_de_trabajo</th>\n",
       "      <th>nivel_laboral</th>\n",
       "      <th>nombre_area</th>\n",
       "      <th>denominacion_empresa</th>\n",
       "    </tr>\n",
       "  </thead>\n",
       "  <tbody>\n",
       "    <tr>\n",
       "      <th>0</th>\n",
       "      <td>1112355872</td>\n",
       "      <td>1</td>\n",
       "      <td>Recepcionista/Asistente Administrativa</td>\n",
       "      <td>&lt;p&gt;&lt;span lang=\"ES\"&gt;RE/MAX Liberty, e&lt;/span&gt;mpr...</td>\n",
       "      <td>Gran Buenos Aires</td>\n",
       "      <td>NaN</td>\n",
       "      <td>NaN</td>\n",
       "      <td>Full-time</td>\n",
       "      <td>Senior / Semi-Senior</td>\n",
       "      <td>Recepcionista</td>\n",
       "      <td>Remax</td>\n",
       "    </tr>\n",
       "    <tr>\n",
       "      <th>1</th>\n",
       "      <td>1112335374</td>\n",
       "      <td>1</td>\n",
       "      <td>Chofer /Operario de deposito con C.N.R.T. (EXC...</td>\n",
       "      <td>&lt;p&gt;&lt;strong&gt;Empresa importadora de insumos de i...</td>\n",
       "      <td>Gran Buenos Aires</td>\n",
       "      <td>NaN</td>\n",
       "      <td>NaN</td>\n",
       "      <td>Full-time</td>\n",
       "      <td>Senior / Semi-Senior</td>\n",
       "      <td>Producción</td>\n",
       "      <td>G&amp;G Argentina S.A.</td>\n",
       "    </tr>\n",
       "  </tbody>\n",
       "</table>\n",
       "</div>"
      ],
      "text/plain": [
       "      idaviso  idpais                                             titulo  \\\n",
       "0  1112355872       1            Recepcionista/Asistente Administrativa    \n",
       "1  1112335374       1  Chofer /Operario de deposito con C.N.R.T. (EXC...   \n",
       "\n",
       "                                         descripcion        nombre_zona  \\\n",
       "0  <p><span lang=\"ES\">RE/MAX Liberty, e</span>mpr...  Gran Buenos Aires   \n",
       "1  <p><strong>Empresa importadora de insumos de i...  Gran Buenos Aires   \n",
       "\n",
       "  ciudad mapacalle tipo_de_trabajo         nivel_laboral    nombre_area  \\\n",
       "0    NaN       NaN       Full-time  Senior / Semi-Senior  Recepcionista   \n",
       "1    NaN       NaN       Full-time  Senior / Semi-Senior     Producción   \n",
       "\n",
       "  denominacion_empresa  \n",
       "0                Remax  \n",
       "1   G&G Argentina S.A.  "
      ]
     },
     "execution_count": 2,
     "metadata": {},
     "output_type": "execute_result"
    }
   ],
   "source": [
    "from pandas import Series\n",
    "avisos = pd.read_csv(\"Sources/fiuba_5_avisos_online.csv\")\n",
    "descripcion = pd.read_csv(\"Sources/fiuba_6_avisos_detalle.csv\")\n",
    "completo = pd.merge(avisos,descripcion, how = 'inner')\n",
    "completo.head(2)"
   ]
  },
  {
   "cell_type": "code",
   "execution_count": 3,
   "metadata": {},
   "outputs": [],
   "source": [
    "completo['descripcion'] = completo.apply(lambda x: str.upper(re.sub(\"<.*?>\", \"\", x['descripcion'])),axis=1)\n",
    "completo['descripcion'] = completo.apply(lambda x: re.sub(\"\\xa0\", \"\", x['descripcion']),axis=1)\n",
    "des = completo['descripcion'].tolist()"
   ]
  },
  {
   "cell_type": "code",
   "execution_count": 4,
   "metadata": {},
   "outputs": [],
   "source": [
    "for x in des:\n",
    "    x = tuple(x)"
   ]
  },
  {
   "cell_type": "code",
   "execution_count": 5,
   "metadata": {},
   "outputs": [
    {
     "data": {
      "text/plain": [
       "ParallelCollectionRDD[0] at parallelize at PythonRDD.scala:175"
      ]
     },
     "execution_count": 5,
     "metadata": {},
     "output_type": "execute_result"
    }
   ],
   "source": [
    "des = sc.parallelize(des)\n",
    "des"
   ]
  },
  {
   "cell_type": "code",
   "execution_count": 6,
   "metadata": {},
   "outputs": [],
   "source": [
    "import re, string, unicodedata\n",
    "def removePunctuation(text):    \n",
    "    text=str(text).lower().strip(' ')\n",
    "    text=unicodedata.normalize('NFD', text).encode('ascii','ignore')\n",
    "    text=text.decode('utf-8')\n",
    "    text=re.sub(r'[^a-zA-Z0-9 ]', '', text)   \n",
    "    return text\n",
    "\n",
    "des = des.map(removePunctuation)"
   ]
  },
  {
   "cell_type": "code",
   "execution_count": 7,
   "metadata": {},
   "outputs": [],
   "source": [
    "stopwords = ['el', 'la', 'los', 'les', 'las', 'de', 'del', 'a', 'ante', 'con', 'en', 'para', 'por', 'y', 'o', 'u', 'tu', 'te', 'ti', 'le', 'que', 'al', 'ha', 'un', 'han', 'lo', 'su', 'una', 'e','estas', 'esto', 'este', 'es', 'tras', 'suya', 'a', 'acá', 'ahí', 'ajena', 'ajenas', 'ajeno', 'ajenos', 'al', 'algo', 'algún', 'alguna', 'algunas', 'alguno', 'algunos', 'allá', 'alli', 'allí', 'ambos', 'ampleamos', 'ante', 'antes', 'aquel', 'aquella', 'aquellas', 'aquello', 'aquellos', 'aqui', 'aquí', 'arriba', '', 'asi', 'atras', 'aun', 'aunque', 'bajo', 'bastante', 'bien', 'cabe', 'cada', 'casi', 'cierta', 'ciertas', 'cierto', 'ciertos', 'como', 'cómo', 'con', 'conmigo', 'conseguimos', 'conseguir', 'consigo', 'consigue', 'consiguen', 'consigues', 'contigo', 'contra', 'cual', 'cuales', 'cualquier', 'cualquiera', 'cualquieras', 'cuancuán', 'cuando', 'cuanta', 'cuánta', 'cuantas', 'cuántas', 'cuanto', 'cuánto', 'cuantos', 'cuántos', 'de', 'dejar', 'del', 'demás', 'demas', 'demasiada', 'demasiadas', 'demasiado', 'demasiados', '', 'dentro', 'desde', 'donde', 'dos', 'el', 'él', 'ella', 'ellas', '', 'ello', 'ellos', 'empleais', 'emplean', 'emplear', 'empleas', 'empleo', 'en', 'encima', 'entonces', 'entre', 'era', 'eramos', 'eran', 'eras', 'eres', 'es', 'esa', 'esas', 'ese', 'eso', 'esos', 'esta', 'estaba', 'estado', 'estais', 'estamos', 'estan', 'estar', 'estas', 'este', 'esto', 'estos', 'estoy', 'etc', 'fin', 'fue', 'fueron', 'fui', 'fuimos', 'gueno', 'ha', 'hace', 'haceis', 'hacemos', 'hacen', 'hacer', 'haces', 'haciahaago', 'hasta', 'incluso', 'intenta', 'intentais', 'intentamos', 'intentan', 'intentar', 'intentas', 'intento', 'ir', 'jamás', 'junto', 'juntos', 'la', 'largo', 'las', 'lo', 'los', 'mas', 'más', 'me', 'menos', 'mi', 'mía', 'mia', 'mias', 'mientras', 'mio', 'mío', 'mios', 'mis', 'misma', 'mismas', 'mismo', 'mismos', 'modo', 'mucha', 'muchas', 'muchísima', 'muchísimas', 'muchísimo', 'muchísimos', 'mucho', 'muchos', 'muy', 'nada', 'ni', 'ningun', 'ninguna', 'ningunas', 'ninguno', 'ningunos', 'no', 'nos', 'nosotras', 'nosotros', 'nuestra', 'nuestras', 'nuestro', 'nuestros', 'nunca', 'os', 'otra', 'otras', 'otro', 'otros', 'para', 'parecer', 'pero', 'poca', 'pocas', 'poco', 'pocos', 'podeis', 'podemos', 'poder', 'podria', 'podriais', 'podriamos', 'podrian', 'podrias', 'por', 'por', 'qué', 'porque', 'primero', 'primero', 'desde', 'puede', 'pueden', 'puedo', 'pues', 'que', 'qué', 'querer', 'quien', 'quién', 'quienes', 'quienes', 'quiera', 'quienquiera', 'quiza', 'quizas', 'sabe', 'sabeis', 'sabemos', 'saben', 'saber', 'sabes', 'se', 'segun', 'ser', 'si', 'sí', 'siempre', 'siendo', 'sin', 'sín', 'sino', 'so', 'sobre', 'sois', 'solamente', 'solo', 'somos', 'soy', 'sr', 'sra', 'sres', 'esta', 'su', 'sus', 'suya', 'suyas', 'suyo', 'suyos', 'tal', 'tales', 'también', 'tambien', 'tampoco', 'tan', 'tanta', 'tantas', 'tanto', 'tantos', 'te', 'teneis', 'tenemos', 'tener', 'tengo', 'ti', 'tiempo', 'tiene', 'tienen', 'toda', 'todas', 'todo', 'todos', 'tomar', 'trabajatrabajais', 'trabajamos', 'trabajan', 'trabajar', 'trabajas', 'trabajo', 'tras', 'tú', 'tu', 'tus', 'tuya', 'tuyo', 'tuyos', 'ultimo', 'un', 'una', 'unas', 'uno', 'unos', 'usa', 'usais', 'usamos', 'usan', 'usar', 'usas', 'uso', 'usted', 'ustedes', 'va', 'vais', 'valor', 'vamos', 'van', 'varias', 'varios', 'vaya', 'verdad', 'verdadera', 'vosotras', 'vosotros', 'voy', 'vuestra', 'vuestras', 'vuestro', 'vuestros', 'y', 'ya', 'yo', 'como', 'cómo', 'hacer', 'se', 'tengo']\n",
    "def removestopwords(x):\n",
    "    return not(x in stopwords)"
   ]
  },
  {
   "cell_type": "code",
   "execution_count": 8,
   "metadata": {},
   "outputs": [],
   "source": [
    "wordsRDD = des.flatMap(lambda x:x.split(' '))\n",
    "wordsRDD = wordsRDD.filter(lambda x: len(x)>3)\n",
    "wordsRDD = wordsRDD.filter(lambda x: removestopwords(x))"
   ]
  },
  {
   "cell_type": "code",
   "execution_count": 16,
   "metadata": {},
   "outputs": [
    {
     "name": "stdout",
     "output_type": "stream",
     "text": [
      "Total frequency:354268\n",
      "[('experiencia', 4583), ('empresa', 2973), ('busqueda', 2769), ('importante', 2149), ('anos', 1984), ('equipo', 1753), ('manejo', 1648), ('tareas', 1617), ('cliente', 1576), ('clientes', 1411), ('conocimientos', 1397), ('zona', 1381), ('personal', 1364), ('lunes', 1353), ('desarrollo', 1313), ('empresas', 1284), ('servicios', 1277), ('viernes', 1256), ('area', 1248), ('gestion', 1206), ('laboral', 1157), ('condiciones', 1148), ('administracion', 1076), ('contratacion', 1075), ('excluyente', 1071), ('adecco', 971), ('orientacion', 946), ('capacidad', 936), ('contar', 924), ('productos', 919), ('nivel', 891), ('disponibilidad', 886), ('ventas', 872), ('compromiso', 869), ('requisitos', 861), ('encuentra', 848), ('sistemas', 839), ('principales', 834), ('calidad', 832), ('participar', 831), ('seleccion', 825), ('comercial', 823), ('control', 817), ('parte', 805), ('seguimiento', 794), ('encontramos', 793), ('carreras', 785), ('analisis', 779), ('realizar', 778), ('posicion', 777)]\n"
     ]
    }
   ],
   "source": [
    "freqsRDD = wordsRDD.map(lambda x:(x,1))\n",
    "total=freqsRDD.count()\n",
    "print(\"Total frequency:\"+str(total))\n",
    "freqsRDD = freqsRDD.reduceByKey(lambda x,y:x+y)\n",
    "mas_usadas = freqsRDD.takeOrdered(50,lambda x:-x[1])\n",
    "print(mas_usadas)\n"
   ]
  },
  {
   "cell_type": "code",
   "execution_count": 10,
   "metadata": {},
   "outputs": [],
   "source": [
    "def buscarBigramas(s, mas_usadas):\n",
    "    r = []\n",
    "    l = s.split()\n",
    "    for word in mas_usadas:\n",
    "        for i in range(0,len(l)-1):\n",
    "            if (removestopwords(l[i])) and (removestopwords(l[i+1])):                \n",
    "                if l[i+1] == word or l[i] == word:\n",
    "                    r.append((l[i],l[i+1]))            \n",
    "    return r\n",
    "def buscarTrigramas(s, mas_usadas):\n",
    "    r = []\n",
    "    l = s.split()\n",
    "    for word in mas_usadas:\n",
    "        for i in range(0,len(l)-4):\n",
    "            if (removestopwords(l[i])) and (removestopwords(l[i+1])):\n",
    "                if l[i] == word or l[i+1] == word or l[i+2] == word: \n",
    "                    r.append((l[i],l[i+1],l[i+2]))\n",
    "    return r"
   ]
  },
  {
   "cell_type": "code",
   "execution_count": 11,
   "metadata": {},
   "outputs": [
    {
     "name": "stdout",
     "output_type": "stream",
     "text": [
      "['experiencia', 'empresa', 'busqueda', 'importante', 'anos', 'equipo', 'manejo', 'tareas', 'cliente', 'clientes', 'conocimientos', 'zona', 'personal', 'lunes', 'desarrollo', 'empresas', 'servicios', 'viernes', 'area', 'gestion', 'laboral', 'condiciones', 'administracion', 'contratacion', 'excluyente', 'adecco', 'orientacion', 'capacidad', 'contar', 'productos', 'nivel', 'disponibilidad', 'ventas', 'compromiso', 'requisitos', 'encuentra', 'sistemas', 'principales', 'calidad', 'participar', 'seleccion', 'comercial', 'control', 'parte', 'seguimiento', 'encontramos', 'carreras', 'analisis', 'realizar', 'posicion']\n"
     ]
    },
    {
     "data": {
      "text/plain": [
       "[(('importante', 'empresa'), 2138),\n",
       " (('servicios', 'participar'), 692),\n",
       " (('principales', 'tareas'), 470),\n",
       " (('excelentes', 'condiciones'), 423),\n",
       " (('2', 'anos'), 374),\n",
       " (('3', 'anos'), 373),\n",
       " (('orientacion', 'sexual'), 365),\n",
       " (('enfermedad', 'orientacion'), 353),\n",
       " (('experiencia', 'comprobable'), 344),\n",
       " (('reclutamiento', 'seleccion'), 318),\n",
       " (('vosel', 'compromiso'), 317),\n",
       " (('cliente', 'importante'), 310),\n",
       " (('seleccion', 'evaluacion'), 310),\n",
       " (('buenas', 'condiciones'), 298),\n",
       " (('conocimientos', 'especificos'), 297),\n",
       " (('experiencia', 'contrastada'), 292),\n",
       " (('experiencia', 'minima'), 286),\n",
       " (('principales', 'responsabilidades'), 284),\n",
       " (('experiencia', 'previa'), 273),\n",
       " (('clima', 'laboral'), 269),\n",
       " (('laboral', 'lunes'), 258),\n",
       " (('disponibilidad', 'horaria'), 240),\n",
       " (('excluyente', 'contar'), 238),\n",
       " (('5', 'anos'), 221),\n",
       " (('formar', 'parte'), 220)]"
      ]
     },
     "execution_count": 11,
     "metadata": {},
     "output_type": "execute_result"
    }
   ],
   "source": [
    "mas_usadas = sc.parallelize(mas_usadas)\n",
    "mas_usadas = mas_usadas.map(lambda x: (x[0],0))\n",
    "mas_usadas = mas_usadas.take(50)\n",
    "lista = []\n",
    "for x in mas_usadas:\n",
    "    lista.append(x[0])\n",
    "print(lista)\n",
    "bigramsRDD = des.flatMap(lambda x: buscarBigramas(x,lista))\n",
    "bigramsFreq = bigramsRDD.map(lambda x:(x,1)).reduceByKey(lambda x,y:x+y)\n",
    "bigramsFreq.takeOrdered(25,lambda x:-x[1])\n",
    "\n",
    " freqsRDD.takeOrdered(50,lambda x:-x[1])\n",
    "my_words = [i for i,j in my_freqs]\n",
    "my_freqs = [j for i,j in my_freqs]\n",
    "\n",
    "print(my_words)\n",
    "print(my_freqs)\n",
    "\n",
    "plt.close()\n",
    "plt.clf()\n",
    "\n",
    "y_pos = np.arange(len(my_words))\n",
    "print(y_pos)\n",
    "plt.bar(y_pos, my_freqs, alpha=0.5)\n",
    "#plt.xticks(y_pos, my_words)\n",
    "plt.ylabel('Frequency')\n",
    "plt.title('Word')\n",
    " \n",
    "plt.savefig('foobar2.png')\n",
    "Image(\"foobar2.png\")"
   ]
  },
  {
   "cell_type": "code",
   "execution_count": 12,
   "metadata": {},
   "outputs": [
    {
     "data": {
      "text/plain": [
       "[(('importante', 'empresa', 'de'), 798),\n",
       " (('servicios', 'participar', 'de'), 692),\n",
       " (('enfermedad', 'orientacion', 'sexual'), 353),\n",
       " (('orientacion', 'sexual', 'estado'), 353),\n",
       " (('excelentes', 'condiciones', 'de'), 320),\n",
       " (('vosel', 'compromiso', 'de'), 317),\n",
       " (('reclutamiento', 'seleccion', 'evaluacion'), 310),\n",
       " (('seleccion', 'evaluacion', 'y'), 298),\n",
       " (('conocimientos', 'especificos', 'y'), 292),\n",
       " (('experiencia', 'contrastada', 'en'), 292),\n",
       " (('laboral', 'lunes', 'a'), 256),\n",
       " (('experiencia', 'comprobable', 'en'), 251),\n",
       " (('experiencia', 'minima', 'de'), 239),\n",
       " (('excluyente', 'contar', 'con'), 234),\n",
       " (('buenas', 'condiciones', 'de'), 232),\n",
       " (('cliente', 'importante', 'empresa'), 204),\n",
       " (('buen', 'manejo', 'de'), 191),\n",
       " (('formar', 'parte', 'de'), 190),\n",
       " (('administracion', 'secretariado', 'y'), 189),\n",
       " (('experiencia', 'previa', 'en'), 187),\n",
       " (('2', 'anos', 'en'), 178),\n",
       " (('3', 'anos', 'en'), 170),\n",
       " (('ofrecen', 'excelentes', 'condiciones'), 169),\n",
       " (('importante', 'empresa', 'del'), 164),\n",
       " (('importante', 'empresa', 'multinacional'), 154)]"
      ]
     },
     "execution_count": 12,
     "metadata": {},
     "output_type": "execute_result"
    }
   ],
   "source": [
    "trigramsRDD = des.flatMap(lambda x: buscarTrigramas(x,lista))\n",
    "trigramsFreq = trigramsRDD.map(lambda x:(x,1)).reduceByKey(lambda x,y:x+y)\n",
    "trigramsFreq.takeOrdered(25,lambda x:-x[1])"
   ]
  },
  {
   "cell_type": "code",
   "execution_count": 13,
   "metadata": {},
   "outputs": [
    {
     "data": {
      "text/plain": [
       "[(('2', 'anos'), 374),\n",
       " (('3', 'anos'), 373),\n",
       " (('experiencia', 'comprobable'), 344),\n",
       " (('secundario', 'completo'), 326),\n",
       " (('experiencia', 'contrastada'), 292),\n",
       " (('experiencia', 'minima'), 286),\n",
       " (('experiencia', 'previa'), 273),\n",
       " (('5', 'anos'), 221),\n",
       " (('idioma', 'ingles'), 185),\n",
       " (('primer', 'nivel'), 130),\n",
       " (('experiencia', 'aposta'), 109),\n",
       " (('experiencia', 'laboral'), 105),\n",
       " (('requiere', 'experiencia'), 101),\n",
       " (('ingles', 'avanzado'), 96),\n",
       " (('excluyente', 'experiencia'), 85),\n",
       " (('ingenieria', 'industrial'), 82),\n",
       " (('35', 'anos'), 81),\n",
       " (('secundario', 'tecnico'), 80),\n",
       " (('45', 'anos'), 80),\n",
       " (('tres', 'anos'), 78),\n",
       " (('4', 'anos'), 76),\n",
       " (('amplia', 'experiencia'), 73),\n",
       " (('poseer', 'experiencia'), 70),\n",
       " (('soporte', 'tecnico'), 70),\n",
       " (('ingles', 'intermedio'), 66)]"
      ]
     },
     "execution_count": 13,
     "metadata": {},
     "output_type": "execute_result"
    }
   ],
   "source": [
    "bigramsRDD = des.flatMap(lambda x: buscarBigramas(x,['ingeniero','ingenieria','universitario','tecnico','tecnicatura','administrativo','secretario','secretaria','enfermero','enfermera','taxi','remis','remiseria','chofer','secundario', 'sabados','domingos','anos','experiencia', 'nivel','ingles']))\n",
    "bigramsFreq = bigramsRDD.map(lambda x:(x,1)).reduceByKey(lambda x,y:x+y)\n",
    "bigramsFreq.takeOrdered(25,lambda x:-x[1])"
   ]
  },
  {
   "cell_type": "code",
   "execution_count": 14,
   "metadata": {},
   "outputs": [
    {
     "data": {
      "text/plain": [
       "[(('experiencia', 'contrastada', 'en'), 292),\n",
       " (('experiencia', 'comprobable', 'en'), 251),\n",
       " (('experiencia', 'minima', 'de'), 239),\n",
       " (('experiencia', 'previa', 'en'), 187),\n",
       " (('2', 'anos', 'en'), 178),\n",
       " (('3', 'anos', 'en'), 170),\n",
       " (('3', 'anos', 'de'), 115),\n",
       " (('experiencia', 'aposta', 'al'), 109),\n",
       " (('5', 'anos', 'en'), 107),\n",
       " (('2', 'anos', 'de'), 102),\n",
       " (('secundario', 'completo', 'experiencia'), 66),\n",
       " (('5', 'anos', 'de'), 64),\n",
       " (('amplia', 'experiencia', 'en'), 57),\n",
       " (('secundario', 'completo', 'con'), 45),\n",
       " (('requisitos', 'son', 'secundario'), 44),\n",
       " (('requisitos', 'son', 'experiencia'), 43),\n",
       " (('secundario', 'completo', 'excluyente'), 41),\n",
       " (('nivel', 'universitario', 'completo'), 40),\n",
       " (('requiere', 'experiencia', 'en'), 39),\n",
       " (('solida', 'experiencia', 'en'), 39),\n",
       " (('son', 'secundario', 'completo'), 37),\n",
       " (('experiencia', 'laboral', 'en'), 37),\n",
       " (('valorara', 'experiencia', 'en'), 37),\n",
       " (('buen', 'nivel', 'de'), 36),\n",
       " (('tres', 'anos', 'en'), 35)]"
      ]
     },
     "execution_count": 14,
     "metadata": {},
     "output_type": "execute_result"
    }
   ],
   "source": [
    "trigramsRDD = des.flatMap(lambda x: buscarTrigramas(x,['ingeniero','ingenieria','universitario','tecnico','tecnicatura','administrativo','secretario','secretaria','enfermero','enfermera','taxi','remis','remiseria','chofer','secundario', 'sabados','domingos','anos','experiencia', 'nivel','ingles']))\n",
    "trigramsFreq = trigramsRDD.map(lambda x:(x,1)).reduceByKey(lambda x,y:x+y)\n",
    "trigramsFreq.takeOrdered(25,lambda x:-x[1])"
   ]
  },
  {
   "cell_type": "code",
   "execution_count": null,
   "metadata": {},
   "outputs": [],
   "source": []
  },
  {
   "cell_type": "code",
   "execution_count": null,
   "metadata": {},
   "outputs": [],
   "source": []
  },
  {
   "cell_type": "code",
   "execution_count": null,
   "metadata": {},
   "outputs": [],
   "source": []
  }
 ],
 "metadata": {
  "kernelspec": {
   "display_name": "Python 3",
   "language": "python",
   "name": "python3"
  },
  "language_info": {
   "codemirror_mode": {
    "name": "ipython",
    "version": 3
   },
   "file_extension": ".py",
   "mimetype": "text/x-python",
   "name": "python",
   "nbconvert_exporter": "python",
   "pygments_lexer": "ipython3",
   "version": "3.6.4"
  }
 },
 "nbformat": 4,
 "nbformat_minor": 2
}
