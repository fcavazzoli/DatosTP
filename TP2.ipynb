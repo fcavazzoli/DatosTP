{
 "cells": [
  {
   "cell_type": "markdown",
   "metadata": {},
   "source": [
    "# TP2"
   ]
  },
  {
   "cell_type": "code",
   "execution_count": 1,
   "metadata": {},
   "outputs": [],
   "source": [
    "import pyspark\n",
    "from sklearn import preprocessing\n",
    "import xgboost as xgb\n",
    "import pandas as pd\n",
    "import numpy as np"
   ]
  },
  {
   "cell_type": "code",
   "execution_count": 2,
   "metadata": {},
   "outputs": [],
   "source": [
    "#sc.stop()\n",
    "sc = pyspark.SparkContext('local[*]')"
   ]
  },
  {
   "cell_type": "code",
   "execution_count": 3,
   "metadata": {},
   "outputs": [],
   "source": [
    "postulantes = pd.read_csv('Sources/postulantes_proc.csv').drop('Unnamed: 0', axis=1)\n",
    "avisos = pd.read_csv('Sources/fiuba_6_avisos_detalle_limpio.csv').drop('Unnamed: 0', axis=1)\n",
    "postulaciones = pd.read_csv('Sources/postulaciones_for_training.csv').drop('Unnamed: 0', axis=1)"
   ]
  },
  {
   "cell_type": "code",
   "execution_count": 4,
   "metadata": {},
   "outputs": [
    {
     "name": "stdout",
     "output_type": "stream",
     "text": [
      "(19700072, 3)\n"
     ]
    }
   ],
   "source": [
    "print(postulaciones.shape)\n",
    "postulaciones = postulaciones.merge(avisos, on='idaviso')\n",
    "postulaciones = postulaciones.merge(postulantes, on='idpostulante')"
   ]
  },
  {
   "cell_type": "code",
   "execution_count": 5,
   "metadata": {},
   "outputs": [],
   "source": [
    "postulaciones.drop(['titulo','descripcion'],axis=1, inplace=True)"
   ]
  },
  {
   "cell_type": "code",
   "execution_count": 6,
   "metadata": {},
   "outputs": [
    {
     "name": "stdout",
     "output_type": "stream",
     "text": [
      "(19700072, 16)\n"
     ]
    },
    {
     "data": {
      "text/html": [
       "<div>\n",
       "<style scoped>\n",
       "    .dataframe tbody tr th:only-of-type {\n",
       "        vertical-align: middle;\n",
       "    }\n",
       "\n",
       "    .dataframe tbody tr th {\n",
       "        vertical-align: top;\n",
       "    }\n",
       "\n",
       "    .dataframe thead th {\n",
       "        text-align: right;\n",
       "    }\n",
       "</style>\n",
       "<table border=\"1\" class=\"dataframe\">\n",
       "  <thead>\n",
       "    <tr style=\"text-align: right;\">\n",
       "      <th></th>\n",
       "      <th>idaviso</th>\n",
       "      <th>idpostulante</th>\n",
       "      <th>sepostulo</th>\n",
       "      <th>tipo_de_trabajo</th>\n",
       "      <th>nivel_laboral</th>\n",
       "      <th>nombre_area</th>\n",
       "      <th>denominacion_empresa</th>\n",
       "      <th>cluster</th>\n",
       "      <th>FEM</th>\n",
       "      <th>MASC</th>\n",
       "      <th>NO_DECLARA</th>\n",
       "      <th>TendenciaSexo</th>\n",
       "      <th>prom_edad</th>\n",
       "      <th>fechanacimiento</th>\n",
       "      <th>sexo</th>\n",
       "      <th>nivel</th>\n",
       "    </tr>\n",
       "  </thead>\n",
       "  <tbody>\n",
       "    <tr>\n",
       "      <th>0</th>\n",
       "      <td>1112407232</td>\n",
       "      <td>1QP36VO</td>\n",
       "      <td>0.0</td>\n",
       "      <td>Part-time</td>\n",
       "      <td>Senior / Semi-Senior</td>\n",
       "      <td>Recursos Humanos</td>\n",
       "      <td>Consultores de Empresas SRL</td>\n",
       "      <td>146.0</td>\n",
       "      <td>240.0</td>\n",
       "      <td>85.0</td>\n",
       "      <td>7.0</td>\n",
       "      <td>FEM</td>\n",
       "      <td>31.196319</td>\n",
       "      <td>22.0</td>\n",
       "      <td>FEM</td>\n",
       "      <td>11</td>\n",
       "    </tr>\n",
       "    <tr>\n",
       "      <th>1</th>\n",
       "      <td>1112377175</td>\n",
       "      <td>1QP36VO</td>\n",
       "      <td>0.0</td>\n",
       "      <td>Full-time</td>\n",
       "      <td>Senior / Semi-Senior</td>\n",
       "      <td>Administración</td>\n",
       "      <td>Excelencia Laboral S.A.</td>\n",
       "      <td>69.0</td>\n",
       "      <td>87.0</td>\n",
       "      <td>36.0</td>\n",
       "      <td>2.0</td>\n",
       "      <td>FEM</td>\n",
       "      <td>30.991935</td>\n",
       "      <td>22.0</td>\n",
       "      <td>FEM</td>\n",
       "      <td>11</td>\n",
       "    </tr>\n",
       "    <tr>\n",
       "      <th>2</th>\n",
       "      <td>1112141215</td>\n",
       "      <td>1QP36VO</td>\n",
       "      <td>0.0</td>\n",
       "      <td>Full-time</td>\n",
       "      <td>Senior / Semi-Senior</td>\n",
       "      <td>Tesorería</td>\n",
       "      <td>Manpower</td>\n",
       "      <td>21.0</td>\n",
       "      <td>2722.0</td>\n",
       "      <td>1363.0</td>\n",
       "      <td>59.0</td>\n",
       "      <td>FEM</td>\n",
       "      <td>28.014962</td>\n",
       "      <td>22.0</td>\n",
       "      <td>FEM</td>\n",
       "      <td>11</td>\n",
       "    </tr>\n",
       "    <tr>\n",
       "      <th>3</th>\n",
       "      <td>1112258963</td>\n",
       "      <td>1QP36VO</td>\n",
       "      <td>0.0</td>\n",
       "      <td>Full-time</td>\n",
       "      <td>Senior / Semi-Senior</td>\n",
       "      <td>Gastronomia</td>\n",
       "      <td>BAYTON</td>\n",
       "      <td>24.0</td>\n",
       "      <td>11.0</td>\n",
       "      <td>62.0</td>\n",
       "      <td>4.0</td>\n",
       "      <td>MASC</td>\n",
       "      <td>33.369863</td>\n",
       "      <td>22.0</td>\n",
       "      <td>FEM</td>\n",
       "      <td>11</td>\n",
       "    </tr>\n",
       "    <tr>\n",
       "      <th>4</th>\n",
       "      <td>1112275246</td>\n",
       "      <td>1QP36VO</td>\n",
       "      <td>0.0</td>\n",
       "      <td>Full-time</td>\n",
       "      <td>Senior / Semi-Senior</td>\n",
       "      <td>Comercial</td>\n",
       "      <td>Adecco -Región Office</td>\n",
       "      <td>167.0</td>\n",
       "      <td>1423.0</td>\n",
       "      <td>1163.0</td>\n",
       "      <td>14.0</td>\n",
       "      <td>NaN</td>\n",
       "      <td>30.800774</td>\n",
       "      <td>22.0</td>\n",
       "      <td>FEM</td>\n",
       "      <td>11</td>\n",
       "    </tr>\n",
       "  </tbody>\n",
       "</table>\n",
       "</div>"
      ],
      "text/plain": [
       "      idaviso idpostulante  sepostulo tipo_de_trabajo         nivel_laboral  \\\n",
       "0  1112407232      1QP36VO        0.0       Part-time  Senior / Semi-Senior   \n",
       "1  1112377175      1QP36VO        0.0       Full-time  Senior / Semi-Senior   \n",
       "2  1112141215      1QP36VO        0.0       Full-time  Senior / Semi-Senior   \n",
       "3  1112258963      1QP36VO        0.0       Full-time  Senior / Semi-Senior   \n",
       "4  1112275246      1QP36VO        0.0       Full-time  Senior / Semi-Senior   \n",
       "\n",
       "        nombre_area         denominacion_empresa  cluster     FEM    MASC  \\\n",
       "0  Recursos Humanos  Consultores de Empresas SRL    146.0   240.0    85.0   \n",
       "1    Administración      Excelencia Laboral S.A.     69.0    87.0    36.0   \n",
       "2         Tesorería                     Manpower     21.0  2722.0  1363.0   \n",
       "3       Gastronomia                       BAYTON     24.0    11.0    62.0   \n",
       "4         Comercial        Adecco -Región Office    167.0  1423.0  1163.0   \n",
       "\n",
       "   NO_DECLARA TendenciaSexo  prom_edad  fechanacimiento sexo  nivel  \n",
       "0         7.0           FEM  31.196319             22.0  FEM     11  \n",
       "1         2.0           FEM  30.991935             22.0  FEM     11  \n",
       "2        59.0           FEM  28.014962             22.0  FEM     11  \n",
       "3         4.0          MASC  33.369863             22.0  FEM     11  \n",
       "4        14.0           NaN  30.800774             22.0  FEM     11  "
      ]
     },
     "execution_count": 6,
     "metadata": {},
     "output_type": "execute_result"
    }
   ],
   "source": [
    "print(postulaciones.shape)\n",
    "postulaciones.head()"
   ]
  },
  {
   "cell_type": "code",
   "execution_count": 7,
   "metadata": {},
   "outputs": [
    {
     "name": "stdout",
     "output_type": "stream",
     "text": [
      "(100000, 3)\n"
     ]
    }
   ],
   "source": [
    "test = pd.read_csv(\"Sources/test_final_100k.csv\")\n",
    "print(test.shape)"
   ]
  },
  {
   "cell_type": "code",
   "execution_count": 8,
   "metadata": {},
   "outputs": [
    {
     "name": "stdout",
     "output_type": "stream",
     "text": [
      "(100000, 16)\n"
     ]
    },
    {
     "data": {
      "text/html": [
       "<div>\n",
       "<style scoped>\n",
       "    .dataframe tbody tr th:only-of-type {\n",
       "        vertical-align: middle;\n",
       "    }\n",
       "\n",
       "    .dataframe tbody tr th {\n",
       "        vertical-align: top;\n",
       "    }\n",
       "\n",
       "    .dataframe thead th {\n",
       "        text-align: right;\n",
       "    }\n",
       "</style>\n",
       "<table border=\"1\" class=\"dataframe\">\n",
       "  <thead>\n",
       "    <tr style=\"text-align: right;\">\n",
       "      <th></th>\n",
       "      <th>id</th>\n",
       "      <th>idaviso</th>\n",
       "      <th>idpostulante</th>\n",
       "      <th>tipo_de_trabajo</th>\n",
       "      <th>nivel_laboral</th>\n",
       "      <th>nombre_area</th>\n",
       "      <th>denominacion_empresa</th>\n",
       "      <th>cluster</th>\n",
       "      <th>FEM</th>\n",
       "      <th>MASC</th>\n",
       "      <th>NO_DECLARA</th>\n",
       "      <th>TendenciaSexo</th>\n",
       "      <th>prom_edad</th>\n",
       "      <th>fechanacimiento</th>\n",
       "      <th>sexo</th>\n",
       "      <th>nivel</th>\n",
       "    </tr>\n",
       "  </thead>\n",
       "  <tbody>\n",
       "    <tr>\n",
       "      <th>0</th>\n",
       "      <td>0</td>\n",
       "      <td>739260</td>\n",
       "      <td>6M9ZQR</td>\n",
       "      <td>Full-time</td>\n",
       "      <td>Jefe / Supervisor / Responsable</td>\n",
       "      <td>Comercial</td>\n",
       "      <td>BUMERAN.COM ARGENTINA</td>\n",
       "      <td>102.0</td>\n",
       "      <td>NaN</td>\n",
       "      <td>NaN</td>\n",
       "      <td>NaN</td>\n",
       "      <td>NaN</td>\n",
       "      <td>NaN</td>\n",
       "      <td>42.0</td>\n",
       "      <td>FEM</td>\n",
       "      <td>21</td>\n",
       "    </tr>\n",
       "    <tr>\n",
       "      <th>1</th>\n",
       "      <td>1</td>\n",
       "      <td>739260</td>\n",
       "      <td>6v1xdL</td>\n",
       "      <td>Full-time</td>\n",
       "      <td>Jefe / Supervisor / Responsable</td>\n",
       "      <td>Comercial</td>\n",
       "      <td>BUMERAN.COM ARGENTINA</td>\n",
       "      <td>102.0</td>\n",
       "      <td>NaN</td>\n",
       "      <td>NaN</td>\n",
       "      <td>NaN</td>\n",
       "      <td>NaN</td>\n",
       "      <td>NaN</td>\n",
       "      <td>31.0</td>\n",
       "      <td>MASC</td>\n",
       "      <td>9</td>\n",
       "    </tr>\n",
       "    <tr>\n",
       "      <th>2</th>\n",
       "      <td>2</td>\n",
       "      <td>739260</td>\n",
       "      <td>ezRKm9</td>\n",
       "      <td>Full-time</td>\n",
       "      <td>Jefe / Supervisor / Responsable</td>\n",
       "      <td>Comercial</td>\n",
       "      <td>BUMERAN.COM ARGENTINA</td>\n",
       "      <td>102.0</td>\n",
       "      <td>NaN</td>\n",
       "      <td>NaN</td>\n",
       "      <td>NaN</td>\n",
       "      <td>NaN</td>\n",
       "      <td>NaN</td>\n",
       "      <td>36.0</td>\n",
       "      <td>FEM</td>\n",
       "      <td>12</td>\n",
       "    </tr>\n",
       "    <tr>\n",
       "      <th>3</th>\n",
       "      <td>3</td>\n",
       "      <td>758580</td>\n",
       "      <td>1Q35ej</td>\n",
       "      <td>Full-time</td>\n",
       "      <td>Otro</td>\n",
       "      <td>Tecnologia / Sistemas</td>\n",
       "      <td>TeleTech</td>\n",
       "      <td>27.0</td>\n",
       "      <td>NaN</td>\n",
       "      <td>NaN</td>\n",
       "      <td>NaN</td>\n",
       "      <td>NaN</td>\n",
       "      <td>NaN</td>\n",
       "      <td>69.0</td>\n",
       "      <td>MASC</td>\n",
       "      <td>15</td>\n",
       "    </tr>\n",
       "    <tr>\n",
       "      <th>4</th>\n",
       "      <td>4</td>\n",
       "      <td>758580</td>\n",
       "      <td>EAN4J6</td>\n",
       "      <td>Full-time</td>\n",
       "      <td>Otro</td>\n",
       "      <td>Tecnologia / Sistemas</td>\n",
       "      <td>TeleTech</td>\n",
       "      <td>27.0</td>\n",
       "      <td>NaN</td>\n",
       "      <td>NaN</td>\n",
       "      <td>NaN</td>\n",
       "      <td>NaN</td>\n",
       "      <td>NaN</td>\n",
       "      <td>32.0</td>\n",
       "      <td>FEM</td>\n",
       "      <td>11</td>\n",
       "    </tr>\n",
       "  </tbody>\n",
       "</table>\n",
       "</div>"
      ],
      "text/plain": [
       "   id idaviso idpostulante tipo_de_trabajo                    nivel_laboral  \\\n",
       "0   0  739260       6M9ZQR       Full-time  Jefe / Supervisor / Responsable   \n",
       "1   1  739260       6v1xdL       Full-time  Jefe / Supervisor / Responsable   \n",
       "2   2  739260       ezRKm9       Full-time  Jefe / Supervisor / Responsable   \n",
       "3   3  758580       1Q35ej       Full-time                             Otro   \n",
       "4   4  758580       EAN4J6       Full-time                             Otro   \n",
       "\n",
       "             nombre_area   denominacion_empresa  cluster  FEM  MASC  \\\n",
       "0              Comercial  BUMERAN.COM ARGENTINA    102.0  NaN   NaN   \n",
       "1              Comercial  BUMERAN.COM ARGENTINA    102.0  NaN   NaN   \n",
       "2              Comercial  BUMERAN.COM ARGENTINA    102.0  NaN   NaN   \n",
       "3  Tecnologia / Sistemas               TeleTech     27.0  NaN   NaN   \n",
       "4  Tecnologia / Sistemas               TeleTech     27.0  NaN   NaN   \n",
       "\n",
       "   NO_DECLARA TendenciaSexo  prom_edad  fechanacimiento  sexo  nivel  \n",
       "0         NaN           NaN        NaN             42.0   FEM     21  \n",
       "1         NaN           NaN        NaN             31.0  MASC      9  \n",
       "2         NaN           NaN        NaN             36.0   FEM     12  \n",
       "3         NaN           NaN        NaN             69.0  MASC     15  \n",
       "4         NaN           NaN        NaN             32.0   FEM     11  "
      ]
     },
     "execution_count": 8,
     "metadata": {},
     "output_type": "execute_result"
    }
   ],
   "source": [
    "test = test.merge(avisos, on='idaviso')\n",
    "test = test.merge(postulantes, on='idpostulante')\n",
    "test.drop(['titulo','descripcion'],axis=1, inplace=True)\n",
    "print(test.shape)\n",
    "test.head()"
   ]
  },
  {
   "cell_type": "code",
   "execution_count": 9,
   "metadata": {},
   "outputs": [
    {
     "name": "stdout",
     "output_type": "stream",
     "text": [
      "(19700072, 13)\n",
      "(100000, 13)\n"
     ]
    }
   ],
   "source": [
    "resultado = postulaciones['sepostulo']\n",
    "postulaciones.drop(['sepostulo','idaviso','idpostulante'],axis=1,inplace=True)\n",
    "test.drop(['idaviso','idpostulante'],axis=1,inplace=True)\n",
    "test.drop('id',axis=1,inplace=True)\n",
    "print(postulaciones.shape)\n",
    "print(test.shape)"
   ]
  },
  {
   "cell_type": "code",
   "execution_count": 10,
   "metadata": {},
   "outputs": [
    {
     "name": "stdout",
     "output_type": "stream",
     "text": [
      "(19800072, 13)\n"
     ]
    }
   ],
   "source": [
    "test = pd.concat([test,postulaciones])\n",
    "print(test.shape)"
   ]
  },
  {
   "cell_type": "code",
   "execution_count": 11,
   "metadata": {},
   "outputs": [
    {
     "data": {
      "text/html": [
       "<div>\n",
       "<style scoped>\n",
       "    .dataframe tbody tr th:only-of-type {\n",
       "        vertical-align: middle;\n",
       "    }\n",
       "\n",
       "    .dataframe tbody tr th {\n",
       "        vertical-align: top;\n",
       "    }\n",
       "\n",
       "    .dataframe thead th {\n",
       "        text-align: right;\n",
       "    }\n",
       "</style>\n",
       "<table border=\"1\" class=\"dataframe\">\n",
       "  <thead>\n",
       "    <tr style=\"text-align: right;\">\n",
       "      <th></th>\n",
       "      <th>tipo_de_trabajo</th>\n",
       "      <th>nivel_laboral</th>\n",
       "      <th>nombre_area</th>\n",
       "      <th>denominacion_empresa</th>\n",
       "      <th>cluster</th>\n",
       "      <th>FEM</th>\n",
       "      <th>MASC</th>\n",
       "      <th>NO_DECLARA</th>\n",
       "      <th>TendenciaSexo</th>\n",
       "      <th>prom_edad</th>\n",
       "      <th>fechanacimiento</th>\n",
       "      <th>sexo</th>\n",
       "      <th>nivel</th>\n",
       "    </tr>\n",
       "  </thead>\n",
       "  <tbody>\n",
       "    <tr>\n",
       "      <th>0</th>\n",
       "      <td>Full-time</td>\n",
       "      <td>Jefe / Supervisor / Responsable</td>\n",
       "      <td>Comercial</td>\n",
       "      <td>BUMERAN.COM ARGENTINA</td>\n",
       "      <td>102.0</td>\n",
       "      <td>NaN</td>\n",
       "      <td>NaN</td>\n",
       "      <td>NaN</td>\n",
       "      <td>NaN</td>\n",
       "      <td>NaN</td>\n",
       "      <td>42.0</td>\n",
       "      <td>FEM</td>\n",
       "      <td>21</td>\n",
       "    </tr>\n",
       "    <tr>\n",
       "      <th>1</th>\n",
       "      <td>Full-time</td>\n",
       "      <td>Jefe / Supervisor / Responsable</td>\n",
       "      <td>Comercial</td>\n",
       "      <td>BUMERAN.COM ARGENTINA</td>\n",
       "      <td>102.0</td>\n",
       "      <td>NaN</td>\n",
       "      <td>NaN</td>\n",
       "      <td>NaN</td>\n",
       "      <td>NaN</td>\n",
       "      <td>NaN</td>\n",
       "      <td>31.0</td>\n",
       "      <td>MASC</td>\n",
       "      <td>9</td>\n",
       "    </tr>\n",
       "    <tr>\n",
       "      <th>2</th>\n",
       "      <td>Full-time</td>\n",
       "      <td>Jefe / Supervisor / Responsable</td>\n",
       "      <td>Comercial</td>\n",
       "      <td>BUMERAN.COM ARGENTINA</td>\n",
       "      <td>102.0</td>\n",
       "      <td>NaN</td>\n",
       "      <td>NaN</td>\n",
       "      <td>NaN</td>\n",
       "      <td>NaN</td>\n",
       "      <td>NaN</td>\n",
       "      <td>36.0</td>\n",
       "      <td>FEM</td>\n",
       "      <td>12</td>\n",
       "    </tr>\n",
       "    <tr>\n",
       "      <th>3</th>\n",
       "      <td>Full-time</td>\n",
       "      <td>Otro</td>\n",
       "      <td>Tecnologia / Sistemas</td>\n",
       "      <td>TeleTech</td>\n",
       "      <td>27.0</td>\n",
       "      <td>NaN</td>\n",
       "      <td>NaN</td>\n",
       "      <td>NaN</td>\n",
       "      <td>NaN</td>\n",
       "      <td>NaN</td>\n",
       "      <td>69.0</td>\n",
       "      <td>MASC</td>\n",
       "      <td>15</td>\n",
       "    </tr>\n",
       "    <tr>\n",
       "      <th>4</th>\n",
       "      <td>Full-time</td>\n",
       "      <td>Otro</td>\n",
       "      <td>Tecnologia / Sistemas</td>\n",
       "      <td>TeleTech</td>\n",
       "      <td>27.0</td>\n",
       "      <td>NaN</td>\n",
       "      <td>NaN</td>\n",
       "      <td>NaN</td>\n",
       "      <td>NaN</td>\n",
       "      <td>NaN</td>\n",
       "      <td>32.0</td>\n",
       "      <td>FEM</td>\n",
       "      <td>11</td>\n",
       "    </tr>\n",
       "  </tbody>\n",
       "</table>\n",
       "</div>"
      ],
      "text/plain": [
       "  tipo_de_trabajo                    nivel_laboral            nombre_area  \\\n",
       "0       Full-time  Jefe / Supervisor / Responsable              Comercial   \n",
       "1       Full-time  Jefe / Supervisor / Responsable              Comercial   \n",
       "2       Full-time  Jefe / Supervisor / Responsable              Comercial   \n",
       "3       Full-time                             Otro  Tecnologia / Sistemas   \n",
       "4       Full-time                             Otro  Tecnologia / Sistemas   \n",
       "\n",
       "    denominacion_empresa  cluster  FEM  MASC  NO_DECLARA TendenciaSexo  \\\n",
       "0  BUMERAN.COM ARGENTINA    102.0  NaN   NaN         NaN           NaN   \n",
       "1  BUMERAN.COM ARGENTINA    102.0  NaN   NaN         NaN           NaN   \n",
       "2  BUMERAN.COM ARGENTINA    102.0  NaN   NaN         NaN           NaN   \n",
       "3               TeleTech     27.0  NaN   NaN         NaN           NaN   \n",
       "4               TeleTech     27.0  NaN   NaN         NaN           NaN   \n",
       "\n",
       "   prom_edad  fechanacimiento  sexo  nivel  \n",
       "0        NaN             42.0   FEM     21  \n",
       "1        NaN             31.0  MASC      9  \n",
       "2        NaN             36.0   FEM     12  \n",
       "3        NaN             69.0  MASC     15  \n",
       "4        NaN             32.0   FEM     11  "
      ]
     },
     "execution_count": 11,
     "metadata": {},
     "output_type": "execute_result"
    }
   ],
   "source": [
    "test.head()"
   ]
  },
  {
   "cell_type": "code",
   "execution_count": 12,
   "metadata": {},
   "outputs": [],
   "source": [
    "from sklearn import preprocessing\n",
    "le = preprocessing.LabelEncoder()\n",
    "for col in test.columns:\n",
    "    if not postulaciones[col].dtype == 'O': continue\n",
    "    #postulaciones[col] = postulaciones.apply(lambda x: str(x[col]),axis=1)\n",
    "    test[col] = test[col].fillna('na')\n",
    "    le.fit(test[col])\n",
    "    test[col] = le.transform(test[col])\n",
    "    #postulaciones[col] = le.transform(postulaciones[col])"
   ]
  },
  {
   "cell_type": "raw",
   "metadata": {},
   "source": [
    "from sklearn import preprocessing\n",
    "le = preprocessing.LabelEncoder()\n",
    "for col in test.columns:\n",
    "    if not test[col].dtype == 'O': continue\n",
    "    test[col] = test.apply(lambda x: str(x[col]),axis=1)\n",
    "    le.fit(test[col])\n",
    "    test[col] = le.transform(test[col])\n",
    "test.head()"
   ]
  },
  {
   "cell_type": "code",
   "execution_count": 13,
   "metadata": {},
   "outputs": [],
   "source": [
    "#postulaciones.rename(columns={x:int(y) for x,y in zip(postulaciones.columns,range(1,len(postulaciones.columns)+1))},inplace=True)\n",
    "test.rename(columns={x:int(y) for x,y in zip(test.columns,range(1,len(test.columns)+1))},inplace=True)"
   ]
  },
  {
   "cell_type": "code",
   "execution_count": 14,
   "metadata": {},
   "outputs": [
    {
     "name": "stdout",
     "output_type": "stream",
     "text": [
      "(19700072, 13)\n",
      "(19700072,)\n",
      "(19800072, 13)\n"
     ]
    }
   ],
   "source": [
    "print(postulaciones.shape)\n",
    "print(resultado.shape)\n",
    "print(test.shape)\n",
    "postulaciones = test[100000:]\n",
    "test = test[:100000]"
   ]
  },
  {
   "cell_type": "code",
   "execution_count": 15,
   "metadata": {},
   "outputs": [
    {
     "name": "stdout",
     "output_type": "stream",
     "text": [
      "(19700072, 13)\n",
      "(19700072,)\n",
      "(100000, 13)\n"
     ]
    }
   ],
   "source": [
    "print(postulaciones.shape)\n",
    "print(resultado.shape)\n",
    "print(test.shape)"
   ]
  },
  {
   "cell_type": "code",
   "execution_count": 16,
   "metadata": {},
   "outputs": [
    {
     "data": {
      "text/html": [
       "<div>\n",
       "<style scoped>\n",
       "    .dataframe tbody tr th:only-of-type {\n",
       "        vertical-align: middle;\n",
       "    }\n",
       "\n",
       "    .dataframe tbody tr th {\n",
       "        vertical-align: top;\n",
       "    }\n",
       "\n",
       "    .dataframe thead th {\n",
       "        text-align: right;\n",
       "    }\n",
       "</style>\n",
       "<table border=\"1\" class=\"dataframe\">\n",
       "  <thead>\n",
       "    <tr style=\"text-align: right;\">\n",
       "      <th></th>\n",
       "      <th>1</th>\n",
       "      <th>2</th>\n",
       "      <th>3</th>\n",
       "      <th>4</th>\n",
       "      <th>5</th>\n",
       "      <th>6</th>\n",
       "      <th>7</th>\n",
       "      <th>8</th>\n",
       "      <th>9</th>\n",
       "      <th>10</th>\n",
       "      <th>11</th>\n",
       "      <th>12</th>\n",
       "      <th>13</th>\n",
       "    </tr>\n",
       "  </thead>\n",
       "  <tbody>\n",
       "    <tr>\n",
       "      <th>0</th>\n",
       "      <td>2</td>\n",
       "      <td>4</td>\n",
       "      <td>154</td>\n",
       "      <td>954</td>\n",
       "      <td>146.0</td>\n",
       "      <td>240.0</td>\n",
       "      <td>85.0</td>\n",
       "      <td>7.0</td>\n",
       "      <td>0</td>\n",
       "      <td>31.196319</td>\n",
       "      <td>22.0</td>\n",
       "      <td>1</td>\n",
       "      <td>11</td>\n",
       "    </tr>\n",
       "    <tr>\n",
       "      <th>1</th>\n",
       "      <td>1</td>\n",
       "      <td>4</td>\n",
       "      <td>2</td>\n",
       "      <td>1497</td>\n",
       "      <td>69.0</td>\n",
       "      <td>87.0</td>\n",
       "      <td>36.0</td>\n",
       "      <td>2.0</td>\n",
       "      <td>0</td>\n",
       "      <td>30.991935</td>\n",
       "      <td>22.0</td>\n",
       "      <td>1</td>\n",
       "      <td>11</td>\n",
       "    </tr>\n",
       "    <tr>\n",
       "      <th>2</th>\n",
       "      <td>1</td>\n",
       "      <td>4</td>\n",
       "      <td>175</td>\n",
       "      <td>2570</td>\n",
       "      <td>21.0</td>\n",
       "      <td>2722.0</td>\n",
       "      <td>1363.0</td>\n",
       "      <td>59.0</td>\n",
       "      <td>0</td>\n",
       "      <td>28.014962</td>\n",
       "      <td>22.0</td>\n",
       "      <td>1</td>\n",
       "      <td>11</td>\n",
       "    </tr>\n",
       "    <tr>\n",
       "      <th>3</th>\n",
       "      <td>1</td>\n",
       "      <td>4</td>\n",
       "      <td>82</td>\n",
       "      <td>389</td>\n",
       "      <td>24.0</td>\n",
       "      <td>11.0</td>\n",
       "      <td>62.0</td>\n",
       "      <td>4.0</td>\n",
       "      <td>1</td>\n",
       "      <td>33.369863</td>\n",
       "      <td>22.0</td>\n",
       "      <td>1</td>\n",
       "      <td>11</td>\n",
       "    </tr>\n",
       "    <tr>\n",
       "      <th>4</th>\n",
       "      <td>1</td>\n",
       "      <td>4</td>\n",
       "      <td>30</td>\n",
       "      <td>206</td>\n",
       "      <td>167.0</td>\n",
       "      <td>1423.0</td>\n",
       "      <td>1163.0</td>\n",
       "      <td>14.0</td>\n",
       "      <td>2</td>\n",
       "      <td>30.800774</td>\n",
       "      <td>22.0</td>\n",
       "      <td>1</td>\n",
       "      <td>11</td>\n",
       "    </tr>\n",
       "  </tbody>\n",
       "</table>\n",
       "</div>"
      ],
      "text/plain": [
       "   1   2    3     4      5       6       7     8   9          10    11  12  13\n",
       "0   2   4  154   954  146.0   240.0    85.0   7.0   0  31.196319  22.0   1  11\n",
       "1   1   4    2  1497   69.0    87.0    36.0   2.0   0  30.991935  22.0   1  11\n",
       "2   1   4  175  2570   21.0  2722.0  1363.0  59.0   0  28.014962  22.0   1  11\n",
       "3   1   4   82   389   24.0    11.0    62.0   4.0   1  33.369863  22.0   1  11\n",
       "4   1   4   30   206  167.0  1423.0  1163.0  14.0   2  30.800774  22.0   1  11"
      ]
     },
     "execution_count": 16,
     "metadata": {},
     "output_type": "execute_result"
    }
   ],
   "source": [
    "postulaciones.head()"
   ]
  },
  {
   "cell_type": "code",
   "execution_count": null,
   "metadata": {},
   "outputs": [],
   "source": [
    "test['sepostulo'] = 1\n",
    "resu_test = test['sepostulo']\n",
    "test.drop('sepostulo',axis=1,inplace=True)"
   ]
  },
  {
   "cell_type": "code",
   "execution_count": null,
   "metadata": {},
   "outputs": [
    {
     "name": "stdout",
     "output_type": "stream",
     "text": [
      "Creando Matriz\n",
      "Entrenando\n"
     ]
    }
   ],
   "source": [
    "aviso = None\n",
    "postulantes = None\n",
    "import xgboost as xgb\n",
    "# read in data\n",
    "print('Creando Matriz')\n",
    "dtrain = xgb.DMatrix(data=postulaciones,label=resultado)\n",
    "dtest = xgb.DMatrix(data=test, label=resu_test)\n",
    "# specify parameters via map\n",
    "print('Entrenando')\n",
    "param = {'max_depth':50, 'eta':0.5, 'silent':1, 'objective':'multi:softmax','num_class':2, 'subsample':1}\n",
    "num_round = 50\n",
    "\n",
    "bst = xgb.train(param, dtrain, num_round)\n",
    "# make prediction\n",
    "preds = bst.predict(dtest)"
   ]
  },
  {
   "cell_type": "code",
   "execution_count": null,
   "metadata": {},
   "outputs": [],
   "source": [
    "preds[preds==1]"
   ]
  },
  {
   "cell_type": "raw",
   "metadata": {},
   "source": [
    "test[16] = 0\n",
    "resultadob = test[16]\n",
    "test.drop(16,axis=1,inplace=True)"
   ]
  },
  {
   "cell_type": "raw",
   "metadata": {},
   "source": [
    "postulaciones[16] = 1\n",
    "resultado = postulaciones[16]\n",
    "postulaciones.drop(16,axis=1,inplace=True)"
   ]
  },
  {
   "cell_type": "raw",
   "metadata": {},
   "source": [
    "test = pd.read_csv(\"Sources/test_final_100k.csv\")\n",
    "\n"
   ]
  },
  {
   "cell_type": "code",
   "execution_count": null,
   "metadata": {},
   "outputs": [],
   "source": [
    "test = pd.read_csv(\"Sources/test_final_100k.csv\")\n",
    "\n"
   ]
  },
  {
   "cell_type": "code",
   "execution_count": null,
   "metadata": {},
   "outputs": [],
   "source": [
    "test['sepostulo'] = preds"
   ]
  },
  {
   "cell_type": "code",
   "execution_count": null,
   "metadata": {},
   "outputs": [],
   "source": [
    "test.head()"
   ]
  },
  {
   "cell_type": "code",
   "execution_count": null,
   "metadata": {},
   "outputs": [],
   "source": [
    "test.drop(['idaviso','idpostulante'],axis=1,inplace=True)"
   ]
  },
  {
   "cell_type": "code",
   "execution_count": null,
   "metadata": {},
   "outputs": [],
   "source": [
    "test.to_csv('Sources/resultados.csv', index=False)"
   ]
  },
  {
   "cell_type": "code",
   "execution_count": null,
   "metadata": {},
   "outputs": [],
   "source": [
    "pd.concat([test['idaviso'],postulaciones['idaviso']])"
   ]
  },
  {
   "cell_type": "code",
   "execution_count": null,
   "metadata": {},
   "outputs": [],
   "source": []
  }
 ],
 "metadata": {
  "kernelspec": {
   "display_name": "Python 3",
   "language": "python",
   "name": "python3"
  },
  "language_info": {
   "codemirror_mode": {
    "name": "ipython",
    "version": 3
   },
   "file_extension": ".py",
   "mimetype": "text/x-python",
   "name": "python",
   "nbconvert_exporter": "python",
   "pygments_lexer": "ipython3",
   "version": "3.6.4"
  }
 },
 "nbformat": 4,
 "nbformat_minor": 2
}
