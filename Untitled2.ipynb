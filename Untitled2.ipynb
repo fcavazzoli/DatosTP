{
 "cells": [
  {
   "cell_type": "code",
   "execution_count": 17,
   "metadata": {},
   "outputs": [
    {
     "name": "stdout",
     "output_type": "stream",
     "text": [
      "1.0\n"
     ]
    },
    {
     "name": "stderr",
     "output_type": "stream",
     "text": [
      "/anaconda3/lib/python3.6/site-packages/ipykernel_launcher.py:10: DeprecationWarning: \n",
      ".ix is deprecated. Please use\n",
      ".loc for label based indexing or\n",
      ".iloc for positional indexing\n",
      "\n",
      "See the documentation here:\n",
      "http://pandas.pydata.org/pandas-docs/stable/indexing.html#ix-indexer-is-deprecated\n",
      "  # Remove the CWD from sys.path while we load stuff.\n"
     ]
    }
   ],
   "source": [
    "# loading libraries\n",
    "import pandas as pd\n",
    "import numpy as np\n",
    "from sklearn.cross_validation import train_test_split\n",
    "from sklearn.neighbors import KNeighborsClassifier\n",
    "from sklearn.metrics import accuracy_score\n",
    "# Load the data from the TXT file (no header), column names passed\n",
    "df = pd.read_csv('iris.data.csv', header=None, names=['sepal_length', 'sepal_width', 'petal_length', 'petal_width', 'class'])\n",
    "# X will have the numeric data, Y will have the target class\n",
    "X = np.array(df.ix[:, 0:4]) \n",
    "y = np.array(df['class']) \n",
    "# Split into train and test, use only 10% as test (15 flowers)\n",
    "X_train, X_test, y_train, y_test = train_test_split(X, y, test_size=0.10, random_state=7506)\n",
    "# Create KNN classifier\n",
    "knn = KNeighborsClassifier(n_neighbors=7)\n",
    "# FIT (this does nothing in normal KNN)\n",
    "knn.fit(X_train, y_train)\n",
    "# predict the response \n",
    "pred = knn.predict(X_test)\n",
    "# evaluate accuracy\n",
    "print(accuracy_score(y_test, pred))"
   ]
  },
  {
   "cell_type": "code",
   "execution_count": 10,
   "metadata": {},
   "outputs": [
    {
     "data": {
      "text/plain": [
       "2.0"
      ]
     },
     "execution_count": 10,
     "metadata": {},
     "output_type": "execute_result"
    }
   ],
   "source": [
    "np.median([1,2,2,5,8])"
   ]
  },
  {
   "cell_type": "code",
   "execution_count": 15,
   "metadata": {},
   "outputs": [
    {
     "data": {
      "text/plain": [
       "array(['Iris-setosa', 'Iris-setosa', 'Iris-versicolor', 'Iris-virginica',\n",
       "       'Iris-virginica', 'Iris-setosa', 'Iris-setosa', 'Iris-virginica',\n",
       "       'Iris-virginica', 'Iris-versicolor', 'Iris-versicolor',\n",
       "       'Iris-setosa', 'Iris-versicolor', 'Iris-versicolor',\n",
       "       'Iris-virginica'], dtype=object)"
      ]
     },
     "execution_count": 15,
     "metadata": {},
     "output_type": "execute_result"
    }
   ],
   "source": [
    "y_test"
   ]
  },
  {
   "cell_type": "code",
   "execution_count": 16,
   "metadata": {},
   "outputs": [
    {
     "data": {
      "text/plain": [
       "array(['Iris-setosa', 'Iris-setosa', 'Iris-versicolor', 'Iris-virginica',\n",
       "       'Iris-virginica', 'Iris-setosa', 'Iris-setosa', 'Iris-virginica',\n",
       "       'Iris-virginica', 'Iris-versicolor', 'Iris-versicolor',\n",
       "       'Iris-setosa', 'Iris-versicolor', 'Iris-versicolor',\n",
       "       'Iris-versicolor'], dtype=object)"
      ]
     },
     "execution_count": 16,
     "metadata": {},
     "output_type": "execute_result"
    }
   ],
   "source": [
    "pred"
   ]
  },
  {
   "cell_type": "code",
   "execution_count": 24,
   "metadata": {},
   "outputs": [],
   "source": [
    "dic = {'v1':[-0.03523597, 0.32230245, -0.12863445, -0.05499823 ,0.44394174, -0.64023494],\n",
    "       'v2':[-0.42261242, -0.94746882, -0.42385565 ,-0.57185003, 0.30857046, -0.06489488],\n",
    "       'v3':[ 0.64302075 ,0.42868685, 0.30156031 ,-0.69333788 ,-0.32130466 ,-0.12057523], \n",
    "       'v4':[ 0.83048764, -0.31629304, -0.29266495 ,-0.83020893 ,0.81144827 ,0.27869104], \n",
    "       'v5':[-0.291947 ,0.47880295 ,-0.20378554, -0.45709396 ,-0.56440462, -0.40772986] }\n",
    "ve = ['v1','v2','v3','v4','v5']"
   ]
  },
  {
   "cell_type": "code",
   "execution_count": 22,
   "metadata": {},
   "outputs": [],
   "source": [
    "from scipy.spatial import distance\n",
    "import itertools"
   ]
  },
  {
   "cell_type": "code",
   "execution_count": 25,
   "metadata": {},
   "outputs": [],
   "source": [
    "def distancias(va,vb):\n",
    "    print('Distancia Euclideana: ', distance.euclidean(va,vb))\n",
    "    print('Distancia Manhattan: ', distance.cityblock(va,vb))"
   ]
  },
  {
   "cell_type": "code",
   "execution_count": 26,
   "metadata": {},
   "outputs": [
    {
     "name": "stdout",
     "output_type": "stream",
     "text": [
      "Distancias entre  v1 v1\n",
      "Distancia Euclideana:  0.0\n",
      "Distancia Manhattan:  0.0\n",
      "Distancias entre  v1 v2\n",
      "Distancia Euclideana:  1.570354259495079\n",
      "Distancia Manhattan:  3.1799320600000005\n",
      "Distancias entre  v1 v3\n",
      "Distancia Euclideana:  1.3854757760395318\n",
      "Distancia Manhattan:  3.1380816400000002\n",
      "Distancias entre  v1 v4\n",
      "Distancia Euclideana:  1.6627162143300682\n",
      "Distancia Manhattan:  3.7299928099999997\n",
      "Distancias entre  v1 v5\n",
      "Distancia Euclideana:  1.1526242300886218\n",
      "Distancia Manhattan:  2.13130979\n",
      "Distancias entre  v2 v1\n",
      "Distancia Euclideana:  1.570354259495079\n",
      "Distancia Manhattan:  3.1799320600000005\n",
      "Distancias entre  v2 v2\n",
      "Distancia Euclideana:  0.0\n",
      "Distancia Manhattan:  0.0\n",
      "Distancias entre  v2 v3\n",
      "Distancia Euclideana:  1.9925383464236963\n",
      "Distancia Manhattan:  3.9742481199999995\n",
      "Distancias entre  v2 v4\n",
      "Distancia Euclideana:  1.556772405594008\n",
      "Distancia Manhattan:  3.1202891699999995\n",
      "Distancias entre  v2 v5\n",
      "Distancia Euclideana:  1.729897608707687\n",
      "Distancia Manhattan:  3.1075734300000004\n",
      "Distancias entre  v3 v1\n",
      "Distancia Euclideana:  1.3854757760395318\n",
      "Distancia Manhattan:  3.1380816400000002\n",
      "Distancias entre  v3 v2\n",
      "Distancia Euclideana:  1.9925383464236963\n",
      "Distancia Manhattan:  3.9742481199999995\n",
      "Distancias entre  v3 v3\n",
      "Distancia Euclideana:  0.0\n",
      "Distancia Manhattan:  0.0\n",
      "Distancias entre  v3 v4\n",
      "Distancia Euclideana:  1.5506511439018618\n",
      "Distancia Manhattan:  3.19556229\n",
      "Distancias entre  v3 v5\n",
      "Distancia Euclideana:  1.1530036023147976\n",
      "Distancia Manhattan:  2.25692821\n",
      "Distancias entre  v4 v1\n",
      "Distancia Euclideana:  1.6627162143300682\n",
      "Distancia Manhattan:  3.7299928099999997\n",
      "Distancias entre  v4 v2\n",
      "Distancia Euclideana:  1.556772405594008\n",
      "Distancia Manhattan:  3.1202891699999995\n",
      "Distancias entre  v4 v3\n",
      "Distancia Euclideana:  1.5506511439018618\n",
      "Distancia Manhattan:  3.19556229\n",
      "Distancias entre  v4 v4\n",
      "Distancia Euclideana:  0.0\n",
      "Distancia Manhattan:  0.0\n",
      "Distancias entre  v4 v5\n",
      "Distancia Euclideana:  2.0984032766902128\n",
      "Distancia Manhattan:  4.4417988\n",
      "Distancias entre  v5 v1\n",
      "Distancia Euclideana:  1.1526242300886218\n",
      "Distancia Manhattan:  2.13130979\n",
      "Distancias entre  v5 v2\n",
      "Distancia Euclideana:  1.729897608707687\n",
      "Distancia Manhattan:  3.1075734300000004\n",
      "Distancias entre  v5 v3\n",
      "Distancia Euclideana:  1.1530036023147976\n",
      "Distancia Manhattan:  2.25692821\n",
      "Distancias entre  v5 v4\n",
      "Distancia Euclideana:  2.0984032766902128\n",
      "Distancia Manhattan:  4.4417988\n",
      "Distancias entre  v5 v5\n",
      "Distancia Euclideana:  0.0\n",
      "Distancia Manhattan:  0.0\n"
     ]
    }
   ],
   "source": [
    "for x in itertools.product(ve,ve):\n",
    "    print(\"Distancias entre \",x[0],x[1])\n",
    "    distancias(dic[x[0]],dic[x[1]])"
   ]
  },
  {
   "cell_type": "code",
   "execution_count": null,
   "metadata": {},
   "outputs": [],
   "source": []
  }
 ],
 "metadata": {
  "kernelspec": {
   "display_name": "Python 3",
   "language": "python",
   "name": "python3"
  },
  "language_info": {
   "codemirror_mode": {
    "name": "ipython",
    "version": 3
   },
   "file_extension": ".py",
   "mimetype": "text/x-python",
   "name": "python",
   "nbconvert_exporter": "python",
   "pygments_lexer": "ipython3",
   "version": "3.6.4"
  }
 },
 "nbformat": 4,
 "nbformat_minor": 2
}
