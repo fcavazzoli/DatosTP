{
 "cells": [
  {
   "cell_type": "code",
   "execution_count": 1,
   "metadata": {},
   "outputs": [],
   "source": [
    "import pandas as pd\n",
    "from sklearn import preprocessing\n",
    "from sklearn.model_selection import train_test_split"
   ]
  },
  {
   "cell_type": "code",
   "execution_count": 44,
   "metadata": {},
   "outputs": [],
   "source": [
    "postulaciones = pd.read_csv('Sources/postulaciones_visitas.csv').drop('Unnamed: 0', axis=1)"
   ]
  },
  {
   "cell_type": "code",
   "execution_count": 41,
   "metadata": {},
   "outputs": [],
   "source": [
    "postulantes = pd.read_csv('Sources/postulantes_proc.csv').drop('Unnamed: 0', axis=1)\n",
    "avisos = pd.read_csv('Sources/fiuba_6_avisos_detalle_limpio.csv').drop('Unnamed: 0', axis=1)\n",
    "test = pd.read_csv('Sources/test_final_100k.csv')\n",
    "visitas = pd.read_csv('Sources/visitas_proc.csv').drop('Unnamed: 0', axis=1)\n",
    "preds = pd.DataFrame()"
   ]
  },
  {
   "cell_type": "code",
   "execution_count": 45,
   "metadata": {},
   "outputs": [
    {
     "data": {
      "text/html": [
       "<div>\n",
       "<style scoped>\n",
       "    .dataframe tbody tr th:only-of-type {\n",
       "        vertical-align: middle;\n",
       "    }\n",
       "\n",
       "    .dataframe tbody tr th {\n",
       "        vertical-align: top;\n",
       "    }\n",
       "\n",
       "    .dataframe thead th {\n",
       "        text-align: right;\n",
       "    }\n",
       "</style>\n",
       "<table border=\"1\" class=\"dataframe\">\n",
       "  <thead>\n",
       "    <tr style=\"text-align: right;\">\n",
       "      <th></th>\n",
       "      <th>visito</th>\n",
       "      <th>fechanacimiento</th>\n",
       "      <th>sexo</th>\n",
       "      <th>nivel</th>\n",
       "      <th>tipo_de_trabajo</th>\n",
       "      <th>nivel_laboral</th>\n",
       "      <th>nombre_area</th>\n",
       "      <th>denominacion_empresa</th>\n",
       "      <th>cluster</th>\n",
       "      <th>FEM</th>\n",
       "      <th>...</th>\n",
       "      <th>NO_DECLARA</th>\n",
       "      <th>TendenciaSexo</th>\n",
       "      <th>prom_edad</th>\n",
       "      <th>sabados</th>\n",
       "      <th>domingos</th>\n",
       "      <th>ingles</th>\n",
       "      <th>3 anos</th>\n",
       "      <th>2 anos</th>\n",
       "      <th>4 anos</th>\n",
       "      <th>5 anos</th>\n",
       "    </tr>\n",
       "  </thead>\n",
       "  <tbody>\n",
       "    <tr>\n",
       "      <th>0</th>\n",
       "      <td>2.168527</td>\n",
       "      <td>37.0</td>\n",
       "      <td>FEM</td>\n",
       "      <td>12</td>\n",
       "      <td>Full-time</td>\n",
       "      <td>Senior / Semi-Senior</td>\n",
       "      <td>Marketing</td>\n",
       "      <td>Lo Jack</td>\n",
       "      <td>5.0</td>\n",
       "      <td>125.0</td>\n",
       "      <td>...</td>\n",
       "      <td>0.0</td>\n",
       "      <td>FEM</td>\n",
       "      <td>30.251142</td>\n",
       "      <td>0</td>\n",
       "      <td>0</td>\n",
       "      <td>0</td>\n",
       "      <td>0</td>\n",
       "      <td>0</td>\n",
       "      <td>0</td>\n",
       "      <td>0</td>\n",
       "    </tr>\n",
       "    <tr>\n",
       "      <th>1</th>\n",
       "      <td>2.168527</td>\n",
       "      <td>27.0</td>\n",
       "      <td>MASC</td>\n",
       "      <td>11</td>\n",
       "      <td>Full-time</td>\n",
       "      <td>Senior / Semi-Senior</td>\n",
       "      <td>Marketing</td>\n",
       "      <td>Lo Jack</td>\n",
       "      <td>5.0</td>\n",
       "      <td>125.0</td>\n",
       "      <td>...</td>\n",
       "      <td>0.0</td>\n",
       "      <td>FEM</td>\n",
       "      <td>30.251142</td>\n",
       "      <td>0</td>\n",
       "      <td>0</td>\n",
       "      <td>0</td>\n",
       "      <td>0</td>\n",
       "      <td>0</td>\n",
       "      <td>0</td>\n",
       "      <td>0</td>\n",
       "    </tr>\n",
       "    <tr>\n",
       "      <th>2</th>\n",
       "      <td>2.168527</td>\n",
       "      <td>33.0</td>\n",
       "      <td>FEM</td>\n",
       "      <td>12</td>\n",
       "      <td>Full-time</td>\n",
       "      <td>Senior / Semi-Senior</td>\n",
       "      <td>Marketing</td>\n",
       "      <td>Lo Jack</td>\n",
       "      <td>5.0</td>\n",
       "      <td>125.0</td>\n",
       "      <td>...</td>\n",
       "      <td>0.0</td>\n",
       "      <td>FEM</td>\n",
       "      <td>30.251142</td>\n",
       "      <td>0</td>\n",
       "      <td>0</td>\n",
       "      <td>0</td>\n",
       "      <td>0</td>\n",
       "      <td>0</td>\n",
       "      <td>0</td>\n",
       "      <td>0</td>\n",
       "    </tr>\n",
       "    <tr>\n",
       "      <th>3</th>\n",
       "      <td>2.168527</td>\n",
       "      <td>33.0</td>\n",
       "      <td>FEM</td>\n",
       "      <td>12</td>\n",
       "      <td>Full-time</td>\n",
       "      <td>Senior / Semi-Senior</td>\n",
       "      <td>Marketing</td>\n",
       "      <td>Lo Jack</td>\n",
       "      <td>5.0</td>\n",
       "      <td>125.0</td>\n",
       "      <td>...</td>\n",
       "      <td>0.0</td>\n",
       "      <td>FEM</td>\n",
       "      <td>30.251142</td>\n",
       "      <td>0</td>\n",
       "      <td>0</td>\n",
       "      <td>0</td>\n",
       "      <td>0</td>\n",
       "      <td>0</td>\n",
       "      <td>0</td>\n",
       "      <td>0</td>\n",
       "    </tr>\n",
       "    <tr>\n",
       "      <th>4</th>\n",
       "      <td>2.168527</td>\n",
       "      <td>26.0</td>\n",
       "      <td>FEM</td>\n",
       "      <td>12</td>\n",
       "      <td>Full-time</td>\n",
       "      <td>Senior / Semi-Senior</td>\n",
       "      <td>Marketing</td>\n",
       "      <td>Lo Jack</td>\n",
       "      <td>5.0</td>\n",
       "      <td>125.0</td>\n",
       "      <td>...</td>\n",
       "      <td>0.0</td>\n",
       "      <td>FEM</td>\n",
       "      <td>30.251142</td>\n",
       "      <td>0</td>\n",
       "      <td>0</td>\n",
       "      <td>0</td>\n",
       "      <td>0</td>\n",
       "      <td>0</td>\n",
       "      <td>0</td>\n",
       "      <td>0</td>\n",
       "    </tr>\n",
       "  </tbody>\n",
       "</table>\n",
       "<p>5 rows × 21 columns</p>\n",
       "</div>"
      ],
      "text/plain": [
       "     visito  fechanacimiento  sexo  nivel tipo_de_trabajo  \\\n",
       "0  2.168527             37.0   FEM     12       Full-time   \n",
       "1  2.168527             27.0  MASC     11       Full-time   \n",
       "2  2.168527             33.0   FEM     12       Full-time   \n",
       "3  2.168527             33.0   FEM     12       Full-time   \n",
       "4  2.168527             26.0   FEM     12       Full-time   \n",
       "\n",
       "          nivel_laboral nombre_area denominacion_empresa  cluster    FEM  \\\n",
       "0  Senior / Semi-Senior   Marketing              Lo Jack      5.0  125.0   \n",
       "1  Senior / Semi-Senior   Marketing              Lo Jack      5.0  125.0   \n",
       "2  Senior / Semi-Senior   Marketing              Lo Jack      5.0  125.0   \n",
       "3  Senior / Semi-Senior   Marketing              Lo Jack      5.0  125.0   \n",
       "4  Senior / Semi-Senior   Marketing              Lo Jack      5.0  125.0   \n",
       "\n",
       "    ...    NO_DECLARA  TendenciaSexo  prom_edad  sabados  domingos  ingles  \\\n",
       "0   ...           0.0            FEM  30.251142        0         0       0   \n",
       "1   ...           0.0            FEM  30.251142        0         0       0   \n",
       "2   ...           0.0            FEM  30.251142        0         0       0   \n",
       "3   ...           0.0            FEM  30.251142        0         0       0   \n",
       "4   ...           0.0            FEM  30.251142        0         0       0   \n",
       "\n",
       "   3 anos  2 anos  4 anos  5 anos  \n",
       "0       0       0       0       0  \n",
       "1       0       0       0       0  \n",
       "2       0       0       0       0  \n",
       "3       0       0       0       0  \n",
       "4       0       0       0       0  \n",
       "\n",
       "[5 rows x 21 columns]"
      ]
     },
     "execution_count": 45,
     "metadata": {},
     "output_type": "execute_result"
    }
   ],
   "source": [
    "postulaciones = postulaciones.merge(postulantes, on='idpostulante')\n",
    "postulaciones = postulaciones.merge(avisos, on='idaviso')\n",
    "#postulaciones = postulaciones.merge(visitas, on=['idaviso','idpostulante'], how='left')\n",
    "resultados = postulaciones['sepostulo']\n",
    "postulaciones.drop(['titulo','descripcion','idaviso','idpostulante','sepostulo'],axis=1, inplace=True)\n",
    "postulaciones.head()"
   ]
  },
  {
   "cell_type": "code",
   "execution_count": 42,
   "metadata": {},
   "outputs": [
    {
     "data": {
      "text/html": [
       "<div>\n",
       "<style scoped>\n",
       "    .dataframe tbody tr th:only-of-type {\n",
       "        vertical-align: middle;\n",
       "    }\n",
       "\n",
       "    .dataframe tbody tr th {\n",
       "        vertical-align: top;\n",
       "    }\n",
       "\n",
       "    .dataframe thead th {\n",
       "        text-align: right;\n",
       "    }\n",
       "</style>\n",
       "<table border=\"1\" class=\"dataframe\">\n",
       "  <thead>\n",
       "    <tr style=\"text-align: right;\">\n",
       "      <th></th>\n",
       "      <th>fechanacimiento</th>\n",
       "      <th>sexo</th>\n",
       "      <th>nivel</th>\n",
       "      <th>tipo_de_trabajo</th>\n",
       "      <th>nivel_laboral</th>\n",
       "      <th>nombre_area</th>\n",
       "      <th>denominacion_empresa</th>\n",
       "      <th>cluster</th>\n",
       "      <th>FEM</th>\n",
       "      <th>MASC</th>\n",
       "      <th>...</th>\n",
       "      <th>TendenciaSexo</th>\n",
       "      <th>prom_edad</th>\n",
       "      <th>sabados</th>\n",
       "      <th>domingos</th>\n",
       "      <th>ingles</th>\n",
       "      <th>3 anos</th>\n",
       "      <th>2 anos</th>\n",
       "      <th>4 anos</th>\n",
       "      <th>5 anos</th>\n",
       "      <th>visito</th>\n",
       "    </tr>\n",
       "  </thead>\n",
       "  <tbody>\n",
       "    <tr>\n",
       "      <th>0</th>\n",
       "      <td>42.0</td>\n",
       "      <td>FEM</td>\n",
       "      <td>21</td>\n",
       "      <td>Full-time</td>\n",
       "      <td>Jefe / Supervisor / Responsable</td>\n",
       "      <td>Comercial</td>\n",
       "      <td>BUMERAN.COM ARGENTINA</td>\n",
       "      <td>102.0</td>\n",
       "      <td>NaN</td>\n",
       "      <td>NaN</td>\n",
       "      <td>...</td>\n",
       "      <td>NaN</td>\n",
       "      <td>NaN</td>\n",
       "      <td>0</td>\n",
       "      <td>0</td>\n",
       "      <td>1</td>\n",
       "      <td>0</td>\n",
       "      <td>0</td>\n",
       "      <td>0</td>\n",
       "      <td>0</td>\n",
       "      <td>NaN</td>\n",
       "    </tr>\n",
       "    <tr>\n",
       "      <th>1</th>\n",
       "      <td>31.0</td>\n",
       "      <td>MASC</td>\n",
       "      <td>9</td>\n",
       "      <td>Full-time</td>\n",
       "      <td>Jefe / Supervisor / Responsable</td>\n",
       "      <td>Comercial</td>\n",
       "      <td>BUMERAN.COM ARGENTINA</td>\n",
       "      <td>102.0</td>\n",
       "      <td>NaN</td>\n",
       "      <td>NaN</td>\n",
       "      <td>...</td>\n",
       "      <td>NaN</td>\n",
       "      <td>NaN</td>\n",
       "      <td>0</td>\n",
       "      <td>0</td>\n",
       "      <td>1</td>\n",
       "      <td>0</td>\n",
       "      <td>0</td>\n",
       "      <td>0</td>\n",
       "      <td>0</td>\n",
       "      <td>NaN</td>\n",
       "    </tr>\n",
       "    <tr>\n",
       "      <th>2</th>\n",
       "      <td>36.0</td>\n",
       "      <td>FEM</td>\n",
       "      <td>12</td>\n",
       "      <td>Full-time</td>\n",
       "      <td>Jefe / Supervisor / Responsable</td>\n",
       "      <td>Comercial</td>\n",
       "      <td>BUMERAN.COM ARGENTINA</td>\n",
       "      <td>102.0</td>\n",
       "      <td>NaN</td>\n",
       "      <td>NaN</td>\n",
       "      <td>...</td>\n",
       "      <td>NaN</td>\n",
       "      <td>NaN</td>\n",
       "      <td>0</td>\n",
       "      <td>0</td>\n",
       "      <td>1</td>\n",
       "      <td>0</td>\n",
       "      <td>0</td>\n",
       "      <td>0</td>\n",
       "      <td>0</td>\n",
       "      <td>NaN</td>\n",
       "    </tr>\n",
       "    <tr>\n",
       "      <th>3</th>\n",
       "      <td>69.0</td>\n",
       "      <td>MASC</td>\n",
       "      <td>15</td>\n",
       "      <td>Full-time</td>\n",
       "      <td>Otro</td>\n",
       "      <td>Tecnologia / Sistemas</td>\n",
       "      <td>TeleTech</td>\n",
       "      <td>27.0</td>\n",
       "      <td>NaN</td>\n",
       "      <td>NaN</td>\n",
       "      <td>...</td>\n",
       "      <td>NaN</td>\n",
       "      <td>NaN</td>\n",
       "      <td>0</td>\n",
       "      <td>0</td>\n",
       "      <td>0</td>\n",
       "      <td>0</td>\n",
       "      <td>0</td>\n",
       "      <td>0</td>\n",
       "      <td>0</td>\n",
       "      <td>NaN</td>\n",
       "    </tr>\n",
       "    <tr>\n",
       "      <th>4</th>\n",
       "      <td>32.0</td>\n",
       "      <td>FEM</td>\n",
       "      <td>11</td>\n",
       "      <td>Full-time</td>\n",
       "      <td>Otro</td>\n",
       "      <td>Tecnologia / Sistemas</td>\n",
       "      <td>TeleTech</td>\n",
       "      <td>27.0</td>\n",
       "      <td>NaN</td>\n",
       "      <td>NaN</td>\n",
       "      <td>...</td>\n",
       "      <td>NaN</td>\n",
       "      <td>NaN</td>\n",
       "      <td>0</td>\n",
       "      <td>0</td>\n",
       "      <td>0</td>\n",
       "      <td>0</td>\n",
       "      <td>0</td>\n",
       "      <td>0</td>\n",
       "      <td>0</td>\n",
       "      <td>NaN</td>\n",
       "    </tr>\n",
       "  </tbody>\n",
       "</table>\n",
       "<p>5 rows × 21 columns</p>\n",
       "</div>"
      ],
      "text/plain": [
       "   fechanacimiento  sexo  nivel tipo_de_trabajo  \\\n",
       "0             42.0   FEM     21       Full-time   \n",
       "1             31.0  MASC      9       Full-time   \n",
       "2             36.0   FEM     12       Full-time   \n",
       "3             69.0  MASC     15       Full-time   \n",
       "4             32.0   FEM     11       Full-time   \n",
       "\n",
       "                     nivel_laboral            nombre_area  \\\n",
       "0  Jefe / Supervisor / Responsable              Comercial   \n",
       "1  Jefe / Supervisor / Responsable              Comercial   \n",
       "2  Jefe / Supervisor / Responsable              Comercial   \n",
       "3                             Otro  Tecnologia / Sistemas   \n",
       "4                             Otro  Tecnologia / Sistemas   \n",
       "\n",
       "    denominacion_empresa  cluster  FEM  MASC   ...    TendenciaSexo prom_edad  \\\n",
       "0  BUMERAN.COM ARGENTINA    102.0  NaN   NaN   ...              NaN       NaN   \n",
       "1  BUMERAN.COM ARGENTINA    102.0  NaN   NaN   ...              NaN       NaN   \n",
       "2  BUMERAN.COM ARGENTINA    102.0  NaN   NaN   ...              NaN       NaN   \n",
       "3               TeleTech     27.0  NaN   NaN   ...              NaN       NaN   \n",
       "4               TeleTech     27.0  NaN   NaN   ...              NaN       NaN   \n",
       "\n",
       "   sabados  domingos  ingles  3 anos  2 anos  4 anos  5 anos  visito  \n",
       "0        0         0       1       0       0       0       0     NaN  \n",
       "1        0         0       1       0       0       0       0     NaN  \n",
       "2        0         0       1       0       0       0       0     NaN  \n",
       "3        0         0       0       0       0       0       0     NaN  \n",
       "4        0         0       0       0       0       0       0     NaN  \n",
       "\n",
       "[5 rows x 21 columns]"
      ]
     },
     "execution_count": 42,
     "metadata": {},
     "output_type": "execute_result"
    }
   ],
   "source": [
    "test = test.merge(postulantes, on='idpostulante')\n",
    "test = test.merge(avisos, on='idaviso')\n",
    "test = test.merge(visitas, on=['idaviso','idpostulante'], how='left')\n",
    "test.drop(['titulo','descripcion','idaviso','idpostulante','id'],axis=1, inplace=True)\n",
    "test.head()"
   ]
  },
  {
   "cell_type": "code",
   "execution_count": 6,
   "metadata": {},
   "outputs": [
    {
     "ename": "NameError",
     "evalue": "name 'teset' is not defined",
     "output_type": "error",
     "traceback": [
      "\u001b[0;31m---------------------------------------------------------------------------\u001b[0m",
      "\u001b[0;31mNameError\u001b[0m                                 Traceback (most recent call last)",
      "\u001b[0;32m<ipython-input-6-32bbb5c81ef9>\u001b[0m in \u001b[0;36m<module>\u001b[0;34m()\u001b[0m\n\u001b[1;32m      1\u001b[0m \u001b[0mpostulaciones\u001b[0m\u001b[0;34m,\u001b[0m \u001b[0mtest\u001b[0m\u001b[0;34m,\u001b[0m \u001b[0mresultados\u001b[0m\u001b[0;34m,\u001b[0m \u001b[0mresultados_test\u001b[0m \u001b[0;34m=\u001b[0m \u001b[0mtrain_test_split\u001b[0m\u001b[0;34m(\u001b[0m\u001b[0mpostulaciones\u001b[0m\u001b[0;34m,\u001b[0m \u001b[0mresultados\u001b[0m\u001b[0;34m,\u001b[0m \u001b[0mtest_size\u001b[0m\u001b[0;34m=\u001b[0m\u001b[0;36m0.2\u001b[0m\u001b[0;34m)\u001b[0m\u001b[0;34m\u001b[0m\u001b[0m\n\u001b[0;32m----> 2\u001b[0;31m \u001b[0mindice\u001b[0m \u001b[0;34m=\u001b[0m \u001b[0mteset\u001b[0m\u001b[0;34m.\u001b[0m\u001b[0mshape\u001b[0m\u001b[0;34m[\u001b[0m\u001b[0;36m0\u001b[0m\u001b[0;34m]\u001b[0m\u001b[0;34m\u001b[0m\u001b[0m\n\u001b[0m",
      "\u001b[0;31mNameError\u001b[0m: name 'teset' is not defined"
     ]
    }
   ],
   "source": [
    "postulaciones, test, resultados, resultados_test = train_test_split(postulaciones, resultados, test_size=0.2)\n",
    "indice = test.shape[0]"
   ]
  },
  {
   "cell_type": "code",
   "execution_count": 53,
   "metadata": {},
   "outputs": [],
   "source": [
    "import numpy as np"
   ]
  },
  {
   "cell_type": "code",
   "execution_count": 54,
   "metadata": {},
   "outputs": [],
   "source": [
    "test = pd.concat([test,postulaciones])"
   ]
  },
  {
   "cell_type": "code",
   "execution_count": 55,
   "metadata": {},
   "outputs": [],
   "source": [
    "test['fechanacimiento'].fillna(np.nanmean(test['fechanacimiento']),inplace=True)\n",
    "test['FEM'].fillna(np.nanmean(test['FEM']),inplace=True)\n",
    "test['MASC'].fillna(np.nanmean(test['MASC']),inplace=True)\n",
    "test['NO_DECLARA'].fillna(np.nanmean(test['NO_DECLARA']),inplace=True)\n",
    "test['prom_edad'].fillna(np.nanmean(test['prom_edad']),inplace=True)\n",
    "test['FEM'].fillna(np.nanmean(test['FEM']),inplace=True)\n",
    "lista = ['sabados', 'domingos','ingles', '3 anos', '2 anos', '4 anos', '5 anos', 'visito']\n",
    "for i in lista:\n",
    "    test[i].fillna(0,inplace=True)"
   ]
  },
  {
   "cell_type": "code",
   "execution_count": 56,
   "metadata": {},
   "outputs": [
    {
     "data": {
      "text/html": [
       "<div>\n",
       "<style scoped>\n",
       "    .dataframe tbody tr th:only-of-type {\n",
       "        vertical-align: middle;\n",
       "    }\n",
       "\n",
       "    .dataframe tbody tr th {\n",
       "        vertical-align: top;\n",
       "    }\n",
       "\n",
       "    .dataframe thead th {\n",
       "        text-align: right;\n",
       "    }\n",
       "</style>\n",
       "<table border=\"1\" class=\"dataframe\">\n",
       "  <thead>\n",
       "    <tr style=\"text-align: right;\">\n",
       "      <th></th>\n",
       "      <th>2 anos</th>\n",
       "      <th>3 anos</th>\n",
       "      <th>4 anos</th>\n",
       "      <th>5 anos</th>\n",
       "      <th>FEM</th>\n",
       "      <th>MASC</th>\n",
       "      <th>NO_DECLARA</th>\n",
       "      <th>TendenciaSexo</th>\n",
       "      <th>cluster</th>\n",
       "      <th>denominacion_empresa</th>\n",
       "      <th>...</th>\n",
       "      <th>fechanacimiento</th>\n",
       "      <th>ingles</th>\n",
       "      <th>nivel</th>\n",
       "      <th>nivel_laboral</th>\n",
       "      <th>nombre_area</th>\n",
       "      <th>prom_edad</th>\n",
       "      <th>sabados</th>\n",
       "      <th>sexo</th>\n",
       "      <th>tipo_de_trabajo</th>\n",
       "      <th>visito</th>\n",
       "    </tr>\n",
       "  </thead>\n",
       "  <tbody>\n",
       "    <tr>\n",
       "      <th>0</th>\n",
       "      <td>0</td>\n",
       "      <td>0</td>\n",
       "      <td>0</td>\n",
       "      <td>0</td>\n",
       "      <td>1286.369363</td>\n",
       "      <td>752.736986</td>\n",
       "      <td>29.780158</td>\n",
       "      <td>NaN</td>\n",
       "      <td>102.0</td>\n",
       "      <td>BUMERAN.COM ARGENTINA</td>\n",
       "      <td>...</td>\n",
       "      <td>42.0</td>\n",
       "      <td>1</td>\n",
       "      <td>21</td>\n",
       "      <td>Jefe / Supervisor / Responsable</td>\n",
       "      <td>Comercial</td>\n",
       "      <td>29.90184</td>\n",
       "      <td>0</td>\n",
       "      <td>FEM</td>\n",
       "      <td>Full-time</td>\n",
       "      <td>0.0</td>\n",
       "    </tr>\n",
       "    <tr>\n",
       "      <th>1</th>\n",
       "      <td>0</td>\n",
       "      <td>0</td>\n",
       "      <td>0</td>\n",
       "      <td>0</td>\n",
       "      <td>1286.369363</td>\n",
       "      <td>752.736986</td>\n",
       "      <td>29.780158</td>\n",
       "      <td>NaN</td>\n",
       "      <td>102.0</td>\n",
       "      <td>BUMERAN.COM ARGENTINA</td>\n",
       "      <td>...</td>\n",
       "      <td>31.0</td>\n",
       "      <td>1</td>\n",
       "      <td>9</td>\n",
       "      <td>Jefe / Supervisor / Responsable</td>\n",
       "      <td>Comercial</td>\n",
       "      <td>29.90184</td>\n",
       "      <td>0</td>\n",
       "      <td>MASC</td>\n",
       "      <td>Full-time</td>\n",
       "      <td>0.0</td>\n",
       "    </tr>\n",
       "    <tr>\n",
       "      <th>2</th>\n",
       "      <td>0</td>\n",
       "      <td>0</td>\n",
       "      <td>0</td>\n",
       "      <td>0</td>\n",
       "      <td>1286.369363</td>\n",
       "      <td>752.736986</td>\n",
       "      <td>29.780158</td>\n",
       "      <td>NaN</td>\n",
       "      <td>102.0</td>\n",
       "      <td>BUMERAN.COM ARGENTINA</td>\n",
       "      <td>...</td>\n",
       "      <td>36.0</td>\n",
       "      <td>1</td>\n",
       "      <td>12</td>\n",
       "      <td>Jefe / Supervisor / Responsable</td>\n",
       "      <td>Comercial</td>\n",
       "      <td>29.90184</td>\n",
       "      <td>0</td>\n",
       "      <td>FEM</td>\n",
       "      <td>Full-time</td>\n",
       "      <td>0.0</td>\n",
       "    </tr>\n",
       "    <tr>\n",
       "      <th>3</th>\n",
       "      <td>0</td>\n",
       "      <td>0</td>\n",
       "      <td>0</td>\n",
       "      <td>0</td>\n",
       "      <td>1286.369363</td>\n",
       "      <td>752.736986</td>\n",
       "      <td>29.780158</td>\n",
       "      <td>NaN</td>\n",
       "      <td>27.0</td>\n",
       "      <td>TeleTech</td>\n",
       "      <td>...</td>\n",
       "      <td>69.0</td>\n",
       "      <td>0</td>\n",
       "      <td>15</td>\n",
       "      <td>Otro</td>\n",
       "      <td>Tecnologia / Sistemas</td>\n",
       "      <td>29.90184</td>\n",
       "      <td>0</td>\n",
       "      <td>MASC</td>\n",
       "      <td>Full-time</td>\n",
       "      <td>0.0</td>\n",
       "    </tr>\n",
       "    <tr>\n",
       "      <th>4</th>\n",
       "      <td>0</td>\n",
       "      <td>0</td>\n",
       "      <td>0</td>\n",
       "      <td>0</td>\n",
       "      <td>1286.369363</td>\n",
       "      <td>752.736986</td>\n",
       "      <td>29.780158</td>\n",
       "      <td>NaN</td>\n",
       "      <td>27.0</td>\n",
       "      <td>TeleTech</td>\n",
       "      <td>...</td>\n",
       "      <td>32.0</td>\n",
       "      <td>0</td>\n",
       "      <td>11</td>\n",
       "      <td>Otro</td>\n",
       "      <td>Tecnologia / Sistemas</td>\n",
       "      <td>29.90184</td>\n",
       "      <td>0</td>\n",
       "      <td>FEM</td>\n",
       "      <td>Full-time</td>\n",
       "      <td>0.0</td>\n",
       "    </tr>\n",
       "  </tbody>\n",
       "</table>\n",
       "<p>5 rows × 21 columns</p>\n",
       "</div>"
      ],
      "text/plain": [
       "   2 anos  3 anos  4 anos  5 anos          FEM        MASC  NO_DECLARA  \\\n",
       "0       0       0       0       0  1286.369363  752.736986   29.780158   \n",
       "1       0       0       0       0  1286.369363  752.736986   29.780158   \n",
       "2       0       0       0       0  1286.369363  752.736986   29.780158   \n",
       "3       0       0       0       0  1286.369363  752.736986   29.780158   \n",
       "4       0       0       0       0  1286.369363  752.736986   29.780158   \n",
       "\n",
       "  TendenciaSexo  cluster   denominacion_empresa  ...    fechanacimiento  \\\n",
       "0           NaN    102.0  BUMERAN.COM ARGENTINA  ...               42.0   \n",
       "1           NaN    102.0  BUMERAN.COM ARGENTINA  ...               31.0   \n",
       "2           NaN    102.0  BUMERAN.COM ARGENTINA  ...               36.0   \n",
       "3           NaN     27.0               TeleTech  ...               69.0   \n",
       "4           NaN     27.0               TeleTech  ...               32.0   \n",
       "\n",
       "   ingles  nivel                    nivel_laboral            nombre_area  \\\n",
       "0       1     21  Jefe / Supervisor / Responsable              Comercial   \n",
       "1       1      9  Jefe / Supervisor / Responsable              Comercial   \n",
       "2       1     12  Jefe / Supervisor / Responsable              Comercial   \n",
       "3       0     15                             Otro  Tecnologia / Sistemas   \n",
       "4       0     11                             Otro  Tecnologia / Sistemas   \n",
       "\n",
       "  prom_edad  sabados  sexo tipo_de_trabajo visito  \n",
       "0  29.90184        0   FEM       Full-time    0.0  \n",
       "1  29.90184        0  MASC       Full-time    0.0  \n",
       "2  29.90184        0   FEM       Full-time    0.0  \n",
       "3  29.90184        0  MASC       Full-time    0.0  \n",
       "4  29.90184        0   FEM       Full-time    0.0  \n",
       "\n",
       "[5 rows x 21 columns]"
      ]
     },
     "execution_count": 56,
     "metadata": {},
     "output_type": "execute_result"
    }
   ],
   "source": [
    "test.head()"
   ]
  },
  {
   "cell_type": "code",
   "execution_count": 57,
   "metadata": {},
   "outputs": [],
   "source": [
    "from sklearn import preprocessing\n",
    "le = preprocessing.LabelEncoder()\n",
    "for col in test.columns:\n",
    "    if not test[col].dtype == 'O': continue\n",
    "    test[col] = test[col].fillna('na')\n",
    "    le.fit(test[col])\n",
    "    test[col] = le.transform(test[col])"
   ]
  },
  {
   "cell_type": "code",
   "execution_count": 60,
   "metadata": {},
   "outputs": [],
   "source": [
    "\n",
    "postulaciones = test[100000:].fillna(-1)\n",
    "test = test[:100000].fillna(-1)"
   ]
  },
  {
   "cell_type": "code",
   "execution_count": 61,
   "metadata": {},
   "outputs": [
    {
     "data": {
      "text/plain": [
       "(2313412, 21)"
      ]
     },
     "execution_count": 61,
     "metadata": {},
     "output_type": "execute_result"
    }
   ],
   "source": [
    "postulaciones.shape"
   ]
  },
  {
   "cell_type": "code",
   "execution_count": 62,
   "metadata": {},
   "outputs": [
    {
     "data": {
      "text/plain": [
       "(100000, 21)"
      ]
     },
     "execution_count": 62,
     "metadata": {},
     "output_type": "execute_result"
    }
   ],
   "source": [
    "test.shapetest.rename(columns={x:int(y) for x,y in zip(test.columns,range(1,len(test.columns)+1))},inplace=True)"
   ]
  },
  {
   "cell_type": "code",
   "execution_count": 64,
   "metadata": {},
   "outputs": [],
   "source": [
    "test.rename(columns={x:int(y) for x,y in zip(test.columns,range(1,len(test.columns)+1))},inplace=True)"
   ]
  },
  {
   "cell_type": "code",
   "execution_count": 18,
   "metadata": {},
   "outputs": [],
   "source": [
    "partitions = []\n",
    "partitions_res = []\n",
    "n = 5\n",
    "index = int(postulaciones.shape[0]/n)\n",
    "for i in range(n):\n",
    "    partitions.append(postulaciones[index*i:index*(i+1)])\n",
    "    partitions_res.append(resultados[index*i:index*(i+1)])\n"
   ]
  },
  {
   "cell_type": "code",
   "execution_count": 19,
   "metadata": {},
   "outputs": [],
   "source": [
    "aviso = None\n",
    "postulantes = None\n",
    "visitas = None"
   ]
  },
  {
   "cell_type": "code",
   "execution_count": 20,
   "metadata": {},
   "outputs": [],
   "source": [
    "def proba(result):\n",
    "    prob_1 = []\n",
    "    for x in result:\n",
    "        prob_1.append(x[1])\n",
    "    return prob_1"
   ]
  },
  {
   "cell_type": "code",
   "execution_count": 21,
   "metadata": {},
   "outputs": [
    {
     "name": "stdout",
     "output_type": "stream",
     "text": [
      "Arranca XG\n",
      "Termino XG\n"
     ]
    }
   ],
   "source": [
    "print('Arranca XG')\n",
    "\n",
    "import xgboost as xgb\n",
    "dtrain = xgb.DMatrix(data=partitions[0],label=partitions_res[0])\n",
    "dtest = xgb.DMatrix(data=partitions[4])\n",
    "param = {'max_depth':20, 'eta':1, 'silent':1, 'objective':'binary:logistic', 'subsample':0.8}\n",
    "num_round = 50\n",
    "bst = xgb.train(param, dtrain, num_round)\n",
    "preds['xgb'] = bst.predict(dtest)\n",
    "\n",
    "print('Termino XG')"
   ]
  },
  {
   "cell_type": "code",
   "execution_count": 22,
   "metadata": {},
   "outputs": [
    {
     "name": "stdout",
     "output_type": "stream",
     "text": [
      "Arranca RF\n",
      "Termino RF\n"
     ]
    }
   ],
   "source": [
    "print('Arranca RF')\n",
    "\n",
    "from sklearn.ensemble import RandomForestClassifier\n",
    "from sklearn.metrics import accuracy_score\n",
    "from sklearn.metrics import confusion_matrix\n",
    "clf=RandomForestClassifier(n_estimators=50, warm_start=True, criterion='entropy', n_jobs=-1)\n",
    "clf.fit(partitions[1],partitions_res[1])\n",
    "preds['RF'] = proba(clf.predict_proba(partitions[4]))\n",
    "\n",
    "print('Termino RF')"
   ]
  },
  {
   "cell_type": "code",
   "execution_count": 23,
   "metadata": {},
   "outputs": [
    {
     "name": "stdout",
     "output_type": "stream",
     "text": [
      "Arranca NB\n",
      "Termino NB\n"
     ]
    }
   ],
   "source": [
    "print('Arranca NB')\n",
    "\n",
    "from sklearn.naive_bayes import BernoulliNB\n",
    "nb = BernoulliNB()\n",
    "nb.fit(partitions[2] ,partitions_res[2])\n",
    "BernoulliNB(alpha=1.0, binarize=0.0, class_prior=None, fit_prior=True)\n",
    "preds['NB'] = proba(nb.predict_proba(partitions[4]))\n",
    "\n",
    "print('Termino NB')"
   ]
  },
  {
   "cell_type": "code",
   "execution_count": 24,
   "metadata": {},
   "outputs": [
    {
     "name": "stdout",
     "output_type": "stream",
     "text": [
      "Arranca PERCEPTRON\n",
      "PERCEPTRON ya esta entrenado\n"
     ]
    }
   ],
   "source": [
    "print('Arranca PERCEPTRON')\n",
    "from sklearn.neural_network import MLPClassifier\n",
    "clf = MLPClassifier(solver='lbfgs', alpha=1e-5, hidden_layer_sizes=(5, 2), random_state=1)\n",
    "clf.fit(partitions[3], partitions_res[3])\n",
    "preds['PERCEPTRON'] = proba(clf.predict_proba(partitions[4]))\n",
    "#from sklearn import svm\n",
    "#clf = svm.SVC()\n",
    "#clf.fit(preds, partitions_res[4])\n",
    "\n",
    "print('PERCEPTRON ya esta entrenado')"
   ]
  },
  {
   "cell_type": "code",
   "execution_count": 25,
   "metadata": {},
   "outputs": [],
   "source": [
    "preds.to_csv('Sources/predicciones.csv')"
   ]
  },
  {
   "cell_type": "code",
   "execution_count": 26,
   "metadata": {},
   "outputs": [
    {
     "name": "stdout",
     "output_type": "stream",
     "text": [
      "Arranca KNN\n",
      "Termino KNN\n"
     ]
    }
   ],
   "source": [
    "print('Arranca KNN')\n",
    "\n",
    "from sklearn.neighbors import KNeighborsClassifier\n",
    "neigh = KNeighborsClassifier(n_neighbors=25 ,n_jobs=-1, algorithm='auto')\n",
    "neigh.fit(preds, partitions_res[4])\n",
    "\n",
    "print('Termino KNN')\n",
    "\n"
   ]
  },
  {
   "cell_type": "code",
   "execution_count": 27,
   "metadata": {},
   "outputs": [
    {
     "data": {
      "text/html": [
       "<div>\n",
       "<style scoped>\n",
       "    .dataframe tbody tr th:only-of-type {\n",
       "        vertical-align: middle;\n",
       "    }\n",
       "\n",
       "    .dataframe tbody tr th {\n",
       "        vertical-align: top;\n",
       "    }\n",
       "\n",
       "    .dataframe thead th {\n",
       "        text-align: right;\n",
       "    }\n",
       "</style>\n",
       "<table border=\"1\" class=\"dataframe\">\n",
       "  <thead>\n",
       "    <tr style=\"text-align: right;\">\n",
       "      <th></th>\n",
       "      <th>xgb</th>\n",
       "      <th>RF</th>\n",
       "      <th>NB</th>\n",
       "      <th>PERCEPTRON</th>\n",
       "    </tr>\n",
       "  </thead>\n",
       "  <tbody>\n",
       "    <tr>\n",
       "      <th>0</th>\n",
       "      <td>1.000000</td>\n",
       "      <td>1.00</td>\n",
       "      <td>0.646800</td>\n",
       "      <td>0.68901</td>\n",
       "    </tr>\n",
       "    <tr>\n",
       "      <th>1</th>\n",
       "      <td>0.999999</td>\n",
       "      <td>1.00</td>\n",
       "      <td>0.594303</td>\n",
       "      <td>0.68901</td>\n",
       "    </tr>\n",
       "    <tr>\n",
       "      <th>2</th>\n",
       "      <td>0.521028</td>\n",
       "      <td>0.16</td>\n",
       "      <td>0.646800</td>\n",
       "      <td>0.68901</td>\n",
       "    </tr>\n",
       "    <tr>\n",
       "      <th>3</th>\n",
       "      <td>0.000013</td>\n",
       "      <td>0.00</td>\n",
       "      <td>0.510778</td>\n",
       "      <td>0.68901</td>\n",
       "    </tr>\n",
       "    <tr>\n",
       "      <th>4</th>\n",
       "      <td>0.999998</td>\n",
       "      <td>1.00</td>\n",
       "      <td>0.646800</td>\n",
       "      <td>0.68901</td>\n",
       "    </tr>\n",
       "  </tbody>\n",
       "</table>\n",
       "</div>"
      ],
      "text/plain": [
       "        xgb    RF        NB  PERCEPTRON\n",
       "0  1.000000  1.00  0.646800     0.68901\n",
       "1  0.999999  1.00  0.594303     0.68901\n",
       "2  0.521028  0.16  0.646800     0.68901\n",
       "3  0.000013  0.00  0.510778     0.68901\n",
       "4  0.999998  1.00  0.646800     0.68901"
      ]
     },
     "execution_count": 27,
     "metadata": {},
     "output_type": "execute_result"
    }
   ],
   "source": [
    "preds.head()"
   ]
  },
  {
   "cell_type": "code",
   "execution_count": 28,
   "metadata": {},
   "outputs": [],
   "source": [
    "final = pd.DataFrame()\n",
    "test_final = pd.read_csv('Sources/test_final_100k.csv')['id']"
   ]
  },
  {
   "cell_type": "code",
   "execution_count": 29,
   "metadata": {},
   "outputs": [
    {
     "name": "stdout",
     "output_type": "stream",
     "text": [
      "Arranca XGB final\n",
      "Termino XGB final\n"
     ]
    }
   ],
   "source": [
    "print('Arranca XGB final')\n",
    "\n",
    "aviso = None\n",
    "postulantes = None\n",
    "import xgboost as xgb\n",
    "dtrain = xgb.DMatrix(data=postulaciones, label=resultados)\n",
    "dtest = xgb.DMatrix(data=test)\n",
    "param = {'max_depth':20, 'eta':1, 'silent':1, 'objective':'binary:logistic', 'subsample':0.8}\n",
    "num_round = 50\n",
    "bst = xgb.train(param, dtrain, num_round)\n",
    "final['xgb'] = bst.predict(dtest)\n",
    "\n",
    "print('Termino XGB final')"
   ]
  },
  {
   "cell_type": "code",
   "execution_count": 30,
   "metadata": {},
   "outputs": [],
   "source": [
    "test_final['sepostulo'] = final['xgb']\n",
    "test_final.to_csv('Sources/1.csv',index=False)"
   ]
  },
  {
   "cell_type": "code",
   "execution_count": 31,
   "metadata": {},
   "outputs": [
    {
     "name": "stdout",
     "output_type": "stream",
     "text": [
      "Arranca RF final\n",
      "Termino RF final\n"
     ]
    }
   ],
   "source": [
    "print('Arranca RF final')\n",
    "\n",
    "from sklearn.ensemble import RandomForestClassifier\n",
    "from sklearn.metrics import accuracy_score\n",
    "from sklearn.metrics import confusion_matrix\n",
    "clfr=RandomForestClassifier(n_estimators=50, warm_start=True, criterion='entropy', n_jobs=-1)\n",
    "clfr.fit(postulaciones,resultados)\n",
    "final['RF'] = proba(clfr.predict_proba(test))\n",
    "\n",
    "print('Termino RF final')"
   ]
  },
  {
   "cell_type": "code",
   "execution_count": 32,
   "metadata": {},
   "outputs": [],
   "source": [
    "test_final['sepostulo'] = final['RF']\n",
    "test_final.to_csv('Sources/2.csv',index=False)"
   ]
  },
  {
   "cell_type": "code",
   "execution_count": 33,
   "metadata": {},
   "outputs": [
    {
     "name": "stdout",
     "output_type": "stream",
     "text": [
      "Arranca NB final\n",
      "Termino NB final\n"
     ]
    }
   ],
   "source": [
    "print('Arranca NB final')\n",
    "\n",
    "from sklearn.naive_bayes import BernoulliNB\n",
    "nb = BernoulliNB()\n",
    "nb.fit(postulaciones, resultados)\n",
    "BernoulliNB(alpha=1.0, binarize=0.0, class_prior=None, fit_prior=True)\n",
    "final['NB'] = proba(nb.predict_proba(test))\n",
    "\n",
    "print('Termino NB final')"
   ]
  },
  {
   "cell_type": "code",
   "execution_count": 34,
   "metadata": {},
   "outputs": [],
   "source": [
    "test_final['sepostulo'] = final['NB']\n",
    "test_final.to_csv('Sources/3.csv',index=False)"
   ]
  },
  {
   "cell_type": "code",
   "execution_count": 35,
   "metadata": {},
   "outputs": [
    {
     "name": "stdout",
     "output_type": "stream",
     "text": [
      "Arranca PPERCEPTRON final\n",
      "Termino PERCEPTRON final\n"
     ]
    }
   ],
   "source": [
    "print('Arranca PPERCEPTRON final')\n",
    "from sklearn.neural_network import MLPClassifier\n",
    "clf = MLPClassifier(solver='lbfgs', alpha=1e-5, hidden_layer_sizes=(5, 2), random_state=1)\n",
    "clf.fit(postulaciones, resultados)\n",
    "final['PERCEPTRON'] = proba(clf.predict_proba(test))\n",
    "\n",
    "print('Termino PERCEPTRON final')"
   ]
  },
  {
   "cell_type": "code",
   "execution_count": 36,
   "metadata": {},
   "outputs": [],
   "source": [
    "test_final['sepostulo'] = final['PERCEPTRON']\n",
    "test_final.to_csv('Sources/4.csv',index=False)"
   ]
  },
  {
   "cell_type": "code",
   "execution_count": 37,
   "metadata": {},
   "outputs": [
    {
     "data": {
      "text/html": [
       "<div>\n",
       "<style scoped>\n",
       "    .dataframe tbody tr th:only-of-type {\n",
       "        vertical-align: middle;\n",
       "    }\n",
       "\n",
       "    .dataframe tbody tr th {\n",
       "        vertical-align: top;\n",
       "    }\n",
       "\n",
       "    .dataframe thead th {\n",
       "        text-align: right;\n",
       "    }\n",
       "</style>\n",
       "<table border=\"1\" class=\"dataframe\">\n",
       "  <thead>\n",
       "    <tr style=\"text-align: right;\">\n",
       "      <th></th>\n",
       "      <th>xgb</th>\n",
       "      <th>RF</th>\n",
       "      <th>NB</th>\n",
       "      <th>PERCEPTRON</th>\n",
       "    </tr>\n",
       "  </thead>\n",
       "  <tbody>\n",
       "    <tr>\n",
       "      <th>0</th>\n",
       "      <td>0.179141</td>\n",
       "      <td>0.040000</td>\n",
       "      <td>0.646304</td>\n",
       "      <td>0.688793</td>\n",
       "    </tr>\n",
       "    <tr>\n",
       "      <th>1</th>\n",
       "      <td>0.085157</td>\n",
       "      <td>0.105378</td>\n",
       "      <td>0.646304</td>\n",
       "      <td>0.688793</td>\n",
       "    </tr>\n",
       "    <tr>\n",
       "      <th>2</th>\n",
       "      <td>0.755860</td>\n",
       "      <td>0.794220</td>\n",
       "      <td>0.781763</td>\n",
       "      <td>0.688793</td>\n",
       "    </tr>\n",
       "    <tr>\n",
       "      <th>3</th>\n",
       "      <td>1.000000</td>\n",
       "      <td>1.000000</td>\n",
       "      <td>0.529852</td>\n",
       "      <td>0.688793</td>\n",
       "    </tr>\n",
       "    <tr>\n",
       "      <th>4</th>\n",
       "      <td>0.644241</td>\n",
       "      <td>0.674740</td>\n",
       "      <td>0.781763</td>\n",
       "      <td>0.688793</td>\n",
       "    </tr>\n",
       "  </tbody>\n",
       "</table>\n",
       "</div>"
      ],
      "text/plain": [
       "        xgb        RF        NB  PERCEPTRON\n",
       "0  0.179141  0.040000  0.646304    0.688793\n",
       "1  0.085157  0.105378  0.646304    0.688793\n",
       "2  0.755860  0.794220  0.781763    0.688793\n",
       "3  1.000000  1.000000  0.529852    0.688793\n",
       "4  0.644241  0.674740  0.781763    0.688793"
      ]
     },
     "execution_count": 37,
     "metadata": {},
     "output_type": "execute_result"
    }
   ],
   "source": [
    "final.head()"
   ]
  },
  {
   "cell_type": "code",
   "execution_count": 39,
   "metadata": {},
   "outputs": [
    {
     "name": "stdout",
     "output_type": "stream",
     "text": [
      "Predigo con KNN\n",
      "termino KNN\n"
     ]
    }
   ],
   "source": [
    "print('Predigo con KNN')\n",
    "\n",
    "resultado = neigh.predict(final)\n",
    "\n",
    "print('termino KNN')"
   ]
  },
  {
   "cell_type": "code",
   "execution_count": 40,
   "metadata": {},
   "outputs": [
    {
     "data": {
      "text/plain": [
       "0.8547736565493169"
      ]
     },
     "execution_count": 40,
     "metadata": {},
     "output_type": "execute_result"
    }
   ],
   "source": [
    "from sklearn.metrics import accuracy_score\n",
    "accuracy_score(resultados_test, resultado)"
   ]
  },
  {
   "cell_type": "code",
   "execution_count": 50,
   "metadata": {},
   "outputs": [],
   "source": [
    "resultados = pd.DataFrame()\n",
    "resultados['resultado'] = resultado"
   ]
  },
  {
   "cell_type": "code",
   "execution_count": 52,
   "metadata": {},
   "outputs": [],
   "source": [
    "resultados_test.to_csv('Sources/resultados_test_prueba')\n",
    "resultados.to_csv('Sources/resultado_prueba')"
   ]
  },
  {
   "cell_type": "code",
   "execution_count": 65,
   "metadata": {},
   "outputs": [
    {
     "ename": "ValueError",
     "evalue": "feature_names mismatch: ['visito', 'fechanacimiento', 'sexo', 'nivel', 'tipo_de_trabajo', 'nivel_laboral', 'nombre_area', 'denominacion_empresa', 'cluster', 'FEM', 'MASC', 'NO_DECLARA', 'TendenciaSexo', 'prom_edad', 'sabados', 'domingos', 'ingles', '3 anos', '2 anos', '4 anos', '5 anos'] ['1 ', '2 ', '3 ', '4 ', '5 ', '6 ', '7 ', '8 ', '9 ', '10', '11', '12', '13', '14', '15', '16', '17', '18', '19', '20', '21']\nexpected 3 anos, 5 anos, denominacion_empresa, fechanacimiento, nivel, NO_DECLARA, sabados, 4 anos, prom_edad, sexo, tipo_de_trabajo, FEM, TendenciaSexo, visito, 2 anos, nivel_laboral, MASC, ingles, nombre_area, domingos, cluster in input data\ntraining data did not have the following fields: 16, 13, 4 , 9 , 14, 6 , 10, 19, 21, 2 , 17, 8 , 12, 15, 20, 7 , 1 , 18, 11, 3 , 5 ",
     "output_type": "error",
     "traceback": [
      "\u001b[0;31m---------------------------------------------------------------------------\u001b[0m",
      "\u001b[0;31mValueError\u001b[0m                                Traceback (most recent call last)",
      "\u001b[0;32m<ipython-input-65-f6582b7eba83>\u001b[0m in \u001b[0;36m<module>\u001b[0;34m()\u001b[0m\n\u001b[1;32m      1\u001b[0m \u001b[0mdtest\u001b[0m \u001b[0;34m=\u001b[0m \u001b[0mxgb\u001b[0m\u001b[0;34m.\u001b[0m\u001b[0mDMatrix\u001b[0m\u001b[0;34m(\u001b[0m\u001b[0mdata\u001b[0m\u001b[0;34m=\u001b[0m\u001b[0mtest\u001b[0m\u001b[0;34m)\u001b[0m\u001b[0;34m\u001b[0m\u001b[0m\n\u001b[0;32m----> 2\u001b[0;31m \u001b[0mfinal\u001b[0m\u001b[0;34m[\u001b[0m\u001b[0;34m'xgb'\u001b[0m\u001b[0;34m]\u001b[0m \u001b[0;34m=\u001b[0m \u001b[0mbst\u001b[0m\u001b[0;34m.\u001b[0m\u001b[0mpredict\u001b[0m\u001b[0;34m(\u001b[0m\u001b[0mdtest\u001b[0m\u001b[0;34m)\u001b[0m\u001b[0;34m\u001b[0m\u001b[0m\n\u001b[0m\u001b[1;32m      3\u001b[0m \u001b[0mfinal\u001b[0m\u001b[0;34m[\u001b[0m\u001b[0;34m'RF'\u001b[0m\u001b[0;34m]\u001b[0m \u001b[0;34m=\u001b[0m \u001b[0mproba\u001b[0m\u001b[0;34m(\u001b[0m\u001b[0mclfr\u001b[0m\u001b[0;34m.\u001b[0m\u001b[0mpredict_proba\u001b[0m\u001b[0;34m(\u001b[0m\u001b[0mtest\u001b[0m\u001b[0;34m)\u001b[0m\u001b[0;34m)\u001b[0m\u001b[0;34m\u001b[0m\u001b[0m\n\u001b[1;32m      4\u001b[0m \u001b[0mfinal\u001b[0m\u001b[0;34m[\u001b[0m\u001b[0;34m'NB'\u001b[0m\u001b[0;34m]\u001b[0m \u001b[0;34m=\u001b[0m \u001b[0mproba\u001b[0m\u001b[0;34m(\u001b[0m\u001b[0mnb\u001b[0m\u001b[0;34m.\u001b[0m\u001b[0mpredict_proba\u001b[0m\u001b[0;34m(\u001b[0m\u001b[0mtest\u001b[0m\u001b[0;34m)\u001b[0m\u001b[0;34m)\u001b[0m\u001b[0;34m\u001b[0m\u001b[0m\n\u001b[1;32m      5\u001b[0m \u001b[0mfinal\u001b[0m\u001b[0;34m[\u001b[0m\u001b[0;34m'PERCEPTRON'\u001b[0m\u001b[0;34m]\u001b[0m \u001b[0;34m=\u001b[0m \u001b[0mproba\u001b[0m\u001b[0;34m(\u001b[0m\u001b[0mclf\u001b[0m\u001b[0;34m.\u001b[0m\u001b[0mpredict_proba\u001b[0m\u001b[0;34m(\u001b[0m\u001b[0mtest\u001b[0m\u001b[0;34m)\u001b[0m\u001b[0;34m)\u001b[0m\u001b[0;34m\u001b[0m\u001b[0m\n",
      "\u001b[0;32m/anaconda3/lib/python3.6/site-packages/xgboost/core.py\u001b[0m in \u001b[0;36mpredict\u001b[0;34m(self, data, output_margin, ntree_limit, pred_leaf, pred_contribs, approx_contribs, pred_interactions, validate_features)\u001b[0m\n\u001b[1;32m   1053\u001b[0m \u001b[0;34m\u001b[0m\u001b[0m\n\u001b[1;32m   1054\u001b[0m         \u001b[0;32mif\u001b[0m \u001b[0mvalidate_features\u001b[0m\u001b[0;34m:\u001b[0m\u001b[0;34m\u001b[0m\u001b[0m\n\u001b[0;32m-> 1055\u001b[0;31m             \u001b[0mself\u001b[0m\u001b[0;34m.\u001b[0m\u001b[0m_validate_features\u001b[0m\u001b[0;34m(\u001b[0m\u001b[0mdata\u001b[0m\u001b[0;34m)\u001b[0m\u001b[0;34m\u001b[0m\u001b[0m\n\u001b[0m\u001b[1;32m   1056\u001b[0m \u001b[0;34m\u001b[0m\u001b[0m\n\u001b[1;32m   1057\u001b[0m         \u001b[0mlength\u001b[0m \u001b[0;34m=\u001b[0m \u001b[0mc_bst_ulong\u001b[0m\u001b[0;34m(\u001b[0m\u001b[0;34m)\u001b[0m\u001b[0;34m\u001b[0m\u001b[0m\n",
      "\u001b[0;32m/anaconda3/lib/python3.6/site-packages/xgboost/core.py\u001b[0m in \u001b[0;36m_validate_features\u001b[0;34m(self, data)\u001b[0m\n\u001b[1;32m   1311\u001b[0m \u001b[0;34m\u001b[0m\u001b[0m\n\u001b[1;32m   1312\u001b[0m                 raise ValueError(msg.format(self.feature_names,\n\u001b[0;32m-> 1313\u001b[0;31m                                             data.feature_names))\n\u001b[0m\u001b[1;32m   1314\u001b[0m \u001b[0;34m\u001b[0m\u001b[0m\n\u001b[1;32m   1315\u001b[0m     \u001b[0;32mdef\u001b[0m \u001b[0mget_split_value_histogram\u001b[0m\u001b[0;34m(\u001b[0m\u001b[0mself\u001b[0m\u001b[0;34m,\u001b[0m \u001b[0mfeature\u001b[0m\u001b[0;34m,\u001b[0m \u001b[0mfmap\u001b[0m\u001b[0;34m=\u001b[0m\u001b[0;34m''\u001b[0m\u001b[0;34m,\u001b[0m \u001b[0mbins\u001b[0m\u001b[0;34m=\u001b[0m\u001b[0;32mNone\u001b[0m\u001b[0;34m,\u001b[0m \u001b[0mas_pandas\u001b[0m\u001b[0;34m=\u001b[0m\u001b[0;32mTrue\u001b[0m\u001b[0;34m)\u001b[0m\u001b[0;34m:\u001b[0m\u001b[0;34m\u001b[0m\u001b[0m\n",
      "\u001b[0;31mValueError\u001b[0m: feature_names mismatch: ['visito', 'fechanacimiento', 'sexo', 'nivel', 'tipo_de_trabajo', 'nivel_laboral', 'nombre_area', 'denominacion_empresa', 'cluster', 'FEM', 'MASC', 'NO_DECLARA', 'TendenciaSexo', 'prom_edad', 'sabados', 'domingos', 'ingles', '3 anos', '2 anos', '4 anos', '5 anos'] ['1 ', '2 ', '3 ', '4 ', '5 ', '6 ', '7 ', '8 ', '9 ', '10', '11', '12', '13', '14', '15', '16', '17', '18', '19', '20', '21']\nexpected 3 anos, 5 anos, denominacion_empresa, fechanacimiento, nivel, NO_DECLARA, sabados, 4 anos, prom_edad, sexo, tipo_de_trabajo, FEM, TendenciaSexo, visito, 2 anos, nivel_laboral, MASC, ingles, nombre_area, domingos, cluster in input data\ntraining data did not have the following fields: 16, 13, 4 , 9 , 14, 6 , 10, 19, 21, 2 , 17, 8 , 12, 15, 20, 7 , 1 , 18, 11, 3 , 5 "
     ]
    }
   ],
   "source": [
    "dtest = xgb.DMatrix(data=test)\n",
    "final['xgb'] = bst.predict(dtest)\n",
    "final['RF'] = proba(clfr.predict_proba(test))\n",
    "final['NB'] = proba(nb.predict_proba(test))\n",
    "final['PERCEPTRON'] = proba(clf.predict_proba(test))\n",
    "resultado = neigh.proba(predict_proba(final))"
   ]
  },
  {
   "cell_type": "code",
   "execution_count": null,
   "metadata": {},
   "outputs": [],
   "source": [
    "test = pd.read_csv('Sources/test_final_100k.csv')\n",
    "test['sepostulo'] = resultado\n",
    "test.drop(['idaviso','idpostulante'],axis=1,inplace=True)\n",
    "test.to_csv('Sources/resultado_final_pipe.csv', index=False)"
   ]
  },
  {
   "cell_type": "code",
   "execution_count": 66,
   "metadata": {},
   "outputs": [
    {
     "data": {
      "text/html": [
       "<div>\n",
       "<style scoped>\n",
       "    .dataframe tbody tr th:only-of-type {\n",
       "        vertical-align: middle;\n",
       "    }\n",
       "\n",
       "    .dataframe tbody tr th {\n",
       "        vertical-align: top;\n",
       "    }\n",
       "\n",
       "    .dataframe thead th {\n",
       "        text-align: right;\n",
       "    }\n",
       "</style>\n",
       "<table border=\"1\" class=\"dataframe\">\n",
       "  <thead>\n",
       "    <tr style=\"text-align: right;\">\n",
       "      <th></th>\n",
       "      <th>1</th>\n",
       "      <th>2</th>\n",
       "      <th>3</th>\n",
       "      <th>4</th>\n",
       "      <th>5</th>\n",
       "      <th>6</th>\n",
       "      <th>7</th>\n",
       "      <th>8</th>\n",
       "      <th>9</th>\n",
       "      <th>10</th>\n",
       "      <th>...</th>\n",
       "      <th>12</th>\n",
       "      <th>13</th>\n",
       "      <th>14</th>\n",
       "      <th>15</th>\n",
       "      <th>16</th>\n",
       "      <th>17</th>\n",
       "      <th>18</th>\n",
       "      <th>19</th>\n",
       "      <th>20</th>\n",
       "      <th>21</th>\n",
       "    </tr>\n",
       "  </thead>\n",
       "  <tbody>\n",
       "    <tr>\n",
       "      <th>0</th>\n",
       "      <td>0</td>\n",
       "      <td>0</td>\n",
       "      <td>0</td>\n",
       "      <td>0</td>\n",
       "      <td>1286.369363</td>\n",
       "      <td>752.736986</td>\n",
       "      <td>29.780158</td>\n",
       "      <td>2</td>\n",
       "      <td>102.0</td>\n",
       "      <td>465</td>\n",
       "      <td>...</td>\n",
       "      <td>42.0</td>\n",
       "      <td>1</td>\n",
       "      <td>21</td>\n",
       "      <td>1</td>\n",
       "      <td>30</td>\n",
       "      <td>29.90184</td>\n",
       "      <td>0</td>\n",
       "      <td>1</td>\n",
       "      <td>1</td>\n",
       "      <td>0.0</td>\n",
       "    </tr>\n",
       "    <tr>\n",
       "      <th>1</th>\n",
       "      <td>0</td>\n",
       "      <td>0</td>\n",
       "      <td>0</td>\n",
       "      <td>0</td>\n",
       "      <td>1286.369363</td>\n",
       "      <td>752.736986</td>\n",
       "      <td>29.780158</td>\n",
       "      <td>2</td>\n",
       "      <td>102.0</td>\n",
       "      <td>465</td>\n",
       "      <td>...</td>\n",
       "      <td>31.0</td>\n",
       "      <td>1</td>\n",
       "      <td>9</td>\n",
       "      <td>1</td>\n",
       "      <td>30</td>\n",
       "      <td>29.90184</td>\n",
       "      <td>0</td>\n",
       "      <td>2</td>\n",
       "      <td>1</td>\n",
       "      <td>0.0</td>\n",
       "    </tr>\n",
       "    <tr>\n",
       "      <th>2</th>\n",
       "      <td>0</td>\n",
       "      <td>0</td>\n",
       "      <td>0</td>\n",
       "      <td>0</td>\n",
       "      <td>1286.369363</td>\n",
       "      <td>752.736986</td>\n",
       "      <td>29.780158</td>\n",
       "      <td>2</td>\n",
       "      <td>102.0</td>\n",
       "      <td>465</td>\n",
       "      <td>...</td>\n",
       "      <td>36.0</td>\n",
       "      <td>1</td>\n",
       "      <td>12</td>\n",
       "      <td>1</td>\n",
       "      <td>30</td>\n",
       "      <td>29.90184</td>\n",
       "      <td>0</td>\n",
       "      <td>1</td>\n",
       "      <td>1</td>\n",
       "      <td>0.0</td>\n",
       "    </tr>\n",
       "    <tr>\n",
       "      <th>3</th>\n",
       "      <td>0</td>\n",
       "      <td>0</td>\n",
       "      <td>0</td>\n",
       "      <td>0</td>\n",
       "      <td>1286.369363</td>\n",
       "      <td>752.736986</td>\n",
       "      <td>29.780158</td>\n",
       "      <td>2</td>\n",
       "      <td>27.0</td>\n",
       "      <td>3890</td>\n",
       "      <td>...</td>\n",
       "      <td>69.0</td>\n",
       "      <td>0</td>\n",
       "      <td>15</td>\n",
       "      <td>3</td>\n",
       "      <td>170</td>\n",
       "      <td>29.90184</td>\n",
       "      <td>0</td>\n",
       "      <td>2</td>\n",
       "      <td>1</td>\n",
       "      <td>0.0</td>\n",
       "    </tr>\n",
       "    <tr>\n",
       "      <th>4</th>\n",
       "      <td>0</td>\n",
       "      <td>0</td>\n",
       "      <td>0</td>\n",
       "      <td>0</td>\n",
       "      <td>1286.369363</td>\n",
       "      <td>752.736986</td>\n",
       "      <td>29.780158</td>\n",
       "      <td>2</td>\n",
       "      <td>27.0</td>\n",
       "      <td>3890</td>\n",
       "      <td>...</td>\n",
       "      <td>32.0</td>\n",
       "      <td>0</td>\n",
       "      <td>11</td>\n",
       "      <td>3</td>\n",
       "      <td>170</td>\n",
       "      <td>29.90184</td>\n",
       "      <td>0</td>\n",
       "      <td>1</td>\n",
       "      <td>1</td>\n",
       "      <td>0.0</td>\n",
       "    </tr>\n",
       "  </tbody>\n",
       "</table>\n",
       "<p>5 rows × 21 columns</p>\n",
       "</div>"
      ],
      "text/plain": [
       "   1   2   3   4            5           6          7   8      9     10 ...   \\\n",
       "0   0   0   0   0  1286.369363  752.736986  29.780158   2  102.0   465 ...    \n",
       "1   0   0   0   0  1286.369363  752.736986  29.780158   2  102.0   465 ...    \n",
       "2   0   0   0   0  1286.369363  752.736986  29.780158   2  102.0   465 ...    \n",
       "3   0   0   0   0  1286.369363  752.736986  29.780158   2   27.0  3890 ...    \n",
       "4   0   0   0   0  1286.369363  752.736986  29.780158   2   27.0  3890 ...    \n",
       "\n",
       "     12  13  14  15   16        17  18  19  20   21  \n",
       "0  42.0   1  21   1   30  29.90184   0   1   1  0.0  \n",
       "1  31.0   1   9   1   30  29.90184   0   2   1  0.0  \n",
       "2  36.0   1  12   1   30  29.90184   0   1   1  0.0  \n",
       "3  69.0   0  15   3  170  29.90184   0   2   1  0.0  \n",
       "4  32.0   0  11   3  170  29.90184   0   1   1  0.0  \n",
       "\n",
       "[5 rows x 21 columns]"
      ]
     },
     "execution_count": 66,
     "metadata": {},
     "output_type": "execute_result"
    }
   ],
   "source": [
    "test.head()"
   ]
  },
  {
   "cell_type": "code",
   "execution_count": null,
   "metadata": {},
   "outputs": [],
   "source": []
  }
 ],
 "metadata": {
  "kernelspec": {
   "display_name": "Python 3",
   "language": "python",
   "name": "python3"
  },
  "language_info": {
   "codemirror_mode": {
    "name": "ipython",
    "version": 3
   },
   "file_extension": ".py",
   "mimetype": "text/x-python",
   "name": "python",
   "nbconvert_exporter": "python",
   "pygments_lexer": "ipython3",
   "version": "3.6.4"
  }
 },
 "nbformat": 4,
 "nbformat_minor": 2
}
