{
 "cells": [
  {
   "cell_type": "code",
   "execution_count": null,
   "metadata": {},
   "outputs": [],
   "source": [
    "import pandas as pd\n",
    "import pyspark\n",
    "import itertools\n",
    "from sklearn.utils import shuffle\n",
    "import numpy as np\n",
    "frac = 0.001"
   ]
  },
  {
   "cell_type": "raw",
   "metadata": {},
   "source": [
    "try: \n",
    "    type(sc)\n",
    "except NameError:\n",
    "    sc = pyspark.SparkContext('local[*]')"
   ]
  },
  {
   "cell_type": "code",
   "execution_count": null,
   "metadata": {},
   "outputs": [],
   "source": [
    "test = pd.DataFrame()\n",
    "postulaciones = pd.read_csv('Sources/fiuba_4_postulaciones_concat.csv')\n",
    "postulaciones = postulaciones.drop_duplicates(['idaviso','idpostulante'])\n",
    "postulantes = pd.read_csv('Sources/postulantes_proc.csv')\n",
    "postulantes = postulantes.drop_duplicates('idpostulante')['idpostulante']\n",
    "avisos = pd.concat([pd.read_csv('Sources/fiuba_6_avisos_detalle_limpio.csv'),pd.read_csv('Sources/fiuba_5_avisos_concat.csv')])\n",
    "avisos = avisos.drop_duplicates('idaviso')['idaviso']"
   ]
  },
  {
   "cell_type": "code",
   "execution_count": null,
   "metadata": {},
   "outputs": [],
   "source": [
    "print('postulantes ',postulantes.sample(frac=frac).shape[0])\n",
    "print('avisos',avisos.sample(frac=frac).shape[0])"
   ]
  },
  {
   "cell_type": "code",
   "execution_count": null,
   "metadata": {},
   "outputs": [],
   "source": [
    "i = 0\n",
    "print(postulaciones.shape[0],2*postulaciones.shape[0])\n",
    "while test.shape[0] < 2*postulaciones.shape[0]:\n",
    "    while test.shape[0] < 2*postulaciones.shape[0]:\n",
    "        aux = []\n",
    "        i = i + 1\n",
    "        postulantes_sample = postulantes.sample(frac=frac)\n",
    "        avisos_sample = avisos.sample(frac=frac)\n",
    "        for x in itertools.product(avisos_sample,postulantes_sample):\n",
    "            aux.append(x)\n",
    "        aux = pd.DataFrame.from_records(aux)\n",
    "        aux.rename({0:'idaviso',1:'idpostulante'}, axis=1, inplace=True)\n",
    "        test = pd.concat([test,aux])\n",
    "    print('Antes de la poda:', test.shape[0])\n",
    "    test = test.drop_duplicates(['idaviso','idpostulante'])\n",
    "    print('Despues de la poda:', test.shape[0])\n",
    "print(i, test.shape[0],postulaciones.shape[0])"
   ]
  },
  {
   "cell_type": "code",
   "execution_count": null,
   "metadata": {},
   "outputs": [],
   "source": [
    "postulaciones.drop(['Unnamed: 0','fechapostulacion'], axis=1, inplace=True)"
   ]
  },
  {
   "cell_type": "code",
   "execution_count": null,
   "metadata": {},
   "outputs": [],
   "source": [
    "postulaciones['sepostulo'] = 1"
   ]
  },
  {
   "cell_type": "code",
   "execution_count": null,
   "metadata": {},
   "outputs": [],
   "source": [
    "postulaciones = pd.concat([postulaciones,test])"
   ]
  },
  {
   "cell_type": "code",
   "execution_count": null,
   "metadata": {},
   "outputs": [],
   "source": [
    "postulaciones = postulaciones.drop_duplicates(['idaviso','idpostulante'])\n",
    "postulaciones['sepostulo'].fillna(0,inplace=True)"
   ]
  },
  {
   "cell_type": "code",
   "execution_count": null,
   "metadata": {},
   "outputs": [],
   "source": [
    "test = pd.read_csv('Sources/test_final_100k.csv').drop('id', axis=1)\n",
    "postualciones = pd.concat([test,postulaciones])\n",
    "postualciones = postulaciones.drop_duplicates(['idaviso','idpostulante'])\n",
    "postulaciones = postulaciones[100000:]\n",
    "postulaciones.shape"
   ]
  },
  {
   "cell_type": "code",
   "execution_count": null,
   "metadata": {},
   "outputs": [],
   "source": [
    "postulaciones = shuffle(postulaciones)"
   ]
  },
  {
   "cell_type": "code",
   "execution_count": null,
   "metadata": {},
   "outputs": [],
   "source": [
    "postulaciones.to_csv('Sources/postulaciones_for_training.csv')"
   ]
  },
  {
   "cell_type": "code",
   "execution_count": null,
   "metadata": {},
   "outputs": [],
   "source": []
  }
 ],
 "metadata": {
  "kernelspec": {
   "display_name": "Python 3",
   "language": "python",
   "name": "python3"
  },
  "language_info": {
   "codemirror_mode": {
    "name": "ipython",
    "version": 3
   },
   "file_extension": ".py",
   "mimetype": "text/x-python",
   "name": "python",
   "nbconvert_exporter": "python",
   "pygments_lexer": "ipython3",
   "version": "3.6.4"
  }
 },
 "nbformat": 4,
 "nbformat_minor": 2
}
