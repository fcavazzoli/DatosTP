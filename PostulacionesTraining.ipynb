{
 "cells": [
  {
   "cell_type": "code",
   "execution_count": 1,
   "metadata": {},
   "outputs": [],
   "source": [
    "import pandas as pd\n",
    "import pyspark\n",
    "import itertools\n",
    "frac = 0.001"
   ]
  },
  {
   "cell_type": "raw",
   "metadata": {},
   "source": [
    "try: \n",
    "    type(sc)\n",
    "except NameError:\n",
    "    sc = pyspark.SparkContext('local[*]')"
   ]
  },
  {
   "cell_type": "code",
   "execution_count": 2,
   "metadata": {},
   "outputs": [],
   "source": [
    "postulaciones = pd.read_csv('Sources/fiuba_4_postulaciones_concat.csv')\n",
    "test = pd.DataFrame()\n",
    "postulaciones = postulaciones.drop_duplicates(['idaviso','idpostulante'])"
   ]
  },
  {
   "cell_type": "code",
   "execution_count": 3,
   "metadata": {},
   "outputs": [
    {
     "name": "stdout",
     "output_type": "stream",
     "text": [
      "6603752 6603752\n",
      "1049 13210549 6603752\n"
     ]
    }
   ],
   "source": [
    "i = 0\n",
    "print(postulaciones.shape[0],postulaciones.shape[0])\n",
    "while test.shape[0] < 2*postulaciones.shape[0]:\n",
    "    aux = []\n",
    "    i = i + 1\n",
    "    postulantes = pd.read_csv('Sources/postulantes_proc.csv').sample(frac=frac)['idpostulante']\n",
    "    avisos = pd.read_csv('Sources/fiuba_6_avisos_detalle_limpio.csv').sample(frac=frac)['idaviso']\n",
    "    for x in itertools.product(avisos,postulantes):\n",
    "        aux.append(x)\n",
    "    aux = pd.DataFrame.from_records(aux)\n",
    "    aux.rename({0:'idaviso',1:'idpostulante'}, axis=1, inplace=True)\n",
    "    test = pd.concat([test,aux])\n",
    "    test = test.drop_duplicates(['idaviso','idpostulante'])\n",
    "print(i, test.shape[0],postulaciones.shape[0])"
   ]
  },
  {
   "cell_type": "raw",
   "metadata": {},
   "source": [
    "postulantes = pd.read_csv('Sources/postulantes_proc.csv').sample(frac=frac)\n",
    "avisos = pd.read_csv('Sources/fiuba_6_avisos_detalle_limpio.csv').sample(frac=frac)\n"
   ]
  },
  {
   "cell_type": "raw",
   "metadata": {},
   "source": [
    "test = []\n",
    "for x in itertools.product(avisos['idaviso'],postulantes['idpostulante']):\n",
    "    test.append(x)"
   ]
  },
  {
   "cell_type": "raw",
   "metadata": {},
   "source": [
    "test = pd.DataFrame.from_records(test)"
   ]
  },
  {
   "cell_type": "raw",
   "metadata": {},
   "source": [
    "test.rename({0:'idaviso',1:'idpostulante'}, axis=1, inplace=True)"
   ]
  },
  {
   "cell_type": "code",
   "execution_count": 4,
   "metadata": {},
   "outputs": [],
   "source": [
    "postulaciones.drop(['Unnamed: 0','fechapostulacion'], axis=1, inplace=True)"
   ]
  },
  {
   "cell_type": "code",
   "execution_count": 5,
   "metadata": {},
   "outputs": [],
   "source": [
    "postulaciones['sepostulo'] = 1"
   ]
  },
  {
   "cell_type": "code",
   "execution_count": 6,
   "metadata": {},
   "outputs": [
    {
     "data": {
      "text/plain": [
       "(6603752, 3)"
      ]
     },
     "execution_count": 6,
     "metadata": {},
     "output_type": "execute_result"
    }
   ],
   "source": [
    "postulaciones.shape"
   ]
  },
  {
   "cell_type": "code",
   "execution_count": 7,
   "metadata": {},
   "outputs": [],
   "source": [
    "postulaciones = pd.concat([postulaciones,test])"
   ]
  },
  {
   "cell_type": "code",
   "execution_count": 8,
   "metadata": {},
   "outputs": [
    {
     "data": {
      "text/plain": [
       "(19814301, 3)"
      ]
     },
     "execution_count": 8,
     "metadata": {},
     "output_type": "execute_result"
    }
   ],
   "source": [
    "postulaciones.shape"
   ]
  },
  {
   "cell_type": "code",
   "execution_count": 9,
   "metadata": {},
   "outputs": [],
   "source": [
    "postulaciones = postulaciones.drop_duplicates(['idaviso','idpostulante'])\n",
    "postulaciones['sepostulo'].fillna(0,inplace=True)"
   ]
  },
  {
   "cell_type": "code",
   "execution_count": 10,
   "metadata": {},
   "outputs": [
    {
     "data": {
      "text/plain": [
       "(19807932, 3)"
      ]
     },
     "execution_count": 10,
     "metadata": {},
     "output_type": "execute_result"
    }
   ],
   "source": [
    "postulaciones.shape"
   ]
  },
  {
   "cell_type": "code",
   "execution_count": 11,
   "metadata": {},
   "outputs": [],
   "source": [
    "postulaciones.to_csv('Sources/postulaciones_for_training.csv')"
   ]
  },
  {
   "cell_type": "code",
   "execution_count": null,
   "metadata": {},
   "outputs": [],
   "source": []
  }
 ],
 "metadata": {
  "kernelspec": {
   "display_name": "Python 3",
   "language": "python",
   "name": "python3"
  },
  "language_info": {
   "codemirror_mode": {
    "name": "ipython",
    "version": 3
   },
   "file_extension": ".py",
   "mimetype": "text/x-python",
   "name": "python",
   "nbconvert_exporter": "python",
   "pygments_lexer": "ipython3",
   "version": "3.6.4"
  }
 },
 "nbformat": 4,
 "nbformat_minor": 2
}
