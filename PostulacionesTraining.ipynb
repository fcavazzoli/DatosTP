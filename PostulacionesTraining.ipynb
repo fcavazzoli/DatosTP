{
 "cells": [
  {
   "cell_type": "code",
   "execution_count": 1,
   "metadata": {},
   "outputs": [],
   "source": [
    "import pandas as pd\n",
    "import pyspark\n",
    "import itertools\n",
    "from sklearn.utils import shuffle\n",
    "frac = 0.001"
   ]
  },
  {
   "cell_type": "raw",
   "metadata": {},
   "source": [
    "try: \n",
    "    type(sc)\n",
    "except NameError:\n",
    "    sc = pyspark.SparkContext('local[*]')"
   ]
  },
  {
   "cell_type": "code",
   "execution_count": 2,
   "metadata": {},
   "outputs": [],
   "source": [
    "postulaciones = pd.read_csv('Sources/fiuba_4_postulaciones_concat.csv')\n",
    "test = pd.DataFrame()\n",
    "postulaciones = postulaciones.drop_duplicates(['idaviso','idpostulante'])\n",
    "postulantes = pd.concat([pd.read_csv('Sources/test_final_100k.csv'), pd.read_csv('Sources/fiuba_4_postulaciones_concat.csv')])\n",
    "postulantes = postulantes.drop_duplicates('idpostulante')['idpostulante']\n",
    "avisos = pd.read_csv('Sources/fiuba_6_avisos_detalle_limpio.csv')['idaviso']"
   ]
  },
  {
   "cell_type": "code",
   "execution_count": 3,
   "metadata": {},
   "outputs": [
    {
     "name": "stdout",
     "output_type": "stream",
     "text": [
      "postulantes  367\n",
      "avisos 27\n"
     ]
    }
   ],
   "source": [
    "print('postulantes ',postulantes.sample(frac=frac).shape[0])\n",
    "print('avisos',avisos.sample(frac=frac).shape[0])"
   ]
  },
  {
   "cell_type": "code",
   "execution_count": 4,
   "metadata": {},
   "outputs": [
    {
     "name": "stdout",
     "output_type": "stream",
     "text": [
      "6603752 13207504\n",
      "Antes de la poda: 13208697\n",
      "Despues de la poda: 13199851\n",
      "Antes de la poda: 13209760\n",
      "Despues de la poda: 13209738\n",
      "1334 13209738 6603752\n"
     ]
    }
   ],
   "source": [
    "i = 0\n",
    "print(postulaciones.shape[0],2*postulaciones.shape[0])\n",
    "while test.shape[0] < 2*postulaciones.shape[0]:\n",
    "    while test.shape[0] < 2*postulaciones.shape[0]:\n",
    "        aux = []\n",
    "        i = i + 1\n",
    "        postulantes_sample = postulantes.sample(frac=frac)\n",
    "        avisos_sample = avisos.sample(frac=frac)\n",
    "        for x in itertools.product(avisos_sample,postulantes_sample):\n",
    "            aux.append(x)\n",
    "        aux = pd.DataFrame.from_records(aux)\n",
    "        aux.rename({0:'idaviso',1:'idpostulante'}, axis=1, inplace=True)\n",
    "        test = pd.concat([test,aux])\n",
    "    print('Antes de la poda:', test.shape[0])\n",
    "    test = test.drop_duplicates(['idaviso','idpostulante'])\n",
    "    print('Despues de la poda:', test.shape[0])\n",
    "print(i, test.shape[0],postulaciones.shape[0])"
   ]
  },
  {
   "cell_type": "code",
   "execution_count": 5,
   "metadata": {},
   "outputs": [],
   "source": [
    "postulaciones.drop(['Unnamed: 0','fechapostulacion'], axis=1, inplace=True)"
   ]
  },
  {
   "cell_type": "code",
   "execution_count": 6,
   "metadata": {},
   "outputs": [],
   "source": [
    "postulaciones['sepostulo'] = 1"
   ]
  },
  {
   "cell_type": "code",
   "execution_count": 7,
   "metadata": {},
   "outputs": [
    {
     "data": {
      "text/plain": [
       "(6603752, 3)"
      ]
     },
     "execution_count": 7,
     "metadata": {},
     "output_type": "execute_result"
    }
   ],
   "source": [
    "postulaciones.shape"
   ]
  },
  {
   "cell_type": "code",
   "execution_count": 8,
   "metadata": {},
   "outputs": [],
   "source": [
    "postulaciones = pd.concat([postulaciones,test])"
   ]
  },
  {
   "cell_type": "code",
   "execution_count": 9,
   "metadata": {},
   "outputs": [
    {
     "data": {
      "text/plain": [
       "(19813490, 3)"
      ]
     },
     "execution_count": 9,
     "metadata": {},
     "output_type": "execute_result"
    }
   ],
   "source": [
    "postulaciones.shape"
   ]
  },
  {
   "cell_type": "code",
   "execution_count": 10,
   "metadata": {},
   "outputs": [],
   "source": [
    "postulaciones = postulaciones.drop_duplicates(['idaviso','idpostulante'])\n",
    "postulaciones['sepostulo'].fillna(0,inplace=True)"
   ]
  },
  {
   "cell_type": "code",
   "execution_count": 11,
   "metadata": {},
   "outputs": [
    {
     "data": {
      "text/plain": [
       "(19804652, 3)"
      ]
     },
     "execution_count": 11,
     "metadata": {},
     "output_type": "execute_result"
    }
   ],
   "source": [
    "postulaciones.shape"
   ]
  },
  {
   "cell_type": "code",
   "execution_count": 12,
   "metadata": {},
   "outputs": [
    {
     "data": {
      "text/plain": [
       "(19704652, 3)"
      ]
     },
     "execution_count": 12,
     "metadata": {},
     "output_type": "execute_result"
    }
   ],
   "source": [
    "test = pd.read_csv('Sources/test_final_100k.csv').drop('id', axis=1)\n",
    "postualciones = pd.concat([test,postulaciones])\n",
    "postualciones = postulaciones.drop_duplicates(['idaviso','idpostulante'])\n",
    "postulaciones = postulaciones[100000:]\n",
    "postulaciones.shape"
   ]
  },
  {
   "cell_type": "code",
   "execution_count": 13,
   "metadata": {},
   "outputs": [
    {
     "data": {
      "text/plain": [
       "(19804652, 3)"
      ]
     },
     "execution_count": 13,
     "metadata": {},
     "output_type": "execute_result"
    }
   ],
   "source": [
    "postualciones.shape"
   ]
  },
  {
   "cell_type": "code",
   "execution_count": 14,
   "metadata": {},
   "outputs": [],
   "source": [
    "postulaciones = shuffle(postulaciones)"
   ]
  },
  {
   "cell_type": "code",
   "execution_count": 15,
   "metadata": {},
   "outputs": [
    {
     "data": {
      "text/html": [
       "<div>\n",
       "<style scoped>\n",
       "    .dataframe tbody tr th:only-of-type {\n",
       "        vertical-align: middle;\n",
       "    }\n",
       "\n",
       "    .dataframe tbody tr th {\n",
       "        vertical-align: top;\n",
       "    }\n",
       "\n",
       "    .dataframe thead th {\n",
       "        text-align: right;\n",
       "    }\n",
       "</style>\n",
       "<table border=\"1\" class=\"dataframe\">\n",
       "  <thead>\n",
       "    <tr style=\"text-align: right;\">\n",
       "      <th></th>\n",
       "      <th>idaviso</th>\n",
       "      <th>idpostulante</th>\n",
       "      <th>sepostulo</th>\n",
       "    </tr>\n",
       "  </thead>\n",
       "  <tbody>\n",
       "    <tr>\n",
       "      <th>5231</th>\n",
       "      <td>1.112295e+09</td>\n",
       "      <td>KBe4pdq</td>\n",
       "      <td>0.0</td>\n",
       "    </tr>\n",
       "    <tr>\n",
       "      <th>1813</th>\n",
       "      <td>1.112235e+09</td>\n",
       "      <td>jkVWeD0</td>\n",
       "      <td>0.0</td>\n",
       "    </tr>\n",
       "    <tr>\n",
       "      <th>111054</th>\n",
       "      <td>1.112293e+09</td>\n",
       "      <td>NKaQJx</td>\n",
       "      <td>1.0</td>\n",
       "    </tr>\n",
       "    <tr>\n",
       "      <th>6353</th>\n",
       "      <td>1.112290e+09</td>\n",
       "      <td>8MBPQkO</td>\n",
       "      <td>0.0</td>\n",
       "    </tr>\n",
       "    <tr>\n",
       "      <th>7881</th>\n",
       "      <td>1.111847e+09</td>\n",
       "      <td>DrXNG2A</td>\n",
       "      <td>0.0</td>\n",
       "    </tr>\n",
       "  </tbody>\n",
       "</table>\n",
       "</div>"
      ],
      "text/plain": [
       "             idaviso idpostulante  sepostulo\n",
       "5231    1.112295e+09      KBe4pdq        0.0\n",
       "1813    1.112235e+09      jkVWeD0        0.0\n",
       "111054  1.112293e+09       NKaQJx        1.0\n",
       "6353    1.112290e+09      8MBPQkO        0.0\n",
       "7881    1.111847e+09      DrXNG2A        0.0"
      ]
     },
     "execution_count": 15,
     "metadata": {},
     "output_type": "execute_result"
    }
   ],
   "source": [
    "postulaciones.head()"
   ]
  },
  {
   "cell_type": "code",
   "execution_count": 16,
   "metadata": {},
   "outputs": [],
   "source": [
    "postulaciones.to_csv('Sources/postulaciones_for_training.csv')"
   ]
  },
  {
   "cell_type": "code",
   "execution_count": null,
   "metadata": {},
   "outputs": [],
   "source": []
  }
 ],
 "metadata": {
  "kernelspec": {
   "display_name": "Python 3",
   "language": "python",
   "name": "python3"
  },
  "language_info": {
   "codemirror_mode": {
    "name": "ipython",
    "version": 3
   },
   "file_extension": ".py",
   "mimetype": "text/x-python",
   "name": "python",
   "nbconvert_exporter": "python",
   "pygments_lexer": "ipython3",
   "version": "3.6.4"
  }
 },
 "nbformat": 4,
 "nbformat_minor": 2
}
