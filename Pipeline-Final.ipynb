{
 "cells": [
  {
   "cell_type": "code",
   "execution_count": 1,
   "metadata": {},
   "outputs": [],
   "source": [
    "import pandas as pd\n",
    "from sklearn import preprocessing\n",
    "import numpy as np"
   ]
  },
  {
   "cell_type": "code",
   "execution_count": null,
   "metadata": {},
   "outputs": [],
   "source": [
    "postulaciones = pd.read_csv('Sources/postulaciones_for_training.csv').drop('Unnamed: 0', axis=1)\n",
    "postulantes = pd.read_csv('Sources/postulantes_proc.csv').drop('Unnamed: 0', axis=1)\n",
    "avisos = pd.read_csv('Sources/fiuba_6_avisos_detalle_limpio.csv').drop('Unnamed: 0', axis=1)\n",
    "test = pd.read_csv('Sources/test_final_100k.csv')\n",
    "visitas = pd.read_csv('Sources/visitas_proc.csv').drop('Unnamed: 0', axis=1)\n",
    "preds = pd.DataFrame()"
   ]
  },
  {
   "cell_type": "code",
   "execution_count": null,
   "metadata": {},
   "outputs": [],
   "source": [
    "postulaciones = postulaciones.merge(postulantes, on='idpostulante')\n",
    "postulaciones = postulaciones.merge(avisos, on='idaviso')\n",
    "postulaciones = postulaciones.merge(visitas, on=['idaviso','idpostulante'], how='left')\n",
    "media_visitas = np.nanmean(postulaciones.loc[postulaciones['sepostulo']==1,'visito'])\n",
    "postulaciones.loc[postulaciones['sepostulo']==1,'visito'].fillna(media_visitas,inplace=True)\n",
    "resultados = postulaciones['sepostulo']\n",
    "postulaciones.drop(['titulo','descripcion','idaviso','idpostulante','sepostulo'],axis=1, inplace=True)\n",
    "postulaciones.head()"
   ]
  },
  {
   "cell_type": "code",
   "execution_count": null,
   "metadata": {},
   "outputs": [],
   "source": [
    "test = test.merge(postulantes, on='idpostulante')\n",
    "test = test.merge(avisos, on='idaviso')\n",
    "test = test.merge(visitas, on=['idaviso','idpostulante'], how='left')\n",
    "test.drop(['titulo','descripcion','idaviso','idpostulante','id'],axis=1, inplace=True)\n",
    "test.head()"
   ]
  },
  {
   "cell_type": "code",
   "execution_count": null,
   "metadata": {},
   "outputs": [],
   "source": [
    "test = pd.concat([test,postulaciones])"
   ]
  },
  {
   "cell_type": "code",
   "execution_count": null,
   "metadata": {},
   "outputs": [],
   "source": [
    "test['fechanacimiento'].fillna(np.nanmean(test['fechanacimiento']),inplace=True)\n",
    "test['FEM'].fillna(np.nanmean(test['FEM']),inplace=True)\n",
    "test['MASC'].fillna(np.nanmean(test['MASC']),inplace=True)\n",
    "test['NO_DECLARA'].fillna(np.nanmean(test['NO_DECLARA']),inplace=True)\n",
    "test['prom_edad'].fillna(np.nanmean(test['prom_edad']),inplace=True)\n",
    "test['FEM'].fillna(np.nanmean(test['FEM']),inplace=True)\n",
    "lista = ['sabados', 'domingos','ingles', '3 anos', '2 anos', '4 anos', '5 anos', 'visito']\n",
    "for i in lista:\n",
    "    test[i].fillna(0,inplace=True)"
   ]
  },
  {
   "cell_type": "code",
   "execution_count": null,
   "metadata": {},
   "outputs": [],
   "source": [
    "test.head()"
   ]
  },
  {
   "cell_type": "code",
   "execution_count": null,
   "metadata": {},
   "outputs": [],
   "source": [
    "from sklearn import preprocessing\n",
    "le = preprocessing.LabelEncoder()\n",
    "for col in test.columns:\n",
    "    if not test[col].dtype == 'O': continue\n",
    "    test[col] = test[col].fillna('na')\n",
    "    le.fit(test[col])\n",
    "    test[col] = le.transform(test[col])"
   ]
  },
  {
   "cell_type": "code",
   "execution_count": null,
   "metadata": {},
   "outputs": [],
   "source": [
    "postulaciones = test[100000:].fillna(-1)\n",
    "test = test[:100000].fillna(-1)"
   ]
  },
  {
   "cell_type": "code",
   "execution_count": null,
   "metadata": {},
   "outputs": [],
   "source": [
    "partitions = []\n",
    "partitions_res = []\n",
    "n = 5\n",
    "index = int(postulaciones.shape[0]/n)\n",
    "for i in range(n):\n",
    "    partitions.append(postulaciones[index*i:index*(i+1)])\n",
    "    partitions_res.append(resultados[index*i:index*(i+1)])\n"
   ]
  },
  {
   "cell_type": "code",
   "execution_count": null,
   "metadata": {},
   "outputs": [],
   "source": [
    "aviso = None\n",
    "postulantes = None\n",
    "visitas = None"
   ]
  },
  {
   "cell_type": "code",
   "execution_count": null,
   "metadata": {},
   "outputs": [],
   "source": [
    "def proba(result):\n",
    "    prob_1 = []\n",
    "    for x in result:\n",
    "        prob_1.append(x[1])\n",
    "    return prob_1"
   ]
  },
  {
   "cell_type": "code",
   "execution_count": null,
   "metadata": {},
   "outputs": [],
   "source": [
    "print('Arranca XG')\n",
    "\n",
    "import xgboost as xgb\n",
    "dtrain = xgb.DMatrix(data=partitions[0],label=partitions_res[0])\n",
    "dtest = xgb.DMatrix(data=partitions[4])\n",
    "param = {'max_depth':20, 'eta':1, 'silent':1, 'objective':'binary:logistic', 'subsample':0.8}\n",
    "num_round = 50\n",
    "bst = xgb.train(param, dtrain, num_round)\n",
    "preds['XGB'] = bst.predict(dtest)\n",
    "\n",
    "print('Termino XG')"
   ]
  },
  {
   "cell_type": "code",
   "execution_count": null,
   "metadata": {},
   "outputs": [],
   "source": [
    "print('Arranca RF')\n",
    "\n",
    "from sklearn.ensemble import RandomForestClassifier\n",
    "from sklearn.metrics import accuracy_score\n",
    "from sklearn.metrics import confusion_matrix\n",
    "clf=RandomForestClassifier(n_estimators=50, warm_start=True, criterion='entropy', n_jobs=-1)\n",
    "clf.fit(partitions[1],partitions_res[1])\n",
    "preds['RF'] = proba(clf.predict_proba(partitions[4]))\n",
    "\n",
    "print('Termino RF')"
   ]
  },
  {
   "cell_type": "code",
   "execution_count": null,
   "metadata": {},
   "outputs": [],
   "source": [
    "print('Arranca NB')\n",
    "\n",
    "from sklearn.naive_bayes import BernoulliNB\n",
    "nb = BernoulliNB()\n",
    "nb.fit(partitions[2] ,partitions_res[2])\n",
    "BernoulliNB(alpha=1.0, binarize=0.0, class_prior=None, fit_prior=True)\n",
    "preds['NB'] = proba(nb.predict_proba(partitions[4]))\n",
    "\n",
    "print('Termino NB')"
   ]
  },
  {
   "cell_type": "code",
   "execution_count": null,
   "metadata": {},
   "outputs": [],
   "source": [
    "print('Arranca PERCEPTRON')\n",
    "\n",
    "from sklearn.neural_network import MLPClassifier\n",
    "clf = MLPClassifier(solver='lbfgs', alpha=1e-5, hidden_layer_sizes=(5, 2), random_state=1)\n",
    "clf.fit(partitions[3], partitions_res[3])\n",
    "preds['PERCEPTRON'] = proba(clf.predict_proba(partitions[4]))\n",
    "\n",
    "print('Termino PERCEPTRON')"
   ]
  },
  {
   "cell_type": "code",
   "execution_count": null,
   "metadata": {},
   "outputs": [],
   "source": [
    "print('Entreno KNN')\n",
    "\n",
    "from sklearn.neighbors import KNeighborsClassifier\n",
    "neigh = KNeighborsClassifier(n_neighbors=25 ,n_jobs=-1, algorithm='auto')\n",
    "neigh.fit(preds, partitions_res[4])\n",
    "\n",
    "print('KNN ya esta entrenado')\n",
    "\n"
   ]
  },
  {
   "cell_type": "code",
   "execution_count": null,
   "metadata": {},
   "outputs": [],
   "source": [
    "preds.head()"
   ]
  },
  {
   "cell_type": "code",
   "execution_count": null,
   "metadata": {},
   "outputs": [],
   "source": [
    "final = pd.DataFrame()"
   ]
  },
  {
   "cell_type": "code",
   "execution_count": null,
   "metadata": {},
   "outputs": [],
   "source": [
    "print('Arranca XGB final')\n",
    "\n",
    "aviso = None\n",
    "postulantes = None\n",
    "import xgboost as xgb\n",
    "dtrain = xgb.DMatrix(data=postulaciones, label=resultados)\n",
    "dtest = xgb.DMatrix(data=test)\n",
    "param = {'max_depth':20, 'eta':1, 'silent':1, 'objective':'binary:logistic', 'subsample':0.8}\n",
    "num_round = 50\n",
    "final['XGB'] = xgb.train(param, dtrain, num_round)\n",
    "\n",
    "print('Termino XGB final')"
   ]
  },
  {
   "cell_type": "code",
   "execution_count": null,
   "metadata": {},
   "outputs": [],
   "source": [
    "print('Arranca RF final')\n",
    "\n",
    "from sklearn.ensemble import RandomForestClassifier\n",
    "from sklearn.metrics import accuracy_score\n",
    "from sklearn.metrics import confusion_matrix\n",
    "clfr=RandomForestClassifier(n_estimators=50, warm_start=True, criterion='entropy', n_jobs=-1)\n",
    "final['RF'] = clfr.fit(postulaciones,resultados)\n",
    "\n",
    "print('Termino RF final')"
   ]
  },
  {
   "cell_type": "code",
   "execution_count": null,
   "metadata": {},
   "outputs": [],
   "source": [
    "print('Arranca NB final')\n",
    "\n",
    "from sklearn.naive_bayes import BernoulliNB\n",
    "nb = BernoulliNB(alpha=1.0, binarize=0.0, class_prior=None, fit_prior=True)\n",
    "nb.fit(postulaciones, resultados)\n",
    "final['NB'] = proba(nb.predict_proba(test))\n",
    "\n",
    "print('Termino NB final')"
   ]
  },
  {
   "cell_type": "code",
   "execution_count": null,
   "metadata": {},
   "outputs": [],
   "source": [
    "print('Arranca PPERCEPTRON final')\n",
    "from sklearn.neural_network import MLPClassifier\n",
    "clf = MLPClassifier(solver='lbfgs', alpha=1e-5, hidden_layer_sizes=(5, 2), random_state=1)\n",
    "clf.fit(postulaciones, resultados)\n",
    "final['PERCEPTRON'] = proba(clf.predict_proba(test))\n",
    "\n",
    "print('Termino PERCEPTRON final')"
   ]
  },
  {
   "cell_type": "code",
   "execution_count": null,
   "metadata": {},
   "outputs": [],
   "source": [
    "final.head()"
   ]
  },
  {
   "cell_type": "code",
   "execution_count": null,
   "metadata": {},
   "outputs": [],
   "source": [
    "print('Predigo con KNN')\n",
    "\n",
    "resultado = proba(neigh.predict(final))\n",
    "\n",
    "print('Termino KNN')"
   ]
  },
  {
   "cell_type": "code",
   "execution_count": null,
   "metadata": {},
   "outputs": [],
   "source": [
    "test = pd.read_csv('Sources/test_final_100k.csv')\n",
    "test['sepostulo'] = resultado\n",
    "test.drop(['idaviso','idpostulante'],axis=1,inplace=True)\n",
    "test.to_csv('Sources/resultado_final_pipe.csv', index=False)"
   ]
  }
 ],
 "metadata": {
  "kernelspec": {
   "display_name": "Python 3",
   "language": "python",
   "name": "python3"
  },
  "language_info": {
   "codemirror_mode": {
    "name": "ipython",
    "version": 3
   },
   "file_extension": ".py",
   "mimetype": "text/x-python",
   "name": "python",
   "nbconvert_exporter": "python",
   "pygments_lexer": "ipython3",
   "version": "3.6.4"
  }
 },
 "nbformat": 4,
 "nbformat_minor": 2
}
