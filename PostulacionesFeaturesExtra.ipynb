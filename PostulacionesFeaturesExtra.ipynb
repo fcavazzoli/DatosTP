{
 "cells": [
  {
   "cell_type": "code",
   "execution_count": null,
   "metadata": {},
   "outputs": [],
   "source": [
    "import pandas as pd\n",
    "import pyspark\n",
    "sc = pyspark.SparkContext('local[*]')"
   ]
  },
  {
   "cell_type": "code",
   "execution_count": null,
   "metadata": {},
   "outputs": [],
   "source": [
    "postulantes = pd.read_csv('Sources/postulantes_proc.csv').drop(['Unnamed: 0'],axis=1)\n",
    "postulaciones = pd.read_csv('Sources/fiuba_4_postulaciones_concat.csv').drop(['Unnamed: 0'],axis=1)"
   ]
  },
  {
   "cell_type": "code",
   "execution_count": null,
   "metadata": {},
   "outputs": [],
   "source": [
    "postulantes = postulantes[['idpostulante','fechanacimiento','sexo']]\n",
    "postulantes.head()"
   ]
  },
  {
   "cell_type": "code",
   "execution_count": null,
   "metadata": {},
   "outputs": [],
   "source": [
    "postulaciones.drop(['fechapostulacion'],axis=1,inplace=True)\n",
    "postulaciones.head()"
   ]
  },
  {
   "cell_type": "code",
   "execution_count": null,
   "metadata": {},
   "outputs": [],
   "source": [
    "postulaciones = postulaciones.merge(postulantes, on='idpostulante',how='right')\n",
    "postulaciones.head()"
   ]
  },
  {
   "cell_type": "code",
   "execution_count": null,
   "metadata": {},
   "outputs": [],
   "source": [
    "prom_edad = postulaciones.groupby(['idaviso']).mean()\n",
    "prom_edad.head()"
   ]
  },
  {
   "cell_type": "code",
   "execution_count": null,
   "metadata": {},
   "outputs": [],
   "source": [
    "sexo_mayoritario = postulaciones.groupby(['idaviso','sexo'],as_index=False).count()\n",
    "sexo_mayoritario.head()"
   ]
  },
  {
   "cell_type": "code",
   "execution_count": null,
   "metadata": {},
   "outputs": [],
   "source": [
    "sexo_mayoritario = sexo_mayoritario.join(pd.get_dummies(sexo_mayoritario['sexo']))"
   ]
  },
  {
   "cell_type": "code",
   "execution_count": null,
   "metadata": {},
   "outputs": [],
   "source": [
    "sexo_mayoritario['FEM'] = sexo_mayoritario.apply(lambda x: x['idpostulante'] if x['sexo']=='FEM' else 0,axis=1)\n",
    "sexo_mayoritario['MASC'] = sexo_mayoritario.apply(lambda x: x['idpostulante'] if x['sexo']=='MASC' else 0,axis=1)\n",
    "sexo_mayoritario['NO_DECLARA'] = sexo_mayoritario.apply(lambda x: x['idpostulante'] if x['sexo']=='NO_DECLARA' else 0,axis=1)"
   ]
  },
  {
   "cell_type": "code",
   "execution_count": null,
   "metadata": {},
   "outputs": [],
   "source": [
    "sexo_mayoritario = sexo_mayoritario[['idaviso','FEM','MASC','NO_DECLARA']]\n",
    "sexo_mayoritario = sexo_mayoritario.groupby(['idaviso'])['FEM','MASC','NO_DECLARA'].sum()\n",
    "sexo_mayoritario.head()"
   ]
  },
  {
   "cell_type": "code",
   "execution_count": null,
   "metadata": {},
   "outputs": [],
   "source": [
    "def mayor(F,M,N):\n",
    "    suma = F+M+N\n",
    "    if (F/suma > 1.3 * M/suma):\n",
    "        return 'FEM'\n",
    "    if (M/suma > 1.3 * F/suma):\n",
    "        return 'MASC'\n",
    "    return 'NULL'"
   ]
  },
  {
   "cell_type": "code",
   "execution_count": null,
   "metadata": {},
   "outputs": [],
   "source": [
    "sexo_mayoritario['TendenciaSexo'] = sexo_mayoritario.apply(lambda x: mayor(x['FEM'],x['MASC'],x['NO_DECLARA']), axis=1)"
   ]
  },
  {
   "cell_type": "code",
   "execution_count": null,
   "metadata": {},
   "outputs": [],
   "source": [
    "sexo_mayoritario.head()"
   ]
  },
  {
   "cell_type": "code",
   "execution_count": null,
   "metadata": {},
   "outputs": [],
   "source": [
    "sexo_mayoritario.reset_index(inplace=True)"
   ]
  },
  {
   "cell_type": "code",
   "execution_count": null,
   "metadata": {},
   "outputs": [],
   "source": [
    "sexo_mayoritario.head()"
   ]
  },
  {
   "cell_type": "code",
   "execution_count": null,
   "metadata": {},
   "outputs": [],
   "source": [
    "prom_edad.reset_index(inplace=True)\n",
    "prom_edad.head()"
   ]
  },
  {
   "cell_type": "code",
   "execution_count": null,
   "metadata": {},
   "outputs": [],
   "source": [
    "sexo_mayoritario = sexo_mayoritario.merge(prom_edad,on='idaviso',how='outer')\n",
    "sexo_mayoritario.head()"
   ]
  },
  {
   "cell_type": "code",
   "execution_count": null,
   "metadata": {},
   "outputs": [],
   "source": [
    "sexo_mayoritario = sexo_mayoritario[['idaviso','FEM','MASC','NO_DECLARA','TendenciaSexo','fechanacimiento']]\n",
    "sexo_mayoritario.rename(columns={'fechanacimiento':'prom_edad'},inplace=True)\n",
    "sexo_mayoritario.head()"
   ]
  },
  {
   "cell_type": "code",
   "execution_count": null,
   "metadata": {},
   "outputs": [],
   "source": [
    "sexo_mayoritario.to_csv('Sources/mas_features.csv')"
   ]
  }
 ],
 "metadata": {
  "kernelspec": {
   "display_name": "Python 3",
   "language": "python",
   "name": "python3"
  },
  "language_info": {
   "codemirror_mode": {
    "name": "ipython",
    "version": 3
   },
   "file_extension": ".py",
   "mimetype": "text/x-python",
   "name": "python",
   "nbconvert_exporter": "python",
   "pygments_lexer": "ipython3",
   "version": "3.6.4"
  }
 },
 "nbformat": 4,
 "nbformat_minor": 2
}
