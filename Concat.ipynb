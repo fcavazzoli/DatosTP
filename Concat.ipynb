{
 "cells": [
  {
   "cell_type": "markdown",
   "metadata": {},
   "source": [
    "# Concat\n",
    "### Uso este programa para concatenar los datos viejos con los nuevos y guardarlos"
   ]
  },
  {
   "cell_type": "code",
   "execution_count": 1,
   "metadata": {},
   "outputs": [],
   "source": [
    "import pandas as pd"
   ]
  },
  {
   "cell_type": "code",
   "execution_count": 2,
   "metadata": {},
   "outputs": [],
   "source": [
    "postulantes_educacion = pd.read_csv('Sources/fiuba_1_postulantes_educacion.csv')\n",
    "postulantes_genero = pd.read_csv('Sources/fiuba_2_postulantes_genero_y_edad.csv')\n",
    "visitas = pd.read_csv('Sources/fiuba_3_vistas.csv')\n",
    "postulaciones = pd.read_csv('Sources/fiuba_4_postulaciones.csv')\n",
    "avisos = pd.read_csv('Sources/fiuba_5_avisos_online.csv')\n",
    "avisos_detalles = pd.read_csv('Sources/fiuba_6_avisos_detalle.csv')"
   ]
  },
  {
   "cell_type": "code",
   "execution_count": 3,
   "metadata": {},
   "outputs": [],
   "source": [
    "avisos_detalles_15 = pd.read_csv('Sources/fiuba_6_avisos_detalle_15.csv')\n",
    "visitas_15 = pd.read_csv('Sources/fiuba_3_vistas_15.csv')\n",
    "postulantes_educacion_15 = pd.read_csv('Sources/fiuba_1_postulantes_educacion_15.csv')\n",
    "postulantes_genero_15 = pd.read_csv('Sources/fiuba_2_postulantes_genero_y_edad_15.csv')"
   ]
  },
  {
   "cell_type": "code",
   "execution_count": 4,
   "metadata": {},
   "outputs": [],
   "source": [
    "avisos_detalles_concat = pd.concat([avisos_detalles,avisos_detalles_15])"
   ]
  },
  {
   "cell_type": "code",
   "execution_count": 5,
   "metadata": {},
   "outputs": [],
   "source": [
    "visitas_concat = pd.concat([visitas,visitas_15])"
   ]
  },
  {
   "cell_type": "code",
   "execution_count": 6,
   "metadata": {},
   "outputs": [],
   "source": [
    "postulantes_educacion_concat = pd.concat([postulantes_educacion,postulantes_educacion_15])"
   ]
  },
  {
   "cell_type": "code",
   "execution_count": 7,
   "metadata": {},
   "outputs": [],
   "source": [
    "postulantes_genero_concat = pd.concat([postulantes_genero,postulantes_genero_15])"
   ]
  },
  {
   "cell_type": "code",
   "execution_count": 8,
   "metadata": {},
   "outputs": [],
   "source": [
    "avisos_detalles_concat.to_csv('Sources/fiuba_6_avisos_detalle_concat.csv')\n",
    "visitas_concat.to_csv('Sources/fiuba_3_vistas_concat.csv')\n",
    "postulantes_educacion_concat.to_csv('Sources/fiuba_1_postulantes_educacion_concat.csv')"
   ]
  },
  {
   "cell_type": "code",
   "execution_count": 9,
   "metadata": {},
   "outputs": [],
   "source": [
    "postulantes_genero_concat.to_csv('Sources/fiuba_2_postulantes_genero_y_edad_concat.csv')"
   ]
  },
  {
   "cell_type": "code",
   "execution_count": null,
   "metadata": {},
   "outputs": [],
   "source": []
  }
 ],
 "metadata": {
  "kernelspec": {
   "display_name": "Python 3",
   "language": "python",
   "name": "python3"
  },
  "language_info": {
   "codemirror_mode": {
    "name": "ipython",
    "version": 3
   },
   "file_extension": ".py",
   "mimetype": "text/x-python",
   "name": "python",
   "nbconvert_exporter": "python",
   "pygments_lexer": "ipython3",
   "version": "3.6.4"
  }
 },
 "nbformat": 4,
 "nbformat_minor": 2
}
