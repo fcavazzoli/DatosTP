{
 "cells": [
  {
   "cell_type": "markdown",
   "metadata": {},
   "source": [
    "# Concat\n",
    "### Uso este programa para concatenar los datos viejos con los nuevos y guardarlos"
   ]
  },
  {
   "cell_type": "code",
   "execution_count": null,
   "metadata": {},
   "outputs": [],
   "source": [
    "import pandas as pd"
   ]
  },
  {
   "cell_type": "code",
   "execution_count": null,
   "metadata": {},
   "outputs": [],
   "source": [
    "postulantes_educacion = pd.read_csv('Sources/fiuba_1_postulantes_educacion.csv')\n",
    "postulantes_educacion_15 = pd.read_csv('Sources/fiuba_1_postulantes_educacion_15.csv')\n",
    "postulantes_educacion_navent = pd.read_csv('Sources/fiuba_1_postulantes_educacion_navent.csv')\n",
    "postulantes_educacion = pd.concat([postulantes_educacion,postulantes_educacion_15,postulantes_educacion_navent])\n",
    "postulantes_educacion.to_csv('Sources/fiuba_1_postulantes_educacion_concat.csv')\n",
    "postulantes_educacion = None\n",
    "postulantes_educacion_15 = None\n",
    "postulantes_educacion_navent = None"
   ]
  },
  {
   "cell_type": "code",
   "execution_count": null,
   "metadata": {},
   "outputs": [],
   "source": [
    "postulantes_genero = pd.read_csv('Sources/fiuba_2_postulantes_genero_y_edad.csv')\n",
    "postulantes_genero_15 = pd.read_csv('Sources/fiuba_2_postulantes_genero_y_edad_15.csv')\n",
    "postulantes_genero_navent = pd.read_csv('Sources/fiuba_2_postulantes_genero_y_edad_navent.csv')\n",
    "postulantes_genero = pd.concat([postulantes_genero,postulantes_genero_15,postulantes_genero_navent])\n",
    "postulantes_genero = postulantes_genero.drop_duplicates(['idpostulante'])\n",
    "postulantes_genero.to_csv('Sources/fiuba_2_postulantes_genero_y_edad_concat.csv')\n",
    "postulantes_genero = None\n",
    "postulantes_genero_15 = None\n",
    "postulantes_genero_navent = None"
   ]
  },
  {
   "cell_type": "code",
   "execution_count": null,
   "metadata": {},
   "outputs": [],
   "source": [
    "visitas = pd.read_csv('Sources/fiuba_3_vistas.csv')\n",
    "visitas_15 = pd.read_csv('Sources/fiuba_3_vistas_15.csv')\n",
    "visitas_navent = pd.read_csv('Sources/fiuba_3_vistas_navent.csv')\n",
    "visitas = pd.concat([visitas,visitas_15,visitas_navent])\n",
    "visitas.drop_duplicates(subset=['idaviso','idpostulante'])\n",
    "visitas.to_csv('Sources/fiuba_3_vistas_concat.csv')\n",
    "visitas = None\n",
    "visitas_15 = None"
   ]
  },
  {
   "cell_type": "code",
   "execution_count": null,
   "metadata": {},
   "outputs": [],
   "source": [
    "postulaciones = pd.read_csv('Sources/fiuba_4_postulaciones.csv')\n",
    "postulaciones_navent = pd.read_csv('Sources/fiuba_4_postulaciones_navent.csv')\n",
    "postulaciones = pd.concat([postulaciones,postulaciones_navent])\n",
    "postulaciones.drop_duplicates(subset=['idaviso','idpostulante'])\n",
    "postulaciones.to_csv('Sources/fiuba_4_postulaciones_concat.csv')\n",
    "postulaciones = None\n",
    "postulaciones_navent = None"
   ]
  },
  {
   "cell_type": "code",
   "execution_count": null,
   "metadata": {},
   "outputs": [],
   "source": [
    "avisos = pd.read_csv('Sources/fiuba_5_avisos_online.csv')\n",
    "avisos_navent = pd.read_csv('Sources/fiuba_5_avisos_online_navent.csv')\n",
    "avisos = pd.concat([avisos,avisos_navent])\n",
    "avisos.to_csv('Sources/fiuba_5_avisos_concat.csv')\n",
    "avisos = None\n",
    "avisos_navent = None"
   ]
  },
  {
   "cell_type": "code",
   "execution_count": null,
   "metadata": {},
   "outputs": [],
   "source": [
    "avisos_detalles = pd.read_csv('Sources/fiuba_6_avisos_detalle.csv')\n",
    "avisos_detalles_15 = pd.read_csv('Sources/fiuba_6_avisos_detalle_15.csv')\n",
    "aviso_detalles_x = pd.read_csv('Sources/fiuba_6_avisos_detalle_missing_nivel_laboral.csv')\n",
    "aviso_detalles_navent = pd.read_csv('Sources/fiuba_6_avisos_detalle_navent.csv')\n",
    "avisos_detalles = pd.concat([avisos_detalles,avisos_detalles_15, aviso_detalles_x,aviso_detalles_navent])\n",
    "avisos_detalles = avisos_detalles.drop_duplicates(subset='idaviso')\n",
    "avisos_detalles.to_csv('Sources/fiuba_6_avisos_detalle_concat.csv')\n",
    "avisos_detalles = None\n",
    "avisos_detalles_15 = None\n",
    "aviso_detalles_x = None"
   ]
  },
  {
   "cell_type": "code",
   "execution_count": null,
   "metadata": {},
   "outputs": [],
   "source": []
  }
 ],
 "metadata": {
  "kernelspec": {
   "display_name": "Python 3",
   "language": "python",
   "name": "python3"
  },
  "language_info": {
   "codemirror_mode": {
    "name": "ipython",
    "version": 3
   },
   "file_extension": ".py",
   "mimetype": "text/x-python",
   "name": "python",
   "nbconvert_exporter": "python",
   "pygments_lexer": "ipython3",
   "version": "3.6.4"
  }
 },
 "nbformat": 4,
 "nbformat_minor": 2
}
